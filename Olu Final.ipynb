{
 "cells": [
  {
   "cell_type": "code",
   "execution_count": 824,
   "metadata": {
    "collapsed": true,
    "ExecuteTime": {
     "start_time": "2023-04-21T15:23:26.753960Z",
     "end_time": "2023-04-21T15:23:26.821944Z"
    }
   },
   "outputs": [],
   "source": [
    "import pandas as pd\n",
    "import numpy as np\n",
    "import matplotlib.pyplot as plt\n",
    "import seaborn as sns\n"
   ]
  },
  {
   "cell_type": "markdown",
   "source": [],
   "metadata": {
    "collapsed": false
   }
  },
  {
   "cell_type": "code",
   "execution_count": 825,
   "outputs": [],
   "source": [
    "# import the dataset\n",
    "df = pd.read_csv('data/Aviation_Data.csv', low_memory=False)"
   ],
   "metadata": {
    "collapsed": false,
    "ExecuteTime": {
     "start_time": "2023-04-21T15:23:26.757234Z",
     "end_time": "2023-04-21T15:23:27.275535Z"
    }
   }
  },
  {
   "cell_type": "code",
   "execution_count": 826,
   "outputs": [],
   "source": [
    "# remove all 'Make' values that occur less than 20 times\n",
    "df = df[df.groupby('Make')['Make'].transform('count') > 20]"
   ],
   "metadata": {
    "collapsed": false,
    "ExecuteTime": {
     "start_time": "2023-04-21T15:23:27.287734Z",
     "end_time": "2023-04-21T15:23:27.319466Z"
    }
   }
  },
  {
   "cell_type": "code",
   "execution_count": 827,
   "outputs": [],
   "source": [
    "# Define a function to normalize the 'Make' values\n",
    "def normalize_make(make):\n",
    "    if isinstance(make, str):\n",
    "        return make.lower().strip()\n",
    "    return make\n",
    "\n",
    "# Define a function to standardize and clean the 'Make' values\n",
    "def clean_make(make):\n",
    "    if isinstance(make, str):\n",
    "        replacements = {\n",
    "            \"beechcraft\": \"beech\",\n",
    "            \"cessna aircraft co\": \"cessna\",\n",
    "            \"robinson helicopter\": \"robinson\",\n",
    "            \"robinson helicopter co\": \"robinson\",\n",
    "            \"robinson helicopter company\": \"robinson\",\n",
    "            \"air tractor inc\": \"air tractor\",\n",
    "            \"airbus industrie\": \"airbus\",\n",
    "            \"american champion aircraft\": \"american champion\",\n",
    "            \"american\": \"american champion\",\n",
    "            \"aviat aircraft inc\": \"aviat\",\n",
    "            \"bell helicopter textron canada\": \"bell\",\n",
    "            \"bell helicopter textron\": \"bell\",\n",
    "            \"boeing stearman\": \"boeing\",\n",
    "            \"bombardier inc\": \"bombardier\",\n",
    "            \"bombardier, inc.\": \"bombardier\",\n",
    "            \"cameron\": \"cameron balloons\",\n",
    "            \"cirrus\": \"cirrus design corp\",\n",
    "            \"cirrus design corp.\": \"cirrus design corp\",\n",
    "            \"dehavilland\": \"de havilland\",\n",
    "            \"diamond\": \"diamond aircraft industries\",\n",
    "            \"diamond aircraft ind inc\": \"diamond aircraft industries\",\n",
    "            \"eurocopter france\": \"eurocopter\",\n",
    "            \"fairchild\": \"fairchild hiller\",\n",
    "            \"grumman acft eng cor-schweizer\": \"grumman\",\n",
    "            \"grumman american avn. corp.\": \"grumman\",\n",
    "            \"grumman-schweizer\": \"grumman\",\n",
    "            \"learjet\": \"gates learjet\",\n",
    "            \"Gates Lear Jet\": \"gates learjet\",\n",
    "            \"GATES LEARJET CORP.\": \"gates learjet\",\n",
    "            \"gulfstream american\": \"gulfstream\",\n",
    "            \"gulfstream-schweizer\": \"gulfstream\",\n",
    "            \"mcdonnell douglas\": \"mcdonnell douglas helicopter\",\n",
    "            \"md helicopter\": \"mcdonnell douglas helicopter\",\n",
    "            \"mooney aircraft corp.\": \"mooney\",\n",
    "            \"piper aircraft inc\": \"piper\",\n",
    "            \"robinson company\": \"robinson\",\n",
    "            \"robinson co\": \"robinson\",\n",
    "            \"rockwell international\": \"rockwell\",\n",
    "            \"smith\": \"smith, ted aerostar\",\n",
    "            \"vans aircraft\": \"vans\",\n",
    "            \"ayres corporation\": \"ayres\",\n",
    "            \"cirrus design corp\": \"cirrus\",\n",
    "            \"grumman american\": \"grumman\",\n",
    "            \"texas helicopter\": \"texas helicopter corp\",\n",
    "            \"taylorcraft\": \"taylorcraft aviation\",\n",
    "            \"raytheon aircraft company\": \"raytheon\",\n",
    "            \"bae systems (operations) limited\": \"british aerospace\",\n",
    "            \"bae\": \"british aerospace\",\n",
    "            \"british aerospace civil aircr\": \"british aerospace\",\n",
    "            \"the boeing company\": \"boeing\",\n",
    "            \"boeing company\": \"boeing\",\n",
    "            \"boeing company, long beach div\": \"boeing\",\n",
    "            \"canadair\": \"bombardier\",\n",
    "            \"bombardier inc.\": \"bombardier\",\n",
    "            \"bombadier, inc.\": \"bombardier\",\n",
    "            \"dassault\": \"dassault aviation\",\n",
    "            \"embraer-empresa brasileira de\": \"embraer\",\n",
    "            \"embraer s.a.\": \"embraer\",\n",
    "            \"embraer sa\": \"embraer\",\n",
    "        }\n",
    "\n",
    "        if make in replacements:\n",
    "            make = replacements[make]\n",
    "\n",
    "        # Remove extra information\n",
    "        make = make.split(\"(\")[0].strip()\n",
    "        make = make.split(\" \")[0].strip() if \"ab (saab)\" in make else make\n",
    "\n",
    "    return make\n"
   ],
   "metadata": {
    "collapsed": false,
    "ExecuteTime": {
     "start_time": "2023-04-21T15:23:27.320033Z",
     "end_time": "2023-04-21T15:23:27.328020Z"
    }
   }
  },
  {
   "cell_type": "code",
   "execution_count": 828,
   "outputs": [],
   "source": [
    "# Apply the normalize_make function to the 'Make' column\n",
    "df['Make'] = df['Make'].apply(normalize_make)\n",
    "\n",
    "# Apply the clean_make function to the 'Make' column\n",
    "df['Make'] = df['Make'].apply(clean_make)\n",
    "\n",
    "# remove any value of 'unknown' in the 'Make' column\n",
    "df = df[df['Make'] != 'unknown']"
   ],
   "metadata": {
    "collapsed": false,
    "ExecuteTime": {
     "start_time": "2023-04-21T15:23:27.347152Z",
     "end_time": "2023-04-21T15:23:27.492630Z"
    }
   }
  },
  {
   "cell_type": "code",
   "execution_count": 829,
   "outputs": [
    {
     "data": {
      "text/plain": "cessna               27173\npiper                14897\nbeech                 5397\nboeing                2796\nbell                  2766\n                     ...  \ndassault aviation       23\ngarlick                 22\nbarnes                  22\npzl-mielec              22\ntemco                   21\nName: Make, Length: 117, dtype: int64"
     },
     "execution_count": 829,
     "metadata": {},
     "output_type": "execute_result"
    }
   ],
   "source": [
    "# print the number of times each 'Make' value occurs\n",
    "df['Make'].value_counts()"
   ],
   "metadata": {
    "collapsed": false,
    "ExecuteTime": {
     "start_time": "2023-04-21T15:23:27.502687Z",
     "end_time": "2023-04-21T15:23:27.511915Z"
    }
   }
  },
  {
   "cell_type": "code",
   "execution_count": 830,
   "outputs": [],
   "source": [
    "# Define a function to standardize and clean the 'Model' values\n",
    "def clean_model(model):\n",
    "    if isinstance(model, str):\n",
    "        replacements = {\n",
    "            \"1124A\": \"1124\",\n",
    "            \"1125 WESTWIND ASTRA\": \"1125\",\n",
    "            \"35A-300\": \"35A\",\n",
    "            \"AVRO  146\": \"AVRO 146\",\n",
    "            \"AVRO 146-RJ70A\": \"AVRO 146\",\n",
    "            \"AVRO 146-RJ85\": \"AVRO 146\",\n",
    "            \"AVRO146RJ - 100\": \"AVRO 146\",\n",
    "            \"Beechjet 400A\": \"Beechjet 400\",\n",
    "\n",
    "\n",
    "\n",
    "\n",
    "        }\n",
    "\n",
    "        if model in replacements:\n",
    "            model = replacements[model]\n",
    "\n",
    "        # Remove extra information\n",
    "        model = model.split(\"(\")[0].strip()\n",
    "        model = model.split(\" \")[0].strip() if \"ab (saab)\" in model else model\n",
    "\n",
    "    return model"
   ],
   "metadata": {
    "collapsed": false,
    "ExecuteTime": {
     "start_time": "2023-04-21T15:23:27.515117Z",
     "end_time": "2023-04-21T15:23:27.519549Z"
    }
   }
  },
  {
   "cell_type": "code",
   "execution_count": 831,
   "outputs": [],
   "source": [
    "# Boeing Model Name Cleaner\n",
    "# go through each row in the 'Model' column, if the value in the corresponding row in the 'Make' column is 'boeing' or 'Boeing'\n",
    "# check if the value in the 'Model' column is BOEING\n",
    "# if is BOEING, remove 'BOEING' and the following white space after 'BOEING', then save the next 3 characters\n",
    "# as the value in the 'Model' column.\n",
    "# for example: BOEING 737-33A becomes 737\n",
    "# if the value in the 'Model' column is not BOEING, remove all 'B' characters and all '-' characters from the value in the 'Model' column\n",
    "# after removing all 'B' characters and all '-' characters,\n",
    "# then truncate the value in the 'Model' column to the first 3 characters (for example: 777-223 becomes 777)\n",
    "df.loc[df['Make'].str.lower() == 'boeing', 'Model'] = df.loc[df['Make'].str.lower() == 'boeing', 'Model'].apply(lambda x: str(x)[7:10] if str(x).upper() == 'BOEING' else str(x).replace('B', '').replace('-', '')[:3])\n",
    "\n",
    "\n",
    "\n",
    "\n",
    "\n"
   ],
   "metadata": {
    "collapsed": false,
    "ExecuteTime": {
     "start_time": "2023-04-21T15:23:27.548668Z",
     "end_time": "2023-04-21T15:23:27.573945Z"
    }
   }
  },
  {
   "cell_type": "code",
   "execution_count": 832,
   "outputs": [],
   "source": [
    "# Airbus Model Name Cleaner\n",
    "# go through each row in the 'Model' column, if the value in the corresponding row in the 'Make' column is 'airbus' or 'Airbus'\n",
    "# check if the first 5 characters of the value in the 'Model' column is 'A-XXX\n",
    "# where XXX is any 3 digit number\n",
    "# if so, then truncate the value in the 'Model' column to the first 5 characters\n",
    "df.loc[df['Make'] == 'airbus', 'Model'] = df.loc[df['Make'] == 'airbus', 'Model'].apply(lambda x: x[:5] if x[:5] == 'A-XXX' else x)\n",
    "# if not, then check if the first 4 characters of the value in the 'Model' column is 'AXXX'\n",
    "# where XXX is any 3 digit number\n",
    "# if so, then change the value in the 'Model' column to 'A-XXX'\n",
    "df.loc[df['Make'] == 'airbus', 'Model'] = df.loc[df['Make'] == 'airbus', 'Model'].apply(lambda x: 'A-XXX' if x[:4] == 'AXXX' else x)\n"
   ],
   "metadata": {
    "collapsed": false,
    "ExecuteTime": {
     "start_time": "2023-04-21T15:23:27.583338Z",
     "end_time": "2023-04-21T15:23:27.608574Z"
    }
   }
  },
  {
   "cell_type": "code",
   "execution_count": 833,
   "outputs": [],
   "source": [
    "# BAE Model Name Cleaner\n",
    "# go through each row in the 'Model' column, if the value in the corresponding row in the 'Make' column is 'British Aerospace'\n",
    "# check if the first characters of the value in the 'Model' column is 'BAE 146' or 'BAe 146' or 'BAE-146'\n",
    "# if so, then change the value in the 'Model' column to 'BAE 146'\n",
    "df.loc[df['Make'] == 'british aerospace', 'Model'] = df.loc[df['Make'] == 'british aerospace', 'Model'].apply(lambda x: 'BAE 146' if x[:8] == 'BAE 146' or x[:8] == 'BAe 146' or x[:8] == 'BAE-146' else x)\n",
    "\n",
    "# now go through each row in the 'Model' column, if the value in the corresponding row in the 'Make' column is 'British Aerospace'\n",
    "# check if the first characters of the value in the 'Model' column is 'BAE 125'\n",
    "# if so, then change the value in the 'Model' column to 'BAE 125'\n",
    "df.loc[df['Make'] == 'british aerospace', 'Model'] = df.loc[df['Make'] == 'british aerospace', 'Model'].apply(lambda x: 'BAE 125' if x[:8] == 'BAE 125' else x)"
   ],
   "metadata": {
    "collapsed": false,
    "ExecuteTime": {
     "start_time": "2023-04-21T15:23:27.614025Z",
     "end_time": "2023-04-21T15:23:27.634469Z"
    }
   }
  },
  {
   "cell_type": "code",
   "execution_count": 834,
   "outputs": [],
   "source": [
    "# Bombardier Model Name Cleaner\n",
    "# go through each row in the 'Model' column, if the value in the corresponding row in the 'Make' column is 'Bombardier',\n",
    "# process these values in the 'Model' column: BD 100-1A10,change these values to BD-100\n",
    "# process these values in the 'Model' column: BD 700 1A10, BD700 1A10; change these values to BD-700\n",
    "# process these values in the 'Model' column: CL 600 2A12, CL 600 2B16, CL 600 2B19, CL 600 2C10, CL-600-2B16, CL-600-2B19, CL-600-2C10, CL600 2B19, CL600 2D24, CL600-2B19-200; change these values to CL-600\n",
    "df.loc[df['Make'] == 'bombardier', 'Model'] = df.loc[df['Make'] == 'bombardier', 'Model'].apply(lambda x: 'BD-100' if x == 'BD 100-1A10' or x == 'BD-100-1A10' or x == 'BD-100-1A10' or x == 'BD-100-1A10' else x)\n",
    "\n"
   ],
   "metadata": {
    "collapsed": false,
    "ExecuteTime": {
     "start_time": "2023-04-21T15:23:27.642429Z",
     "end_time": "2023-04-21T15:23:27.651895Z"
    }
   }
  },
  {
   "cell_type": "code",
   "execution_count": 835,
   "outputs": [],
   "source": [
    "# Embraer Model Name Cleaner\n",
    "# go through each row in the 'Model' column, if the value in the corresponding row in the 'Make' column is 'Embraer',"
   ],
   "metadata": {
    "collapsed": false,
    "ExecuteTime": {
     "start_time": "2023-04-21T15:23:27.652048Z",
     "end_time": "2023-04-21T15:23:27.653817Z"
    }
   }
  },
  {
   "cell_type": "code",
   "execution_count": 836,
   "outputs": [],
   "source": [
    "# Lockheed Model Name Cleaner\n",
    "# go through each row in the 'Model' column, if the value in the corresponding row in the 'Make' column is 'Lockheed',\n",
    "# if the value matches '1329-23E' or '1329-25', take no action,\n",
    "# otherwise update the value to L-1011\n",
    "df.loc[df['Make'] == 'lockheed', 'Model'] = df.loc[df['Make'] == 'lockheed', 'Model'].apply(lambda x: x if x == '1329-23E' or x == '1329-25' else 'L-1011')\n"
   ],
   "metadata": {
    "collapsed": false,
    "ExecuteTime": {
     "start_time": "2023-04-21T15:23:27.662774Z",
     "end_time": "2023-04-21T15:23:27.670948Z"
    }
   }
  },
  {
   "cell_type": "code",
   "execution_count": 836,
   "outputs": [],
   "source": [],
   "metadata": {
    "collapsed": false,
    "ExecuteTime": {
     "start_time": "2023-04-21T15:23:27.672729Z",
     "end_time": "2023-04-21T15:23:27.674882Z"
    }
   }
  },
  {
   "cell_type": "code",
   "execution_count": 837,
   "outputs": [
    {
     "data": {
      "text/plain": "         Event.Id Investigation.Type Accident.Number  Event.Date  \\\n0  20001218X45444           Accident      SEA87LA080  1948-10-24   \n1  20001218X45447           Accident      LAX94LA336  1962-07-19   \n2  20061025X01555           Accident      NYC07LA005  1974-08-30   \n3  20001218X45448           Accident      LAX96LA321  1977-06-19   \n4  20041105X01764           Accident      CHI79FA064  1979-08-02   \n\n          Location        Country   Latitude   Longitude Airport.Code  \\\n0  MOOSE CREEK, ID  United States        NaN         NaN          NaN   \n1   BRIDGEPORT, CA  United States        NaN         NaN          NaN   \n2    Saltville, VA  United States  36.922223  -81.878056          NaN   \n3       EUREKA, CA  United States        NaN         NaN          NaN   \n4       Canton, OH  United States        NaN         NaN          NaN   \n\n  Airport.Name  ... Purpose.of.flight Air.carrier Total.Fatal.Injuries  \\\n0          NaN  ...          Personal         NaN                  2.0   \n1          NaN  ...          Personal         NaN                  4.0   \n2          NaN  ...          Personal         NaN                  3.0   \n3          NaN  ...          Personal         NaN                  2.0   \n4          NaN  ...          Personal         NaN                  1.0   \n\n  Total.Serious.Injuries Total.Minor.Injuries Total.Uninjured  \\\n0                    0.0                  0.0             0.0   \n1                    0.0                  0.0             0.0   \n2                    NaN                  NaN             NaN   \n3                    0.0                  0.0             0.0   \n4                    2.0                  NaN             0.0   \n\n  Weather.Condition  Broad.phase.of.flight   Report.Status Publication.Date  \n0               UNK                 Cruise  Probable Cause              NaN  \n1               UNK                Unknown  Probable Cause       19-09-1996  \n2               IMC                 Cruise  Probable Cause       26-02-2007  \n3               IMC                 Cruise  Probable Cause       12-09-2000  \n4               VMC               Approach  Probable Cause       16-04-1980  \n\n[5 rows x 31 columns]",
      "text/html": "<div>\n<style scoped>\n    .dataframe tbody tr th:only-of-type {\n        vertical-align: middle;\n    }\n\n    .dataframe tbody tr th {\n        vertical-align: top;\n    }\n\n    .dataframe thead th {\n        text-align: right;\n    }\n</style>\n<table border=\"1\" class=\"dataframe\">\n  <thead>\n    <tr style=\"text-align: right;\">\n      <th></th>\n      <th>Event.Id</th>\n      <th>Investigation.Type</th>\n      <th>Accident.Number</th>\n      <th>Event.Date</th>\n      <th>Location</th>\n      <th>Country</th>\n      <th>Latitude</th>\n      <th>Longitude</th>\n      <th>Airport.Code</th>\n      <th>Airport.Name</th>\n      <th>...</th>\n      <th>Purpose.of.flight</th>\n      <th>Air.carrier</th>\n      <th>Total.Fatal.Injuries</th>\n      <th>Total.Serious.Injuries</th>\n      <th>Total.Minor.Injuries</th>\n      <th>Total.Uninjured</th>\n      <th>Weather.Condition</th>\n      <th>Broad.phase.of.flight</th>\n      <th>Report.Status</th>\n      <th>Publication.Date</th>\n    </tr>\n  </thead>\n  <tbody>\n    <tr>\n      <th>0</th>\n      <td>20001218X45444</td>\n      <td>Accident</td>\n      <td>SEA87LA080</td>\n      <td>1948-10-24</td>\n      <td>MOOSE CREEK, ID</td>\n      <td>United States</td>\n      <td>NaN</td>\n      <td>NaN</td>\n      <td>NaN</td>\n      <td>NaN</td>\n      <td>...</td>\n      <td>Personal</td>\n      <td>NaN</td>\n      <td>2.0</td>\n      <td>0.0</td>\n      <td>0.0</td>\n      <td>0.0</td>\n      <td>UNK</td>\n      <td>Cruise</td>\n      <td>Probable Cause</td>\n      <td>NaN</td>\n    </tr>\n    <tr>\n      <th>1</th>\n      <td>20001218X45447</td>\n      <td>Accident</td>\n      <td>LAX94LA336</td>\n      <td>1962-07-19</td>\n      <td>BRIDGEPORT, CA</td>\n      <td>United States</td>\n      <td>NaN</td>\n      <td>NaN</td>\n      <td>NaN</td>\n      <td>NaN</td>\n      <td>...</td>\n      <td>Personal</td>\n      <td>NaN</td>\n      <td>4.0</td>\n      <td>0.0</td>\n      <td>0.0</td>\n      <td>0.0</td>\n      <td>UNK</td>\n      <td>Unknown</td>\n      <td>Probable Cause</td>\n      <td>19-09-1996</td>\n    </tr>\n    <tr>\n      <th>2</th>\n      <td>20061025X01555</td>\n      <td>Accident</td>\n      <td>NYC07LA005</td>\n      <td>1974-08-30</td>\n      <td>Saltville, VA</td>\n      <td>United States</td>\n      <td>36.922223</td>\n      <td>-81.878056</td>\n      <td>NaN</td>\n      <td>NaN</td>\n      <td>...</td>\n      <td>Personal</td>\n      <td>NaN</td>\n      <td>3.0</td>\n      <td>NaN</td>\n      <td>NaN</td>\n      <td>NaN</td>\n      <td>IMC</td>\n      <td>Cruise</td>\n      <td>Probable Cause</td>\n      <td>26-02-2007</td>\n    </tr>\n    <tr>\n      <th>3</th>\n      <td>20001218X45448</td>\n      <td>Accident</td>\n      <td>LAX96LA321</td>\n      <td>1977-06-19</td>\n      <td>EUREKA, CA</td>\n      <td>United States</td>\n      <td>NaN</td>\n      <td>NaN</td>\n      <td>NaN</td>\n      <td>NaN</td>\n      <td>...</td>\n      <td>Personal</td>\n      <td>NaN</td>\n      <td>2.0</td>\n      <td>0.0</td>\n      <td>0.0</td>\n      <td>0.0</td>\n      <td>IMC</td>\n      <td>Cruise</td>\n      <td>Probable Cause</td>\n      <td>12-09-2000</td>\n    </tr>\n    <tr>\n      <th>4</th>\n      <td>20041105X01764</td>\n      <td>Accident</td>\n      <td>CHI79FA064</td>\n      <td>1979-08-02</td>\n      <td>Canton, OH</td>\n      <td>United States</td>\n      <td>NaN</td>\n      <td>NaN</td>\n      <td>NaN</td>\n      <td>NaN</td>\n      <td>...</td>\n      <td>Personal</td>\n      <td>NaN</td>\n      <td>1.0</td>\n      <td>2.0</td>\n      <td>NaN</td>\n      <td>0.0</td>\n      <td>VMC</td>\n      <td>Approach</td>\n      <td>Probable Cause</td>\n      <td>16-04-1980</td>\n    </tr>\n  </tbody>\n</table>\n<p>5 rows × 31 columns</p>\n</div>"
     },
     "execution_count": 837,
     "metadata": {},
     "output_type": "execute_result"
    }
   ],
   "source": [
    "# testing to see that dataset still is intact after cleaning makes\n",
    "df.head()"
   ],
   "metadata": {
    "collapsed": false,
    "ExecuteTime": {
     "start_time": "2023-04-21T15:23:27.695720Z",
     "end_time": "2023-04-21T15:23:27.699884Z"
    }
   }
  },
  {
   "cell_type": "code",
   "execution_count": 838,
   "outputs": [
    {
     "data": {
      "text/plain": "             Event.Id Investigation.Type Accident.Number  Event.Date  \\\n5      20170710X52551           Accident      NYC79AA106  1979-09-17   \n79     20020917X01897           Incident      CHI82IA026  1982-01-12   \n84     20020917X01907           Accident      DCA82AA011  1982-01-13   \n155    20020917X01909           Accident      DCA82AA013  1982-01-23   \n344    20020917X02404           Accident      MIA82FA051  1982-02-17   \n...               ...                ...             ...         ...   \n88090  20210904103797           Accident      WPR21LA335  2021-09-03   \n88946  20220406104897           Accident      WPR22LA143  2022-04-02   \n89204  20220623105307           Accident      DCA22LA134  2022-05-22   \n89491  20220718105497           Accident      DCA22LA151  2022-07-02   \n89576  20220720105531           Accident      ERA22LA325  2022-07-15   \n\n                 Location        Country   Latitude   Longitude Airport.Code  \\\n5              BOSTON, MA  United States  42.445277  -70.758333          NaN   \n79            CHICAGO, IL  United States        NaN         NaN          ORD   \n84         WASHINGTON, DC  United States        NaN         NaN          NaN   \n155            BOSTON, MA  United States        NaN         NaN          NaN   \n344             MIAMI, FL  United States        NaN         NaN          MIA   \n...                   ...            ...        ...         ...          ...   \n88090  Salt Lake City, UT  United States    404718N    1115840W          SLC   \n88946        Van Nuys, CA  United States    034137N    1182932W          VNY   \n89204          Tacoma, WA  United States    047119N    1221625W          NaN   \n89491       Santa Ana, CA  United States    334033N    0117525W          sna   \n89576       Brunswick, GA  United States    311533N    0812759W          BQK   \n\n                         Airport.Name  ...    Purpose.of.flight  \\\n5                                 NaN  ...                  NaN   \n79             CHICAGO O'HARE INTER'L  ...              Unknown   \n84                WASHINGTON NATIONAL  ...              Unknown   \n155              BOSTON-LOGAN INTER'L  ...              Unknown   \n344               MIAMI INTERNATIONAL  ...              Unknown   \n...                               ...  ...                  ...   \n88090  Salt Lake City International A  ...              Unknown   \n88946                        Van Nuys  ...  Executive/corporate   \n89204                             NaN  ...                  NaN   \n89491  John Wayne Orange County Airpo  ...                  NaN   \n89576          BRUNSWICK GOLDEN ISLES  ...             Business   \n\n                          Air.carrier Total.Fatal.Injuries  \\\n5                          Air Canada                  NaN   \n79               Trans World Airlines                  0.0   \n84                   Air Florida, Inc                 78.0   \n155               World Airways, Inc.                  2.0   \n344    Pan American World Airways, In                  0.0   \n...                               ...                  ...   \n88090              Exclusive Jets LLC                  0.0   \n88946            SANCTUS AVIATION LLC                  0.0   \n89204           SOUTHWEST AIRLINES CO                  0.0   \n89491           SOUTHWEST AIRLINES CO                  0.0   \n89576        Aircraft Mgt. Group, Inc                  0.0   \n\n      Total.Serious.Injuries Total.Minor.Injuries Total.Uninjured  \\\n5                        NaN                  1.0            44.0   \n79                       0.0                  0.0           149.0   \n84                       6.0                  3.0             0.0   \n155                      4.0                 24.0           182.0   \n344                      1.0                  1.0            51.0   \n...                      ...                  ...             ...   \n88090                    0.0                  0.0             6.0   \n88946                    0.0                  0.0             8.0   \n89204                    1.0                  0.0            66.0   \n89491                    0.0                  1.0           141.0   \n89576                    0.0                  0.0             2.0   \n\n      Weather.Condition  Broad.phase.of.flight  \\\n5                   VMC                  Climb   \n79                  UNK                 Cruise   \n84                  IMC                Takeoff   \n155                 IMC                Landing   \n344                 VMC                Takeoff   \n...                 ...                    ...   \n88090               VMC                    NaN   \n88946               VMC                    NaN   \n89204               VMC                    NaN   \n89491               VMC                    NaN   \n89576               VMC                    NaN   \n\n                                           Report.Status Publication.Date  \n5                                         Probable Cause       19-09-2017  \n79                                        Probable Cause       12-01-1983  \n84                                        Probable Cause       13-01-1983  \n155                                       Probable Cause       23-01-1983  \n344                                       Probable Cause       17-02-1983  \n...                                                  ...              ...  \n88090  The airplanes impact with birds during approa...              NaN  \n88946  The student pilots failure to maintain suffic...       20-07-2022  \n89204  During cruise flight with no reported turbulen...              NaN  \n89491  A flight attendant received a serious injury d...              NaN  \n89576                An in-flight collision with a bird.       03-11-2022  \n\n[2287 rows x 31 columns]",
      "text/html": "<div>\n<style scoped>\n    .dataframe tbody tr th:only-of-type {\n        vertical-align: middle;\n    }\n\n    .dataframe tbody tr th {\n        vertical-align: top;\n    }\n\n    .dataframe thead th {\n        text-align: right;\n    }\n</style>\n<table border=\"1\" class=\"dataframe\">\n  <thead>\n    <tr style=\"text-align: right;\">\n      <th></th>\n      <th>Event.Id</th>\n      <th>Investigation.Type</th>\n      <th>Accident.Number</th>\n      <th>Event.Date</th>\n      <th>Location</th>\n      <th>Country</th>\n      <th>Latitude</th>\n      <th>Longitude</th>\n      <th>Airport.Code</th>\n      <th>Airport.Name</th>\n      <th>...</th>\n      <th>Purpose.of.flight</th>\n      <th>Air.carrier</th>\n      <th>Total.Fatal.Injuries</th>\n      <th>Total.Serious.Injuries</th>\n      <th>Total.Minor.Injuries</th>\n      <th>Total.Uninjured</th>\n      <th>Weather.Condition</th>\n      <th>Broad.phase.of.flight</th>\n      <th>Report.Status</th>\n      <th>Publication.Date</th>\n    </tr>\n  </thead>\n  <tbody>\n    <tr>\n      <th>5</th>\n      <td>20170710X52551</td>\n      <td>Accident</td>\n      <td>NYC79AA106</td>\n      <td>1979-09-17</td>\n      <td>BOSTON, MA</td>\n      <td>United States</td>\n      <td>42.445277</td>\n      <td>-70.758333</td>\n      <td>NaN</td>\n      <td>NaN</td>\n      <td>...</td>\n      <td>NaN</td>\n      <td>Air Canada</td>\n      <td>NaN</td>\n      <td>NaN</td>\n      <td>1.0</td>\n      <td>44.0</td>\n      <td>VMC</td>\n      <td>Climb</td>\n      <td>Probable Cause</td>\n      <td>19-09-2017</td>\n    </tr>\n    <tr>\n      <th>79</th>\n      <td>20020917X01897</td>\n      <td>Incident</td>\n      <td>CHI82IA026</td>\n      <td>1982-01-12</td>\n      <td>CHICAGO, IL</td>\n      <td>United States</td>\n      <td>NaN</td>\n      <td>NaN</td>\n      <td>ORD</td>\n      <td>CHICAGO O'HARE INTER'L</td>\n      <td>...</td>\n      <td>Unknown</td>\n      <td>Trans World Airlines</td>\n      <td>0.0</td>\n      <td>0.0</td>\n      <td>0.0</td>\n      <td>149.0</td>\n      <td>UNK</td>\n      <td>Cruise</td>\n      <td>Probable Cause</td>\n      <td>12-01-1983</td>\n    </tr>\n    <tr>\n      <th>84</th>\n      <td>20020917X01907</td>\n      <td>Accident</td>\n      <td>DCA82AA011</td>\n      <td>1982-01-13</td>\n      <td>WASHINGTON, DC</td>\n      <td>United States</td>\n      <td>NaN</td>\n      <td>NaN</td>\n      <td>NaN</td>\n      <td>WASHINGTON NATIONAL</td>\n      <td>...</td>\n      <td>Unknown</td>\n      <td>Air Florida, Inc</td>\n      <td>78.0</td>\n      <td>6.0</td>\n      <td>3.0</td>\n      <td>0.0</td>\n      <td>IMC</td>\n      <td>Takeoff</td>\n      <td>Probable Cause</td>\n      <td>13-01-1983</td>\n    </tr>\n    <tr>\n      <th>155</th>\n      <td>20020917X01909</td>\n      <td>Accident</td>\n      <td>DCA82AA013</td>\n      <td>1982-01-23</td>\n      <td>BOSTON, MA</td>\n      <td>United States</td>\n      <td>NaN</td>\n      <td>NaN</td>\n      <td>NaN</td>\n      <td>BOSTON-LOGAN INTER'L</td>\n      <td>...</td>\n      <td>Unknown</td>\n      <td>World Airways, Inc.</td>\n      <td>2.0</td>\n      <td>4.0</td>\n      <td>24.0</td>\n      <td>182.0</td>\n      <td>IMC</td>\n      <td>Landing</td>\n      <td>Probable Cause</td>\n      <td>23-01-1983</td>\n    </tr>\n    <tr>\n      <th>344</th>\n      <td>20020917X02404</td>\n      <td>Accident</td>\n      <td>MIA82FA051</td>\n      <td>1982-02-17</td>\n      <td>MIAMI, FL</td>\n      <td>United States</td>\n      <td>NaN</td>\n      <td>NaN</td>\n      <td>MIA</td>\n      <td>MIAMI INTERNATIONAL</td>\n      <td>...</td>\n      <td>Unknown</td>\n      <td>Pan American World Airways, In</td>\n      <td>0.0</td>\n      <td>1.0</td>\n      <td>1.0</td>\n      <td>51.0</td>\n      <td>VMC</td>\n      <td>Takeoff</td>\n      <td>Probable Cause</td>\n      <td>17-02-1983</td>\n    </tr>\n    <tr>\n      <th>...</th>\n      <td>...</td>\n      <td>...</td>\n      <td>...</td>\n      <td>...</td>\n      <td>...</td>\n      <td>...</td>\n      <td>...</td>\n      <td>...</td>\n      <td>...</td>\n      <td>...</td>\n      <td>...</td>\n      <td>...</td>\n      <td>...</td>\n      <td>...</td>\n      <td>...</td>\n      <td>...</td>\n      <td>...</td>\n      <td>...</td>\n      <td>...</td>\n      <td>...</td>\n      <td>...</td>\n    </tr>\n    <tr>\n      <th>88090</th>\n      <td>20210904103797</td>\n      <td>Accident</td>\n      <td>WPR21LA335</td>\n      <td>2021-09-03</td>\n      <td>Salt Lake City, UT</td>\n      <td>United States</td>\n      <td>404718N</td>\n      <td>1115840W</td>\n      <td>SLC</td>\n      <td>Salt Lake City International A</td>\n      <td>...</td>\n      <td>Unknown</td>\n      <td>Exclusive Jets LLC</td>\n      <td>0.0</td>\n      <td>0.0</td>\n      <td>0.0</td>\n      <td>6.0</td>\n      <td>VMC</td>\n      <td>NaN</td>\n      <td>The airplanes impact with birds during approa...</td>\n      <td>NaN</td>\n    </tr>\n    <tr>\n      <th>88946</th>\n      <td>20220406104897</td>\n      <td>Accident</td>\n      <td>WPR22LA143</td>\n      <td>2022-04-02</td>\n      <td>Van Nuys, CA</td>\n      <td>United States</td>\n      <td>034137N</td>\n      <td>1182932W</td>\n      <td>VNY</td>\n      <td>Van Nuys</td>\n      <td>...</td>\n      <td>Executive/corporate</td>\n      <td>SANCTUS AVIATION LLC</td>\n      <td>0.0</td>\n      <td>0.0</td>\n      <td>0.0</td>\n      <td>8.0</td>\n      <td>VMC</td>\n      <td>NaN</td>\n      <td>The student pilots failure to maintain suffic...</td>\n      <td>20-07-2022</td>\n    </tr>\n    <tr>\n      <th>89204</th>\n      <td>20220623105307</td>\n      <td>Accident</td>\n      <td>DCA22LA134</td>\n      <td>2022-05-22</td>\n      <td>Tacoma, WA</td>\n      <td>United States</td>\n      <td>047119N</td>\n      <td>1221625W</td>\n      <td>NaN</td>\n      <td>NaN</td>\n      <td>...</td>\n      <td>NaN</td>\n      <td>SOUTHWEST AIRLINES CO</td>\n      <td>0.0</td>\n      <td>1.0</td>\n      <td>0.0</td>\n      <td>66.0</td>\n      <td>VMC</td>\n      <td>NaN</td>\n      <td>During cruise flight with no reported turbulen...</td>\n      <td>NaN</td>\n    </tr>\n    <tr>\n      <th>89491</th>\n      <td>20220718105497</td>\n      <td>Accident</td>\n      <td>DCA22LA151</td>\n      <td>2022-07-02</td>\n      <td>Santa Ana, CA</td>\n      <td>United States</td>\n      <td>334033N</td>\n      <td>0117525W</td>\n      <td>sna</td>\n      <td>John Wayne Orange County Airpo</td>\n      <td>...</td>\n      <td>NaN</td>\n      <td>SOUTHWEST AIRLINES CO</td>\n      <td>0.0</td>\n      <td>0.0</td>\n      <td>1.0</td>\n      <td>141.0</td>\n      <td>VMC</td>\n      <td>NaN</td>\n      <td>A flight attendant received a serious injury d...</td>\n      <td>NaN</td>\n    </tr>\n    <tr>\n      <th>89576</th>\n      <td>20220720105531</td>\n      <td>Accident</td>\n      <td>ERA22LA325</td>\n      <td>2022-07-15</td>\n      <td>Brunswick, GA</td>\n      <td>United States</td>\n      <td>311533N</td>\n      <td>0812759W</td>\n      <td>BQK</td>\n      <td>BRUNSWICK GOLDEN ISLES</td>\n      <td>...</td>\n      <td>Business</td>\n      <td>Aircraft Mgt. Group, Inc</td>\n      <td>0.0</td>\n      <td>0.0</td>\n      <td>0.0</td>\n      <td>2.0</td>\n      <td>VMC</td>\n      <td>NaN</td>\n      <td>An in-flight collision with a bird.</td>\n      <td>03-11-2022</td>\n    </tr>\n  </tbody>\n</table>\n<p>2287 rows × 31 columns</p>\n</div>"
     },
     "execution_count": 838,
     "metadata": {},
     "output_type": "execute_result"
    }
   ],
   "source": [
    "# Only keep rows with a value of 'Turbo Fan' or 'Geared Turbofan' in the 'Engine.Type' column\n",
    "df = df[df['Engine.Type'].isin(['Turbo Fan', 'Geared Turbofan'])]\n",
    "df"
   ],
   "metadata": {
    "collapsed": false,
    "ExecuteTime": {
     "start_time": "2023-04-21T15:23:27.707755Z",
     "end_time": "2023-04-21T15:23:27.804938Z"
    }
   }
  },
  {
   "cell_type": "code",
   "execution_count": 839,
   "outputs": [
    {
     "data": {
      "text/plain": "<Figure size 1080x720 with 1 Axes>",
      "image/png": "[encoded data removed]"
     },
     "metadata": {},
     "output_type": "display_data"
    }
   ],
   "source": [
    "# finding the most common makes and models for each purpose of flight\n",
    "# Combine the desired categories into a single category called 'General Aviation'\n",
    "df['Combined.Purpose'] = df['Purpose.of.flight'].replace(\n",
    "    {'Business': 'General Aviation', 'Personal': 'General Aviation', 'Executive/corporate': 'General Aviation'})\n",
    "\n",
    "# Filter the dataset\n",
    "filtered_data = df[df['Combined.Purpose'] == 'General Aviation']\n",
    "\n",
    "# Group by combined purpose, make, and model, and count the occurrences\n",
    "grouped_data = filtered_data.groupby(['Combined.Purpose', 'Make', 'Model']).size().reset_index(name='Count')\n",
    "\n",
    "# Sort the data by count\n",
    "sorted_data = grouped_data.sort_values(['Count'], ascending=False)\n",
    "\n",
    "# Keep only the top N most common makes and models (e.g., top 10)\n",
    "top_n = 10\n",
    "top_makes_models = sorted_data.head(top_n).reset_index(drop=True)\n",
    "\n",
    "# Set the figure size and style\n",
    "plt.figure(figsize=(15, 10))\n",
    "sns.set_style(\"whitegrid\")\n",
    "\n",
    "# Create the bar chart\n",
    "bar_plot = sns.barplot(x='Make', y='Count', hue='Model', data=top_makes_models, dodge=False)\n",
    "\n",
    "# Customize the plot\n",
    "plt.title(\"Top 10 Most Common Aircraft Makes and Models for General Aviation\", fontsize=18)\n",
    "plt.xlabel(\"Make\", fontsize=15)\n",
    "plt.ylabel(\"Count\", fontsize=15)\n",
    "plt.xticks(rotation=45)\n",
    "plt.legend(title='Model', title_fontsize='13', loc='upper right')\n",
    "\n",
    "# Show the plot\n",
    "plt.show()\n",
    "\n"
   ],
   "metadata": {
    "collapsed": false,
    "ExecuteTime": {
     "start_time": "2023-04-21T15:23:27.736187Z",
     "end_time": "2023-04-21T15:23:27.978440Z"
    }
   }
  },
  {
   "cell_type": "code",
   "execution_count": 840,
   "outputs": [
    {
     "data": {
      "text/plain": "             Event.Id Investigation.Type Accident.Number  Event.Date  \\\n737    20020917X01902           Incident      CHI82IA112  1982-04-02   \n906    20020917X02479           Incident      MKC82IA059  1982-04-20   \n1489   20020917X03815           Accident      MKC82DA099  1982-06-08   \n3292   20020917X04492           Accident      DCA83AA005  1982-11-18   \n3620   20001214X41966           Accident      DCA83AA010  1983-01-03   \n...               ...                ...             ...         ...   \n85785  20200520X14844           Accident      CEN20LA185  2020-05-20   \n86143  20200723X40050           Accident      ERA20LA259  2020-07-22   \n87367  20210524103131           Accident      ERA21LA227  2021-05-02   \n88946  20220406104897           Accident      WPR22LA143  2022-04-02   \n89576  20220720105531           Accident      ERA22LA325  2022-07-15   \n\n                Location        Country Latitude Longitude Airport.Code  \\\n737          DETROIT, MI  United States      NaN       NaN          DTW   \n906        ST. LOUIS, MO  United States      NaN       NaN          STL   \n1489          TOPEKA, KS  United States      NaN       NaN          TOP   \n3292   MOUNTAIN VIEW, MO  United States      NaN       NaN          NaN   \n3620          HAILEY, ID  United States      NaN       NaN          SUN   \n...                  ...            ...      ...       ...          ...   \n85785        Houston, TX  United States  293845N  0951637W          HOU   \n86143     Montgomery, AL  United States  032185N  0862343W          MGM   \n87367     Charleston, SC  United States  324141N  0080011W          JZI   \n88946       Van Nuys, CA  United States  034137N  1182932W          VNY   \n89576      Brunswick, GA  United States  311533N  0812759W          BQK   \n\n                         Airport.Name  ...               Air.carrier  \\\n737                     DETROIT METRO  ...                       NaN   \n906            LAMBERT-ST. LOUIS INTL  ...                       NaN   \n1489                  PHILLIP BILLARD  ...                       NaN   \n3292             MOUTAIN VIEW AIRPORT  ...                       NaN   \n3620                FRIEDMAN MEMORIAL  ...                       NaN   \n...                               ...  ...                       ...   \n85785                 William P Hobby  ...                       NaN   \n86143  Montgomery Rgnl (Dannelly Fiel  ...                N425BJ LLC   \n87367                 CHARLESTON EXEC  ...          STB AVIATION LLC   \n88946                        Van Nuys  ...      SANCTUS AVIATION LLC   \n89576          BRUNSWICK GOLDEN ISLES  ...  Aircraft Mgt. Group, Inc   \n\n      Total.Fatal.Injuries Total.Serious.Injuries Total.Minor.Injuries  \\\n737                    0.0                    0.0                  0.0   \n906                    0.0                    0.0                  0.0   \n1489                   0.0                    1.0                  0.0   \n3292                   3.0                    0.0                  0.0   \n3620                   2.0                    0.0                  0.0   \n...                    ...                    ...                  ...   \n85785                  0.0                    0.0                  0.0   \n86143                  0.0                    0.0                  0.0   \n87367                  0.0                    0.0                  0.0   \n88946                  0.0                    0.0                  0.0   \n89576                  0.0                    0.0                  0.0   \n\n      Total.Uninjured Weather.Condition Broad.phase.of.flight  \\\n737               8.0               VMC                  Taxi   \n906               2.0               VMC              Approach   \n1489              1.0               VMC              Standing   \n3292              0.0               IMC               Takeoff   \n3620              0.0               VMC              Approach   \n...               ...               ...                   ...   \n85785             1.0               VMC                   NaN   \n86143             2.0               VMC                   NaN   \n87367             6.0               VMC                   NaN   \n88946             8.0               VMC                   NaN   \n89576             2.0               VMC                   NaN   \n\n                                           Report.Status Publication.Date  \\\n737                                       Probable Cause       02-04-1983   \n906                                       Probable Cause       20-04-1983   \n1489                                      Probable Cause       08-06-1983   \n3292                                      Probable Cause       18-11-1983   \n3620                                      Probable Cause              NaN   \n...                                                  ...              ...   \n85785                                                NaN       26-09-2020   \n86143                                                NaN       26-09-2020   \n87367  The airplane's impact with a deer during takeoff.              NaN   \n88946  The student pilots failure to maintain suffic...       20-07-2022   \n89576                An in-flight collision with a bird.       03-11-2022   \n\n       Combined.Purpose  \n737    General Aviation  \n906    General Aviation  \n1489   General Aviation  \n3292   General Aviation  \n3620   General Aviation  \n...                 ...  \n85785  General Aviation  \n86143  General Aviation  \n87367  General Aviation  \n88946  General Aviation  \n89576  General Aviation  \n\n[230 rows x 32 columns]",
      "text/html": "<div>\n<style scoped>\n    .dataframe tbody tr th:only-of-type {\n        vertical-align: middle;\n    }\n\n    .dataframe tbody tr th {\n        vertical-align: top;\n    }\n\n    .dataframe thead th {\n        text-align: right;\n    }\n</style>\n<table border=\"1\" class=\"dataframe\">\n  <thead>\n    <tr style=\"text-align: right;\">\n      <th></th>\n      <th>Event.Id</th>\n      <th>Investigation.Type</th>\n      <th>Accident.Number</th>\n      <th>Event.Date</th>\n      <th>Location</th>\n      <th>Country</th>\n      <th>Latitude</th>\n      <th>Longitude</th>\n      <th>Airport.Code</th>\n      <th>Airport.Name</th>\n      <th>...</th>\n      <th>Air.carrier</th>\n      <th>Total.Fatal.Injuries</th>\n      <th>Total.Serious.Injuries</th>\n      <th>Total.Minor.Injuries</th>\n      <th>Total.Uninjured</th>\n      <th>Weather.Condition</th>\n      <th>Broad.phase.of.flight</th>\n      <th>Report.Status</th>\n      <th>Publication.Date</th>\n      <th>Combined.Purpose</th>\n    </tr>\n  </thead>\n  <tbody>\n    <tr>\n      <th>737</th>\n      <td>20020917X01902</td>\n      <td>Incident</td>\n      <td>CHI82IA112</td>\n      <td>1982-04-02</td>\n      <td>DETROIT, MI</td>\n      <td>United States</td>\n      <td>NaN</td>\n      <td>NaN</td>\n      <td>DTW</td>\n      <td>DETROIT METRO</td>\n      <td>...</td>\n      <td>NaN</td>\n      <td>0.0</td>\n      <td>0.0</td>\n      <td>0.0</td>\n      <td>8.0</td>\n      <td>VMC</td>\n      <td>Taxi</td>\n      <td>Probable Cause</td>\n      <td>02-04-1983</td>\n      <td>General Aviation</td>\n    </tr>\n    <tr>\n      <th>906</th>\n      <td>20020917X02479</td>\n      <td>Incident</td>\n      <td>MKC82IA059</td>\n      <td>1982-04-20</td>\n      <td>ST. LOUIS, MO</td>\n      <td>United States</td>\n      <td>NaN</td>\n      <td>NaN</td>\n      <td>STL</td>\n      <td>LAMBERT-ST. LOUIS INTL</td>\n      <td>...</td>\n      <td>NaN</td>\n      <td>0.0</td>\n      <td>0.0</td>\n      <td>0.0</td>\n      <td>2.0</td>\n      <td>VMC</td>\n      <td>Approach</td>\n      <td>Probable Cause</td>\n      <td>20-04-1983</td>\n      <td>General Aviation</td>\n    </tr>\n    <tr>\n      <th>1489</th>\n      <td>20020917X03815</td>\n      <td>Accident</td>\n      <td>MKC82DA099</td>\n      <td>1982-06-08</td>\n      <td>TOPEKA, KS</td>\n      <td>United States</td>\n      <td>NaN</td>\n      <td>NaN</td>\n      <td>TOP</td>\n      <td>PHILLIP BILLARD</td>\n      <td>...</td>\n      <td>NaN</td>\n      <td>0.0</td>\n      <td>1.0</td>\n      <td>0.0</td>\n      <td>1.0</td>\n      <td>VMC</td>\n      <td>Standing</td>\n      <td>Probable Cause</td>\n      <td>08-06-1983</td>\n      <td>General Aviation</td>\n    </tr>\n    <tr>\n      <th>3292</th>\n      <td>20020917X04492</td>\n      <td>Accident</td>\n      <td>DCA83AA005</td>\n      <td>1982-11-18</td>\n      <td>MOUNTAIN VIEW, MO</td>\n      <td>United States</td>\n      <td>NaN</td>\n      <td>NaN</td>\n      <td>NaN</td>\n      <td>MOUTAIN VIEW AIRPORT</td>\n      <td>...</td>\n      <td>NaN</td>\n      <td>3.0</td>\n      <td>0.0</td>\n      <td>0.0</td>\n      <td>0.0</td>\n      <td>IMC</td>\n      <td>Takeoff</td>\n      <td>Probable Cause</td>\n      <td>18-11-1983</td>\n      <td>General Aviation</td>\n    </tr>\n    <tr>\n      <th>3620</th>\n      <td>20001214X41966</td>\n      <td>Accident</td>\n      <td>DCA83AA010</td>\n      <td>1983-01-03</td>\n      <td>HAILEY, ID</td>\n      <td>United States</td>\n      <td>NaN</td>\n      <td>NaN</td>\n      <td>SUN</td>\n      <td>FRIEDMAN MEMORIAL</td>\n      <td>...</td>\n      <td>NaN</td>\n      <td>2.0</td>\n      <td>0.0</td>\n      <td>0.0</td>\n      <td>0.0</td>\n      <td>VMC</td>\n      <td>Approach</td>\n      <td>Probable Cause</td>\n      <td>NaN</td>\n      <td>General Aviation</td>\n    </tr>\n    <tr>\n      <th>...</th>\n      <td>...</td>\n      <td>...</td>\n      <td>...</td>\n      <td>...</td>\n      <td>...</td>\n      <td>...</td>\n      <td>...</td>\n      <td>...</td>\n      <td>...</td>\n      <td>...</td>\n      <td>...</td>\n      <td>...</td>\n      <td>...</td>\n      <td>...</td>\n      <td>...</td>\n      <td>...</td>\n      <td>...</td>\n      <td>...</td>\n      <td>...</td>\n      <td>...</td>\n      <td>...</td>\n    </tr>\n    <tr>\n      <th>85785</th>\n      <td>20200520X14844</td>\n      <td>Accident</td>\n      <td>CEN20LA185</td>\n      <td>2020-05-20</td>\n      <td>Houston, TX</td>\n      <td>United States</td>\n      <td>293845N</td>\n      <td>0951637W</td>\n      <td>HOU</td>\n      <td>William P Hobby</td>\n      <td>...</td>\n      <td>NaN</td>\n      <td>0.0</td>\n      <td>0.0</td>\n      <td>0.0</td>\n      <td>1.0</td>\n      <td>VMC</td>\n      <td>NaN</td>\n      <td>NaN</td>\n      <td>26-09-2020</td>\n      <td>General Aviation</td>\n    </tr>\n    <tr>\n      <th>86143</th>\n      <td>20200723X40050</td>\n      <td>Accident</td>\n      <td>ERA20LA259</td>\n      <td>2020-07-22</td>\n      <td>Montgomery, AL</td>\n      <td>United States</td>\n      <td>032185N</td>\n      <td>0862343W</td>\n      <td>MGM</td>\n      <td>Montgomery Rgnl (Dannelly Fiel</td>\n      <td>...</td>\n      <td>N425BJ LLC</td>\n      <td>0.0</td>\n      <td>0.0</td>\n      <td>0.0</td>\n      <td>2.0</td>\n      <td>VMC</td>\n      <td>NaN</td>\n      <td>NaN</td>\n      <td>26-09-2020</td>\n      <td>General Aviation</td>\n    </tr>\n    <tr>\n      <th>87367</th>\n      <td>20210524103131</td>\n      <td>Accident</td>\n      <td>ERA21LA227</td>\n      <td>2021-05-02</td>\n      <td>Charleston, SC</td>\n      <td>United States</td>\n      <td>324141N</td>\n      <td>0080011W</td>\n      <td>JZI</td>\n      <td>CHARLESTON EXEC</td>\n      <td>...</td>\n      <td>STB AVIATION LLC</td>\n      <td>0.0</td>\n      <td>0.0</td>\n      <td>0.0</td>\n      <td>6.0</td>\n      <td>VMC</td>\n      <td>NaN</td>\n      <td>The airplane's impact with a deer during takeoff.</td>\n      <td>NaN</td>\n      <td>General Aviation</td>\n    </tr>\n    <tr>\n      <th>88946</th>\n      <td>20220406104897</td>\n      <td>Accident</td>\n      <td>WPR22LA143</td>\n      <td>2022-04-02</td>\n      <td>Van Nuys, CA</td>\n      <td>United States</td>\n      <td>034137N</td>\n      <td>1182932W</td>\n      <td>VNY</td>\n      <td>Van Nuys</td>\n      <td>...</td>\n      <td>SANCTUS AVIATION LLC</td>\n      <td>0.0</td>\n      <td>0.0</td>\n      <td>0.0</td>\n      <td>8.0</td>\n      <td>VMC</td>\n      <td>NaN</td>\n      <td>The student pilots failure to maintain suffic...</td>\n      <td>20-07-2022</td>\n      <td>General Aviation</td>\n    </tr>\n    <tr>\n      <th>89576</th>\n      <td>20220720105531</td>\n      <td>Accident</td>\n      <td>ERA22LA325</td>\n      <td>2022-07-15</td>\n      <td>Brunswick, GA</td>\n      <td>United States</td>\n      <td>311533N</td>\n      <td>0812759W</td>\n      <td>BQK</td>\n      <td>BRUNSWICK GOLDEN ISLES</td>\n      <td>...</td>\n      <td>Aircraft Mgt. Group, Inc</td>\n      <td>0.0</td>\n      <td>0.0</td>\n      <td>0.0</td>\n      <td>2.0</td>\n      <td>VMC</td>\n      <td>NaN</td>\n      <td>An in-flight collision with a bird.</td>\n      <td>03-11-2022</td>\n      <td>General Aviation</td>\n    </tr>\n  </tbody>\n</table>\n<p>230 rows × 32 columns</p>\n</div>"
     },
     "execution_count": 840,
     "metadata": {},
     "output_type": "execute_result"
    }
   ],
   "source": [
    "# Filter the dataset to only include rows with a value of 'Business', 'Personal' or 'Executive/corporate' in the 'Purpose.of.flight' column\n",
    "df  = df[df['Purpose.of.flight'].isin(['Business', 'Personal', 'Executive/corporate'])]\n",
    "\n",
    "df"
   ],
   "metadata": {
    "collapsed": false,
    "ExecuteTime": {
     "start_time": "2023-04-21T15:23:27.981780Z",
     "end_time": "2023-04-21T15:23:28.088963Z"
    }
   }
  },
  {
   "cell_type": "code",
   "execution_count": 841,
   "outputs": [
    {
     "data": {
      "text/plain": "             Event.Id Investigation.Type Accident.Number  Event.Date  \\\n737    20020917X01902           Incident      CHI82IA112  1982-04-02   \n906    20020917X02479           Incident      MKC82IA059  1982-04-20   \n3292   20020917X04492           Accident      DCA83AA005  1982-11-18   \n3620   20001214X41966           Accident      DCA83AA010  1983-01-03   \n3702   20001214X42024           Incident      LAX83IA073  1983-01-16   \n...               ...                ...             ...         ...   \n53256  20020829X01483           Accident      NYC02LA172  2002-08-10   \n53618  20021023X05375           Accident      NYC03FA002  2002-10-07   \n53924  20021220X05625           Accident      SEA03LA018  2002-12-16   \n55156  20030724X01192           Accident      SEA03FA147  2003-07-22   \n55941  20040122X00098           Accident      LAX04LA058  2003-12-04   \n\n                Location        Country   Latitude    Longitude Airport.Code  \\\n737          DETROIT, MI  United States        NaN          NaN          DTW   \n906        ST. LOUIS, MO  United States        NaN          NaN          STL   \n3292   MOUNTAIN VIEW, MO  United States        NaN          NaN          NaN   \n3620          HAILEY, ID  United States        NaN          NaN          SUN   \n3702     LOS ANGELES, CA  United States        NaN          NaN          LAX   \n...                  ...            ...        ...          ...          ...   \n53256       SANDUSKY, OH  United States  41.433333   -80.652222          SKY   \n53618         DEXTER, ME  United States  45.008333   -69.240833          1B0   \n53924        SEATTLE, WA  United States  47.516667  -122.303333          BFI   \n55156     COUPEVILLE, WA  United States  48.208056  -122.576389          NaN   \n55941      SAN DIEGO, CA  United States  32.815556  -117.139444         KMYF   \n\n                    Airport.Name  ... Air.carrier Total.Fatal.Injuries  \\\n737                DETROIT METRO  ...         NaN                  0.0   \n906       LAMBERT-ST. LOUIS INTL  ...         NaN                  0.0   \n3292        MOUTAIN VIEW AIRPORT  ...         NaN                  3.0   \n3620           FRIEDMAN MEMORIAL  ...         NaN                  2.0   \n3702                 LOS ANGELES  ...         NaN                  0.0   \n...                          ...  ...         ...                  ...   \n53256  Griffing Sandusky Airport  ...         NaN                  NaN   \n53618    Dexter Regional Airport  ...         NaN                  NaN   \n53924    Boeing Fld/King Co Intl  ...         NaN                  NaN   \n55156                        NaN  ...         NaN                  NaN   \n55941                  San Diego  ...         NaN                  NaN   \n\n      Total.Serious.Injuries Total.Minor.Injuries Total.Uninjured  \\\n737                      0.0                  0.0             8.0   \n906                      0.0                  0.0             2.0   \n3292                     0.0                  0.0             0.0   \n3620                     0.0                  0.0             0.0   \n3702                     0.0                  0.0           412.0   \n...                      ...                  ...             ...   \n53256                    NaN                  NaN             2.0   \n53618                    2.0                  2.0             NaN   \n53924                    NaN                  NaN             3.0   \n55156                    NaN                  NaN             2.0   \n55941                    NaN                  NaN             3.0   \n\n      Weather.Condition Broad.phase.of.flight   Report.Status  \\\n737                 VMC                  Taxi  Probable Cause   \n906                 VMC              Approach  Probable Cause   \n3292                IMC               Takeoff  Probable Cause   \n3620                VMC              Approach  Probable Cause   \n3702                VMC                  Taxi  Probable Cause   \n...                 ...                   ...             ...   \n53256               VMC               Takeoff  Probable Cause   \n53618               VMC               Landing  Probable Cause   \n53924               IMC               Landing  Probable Cause   \n55156               VMC                 Climb  Probable Cause   \n55941               IMC               Landing  Probable Cause   \n\n      Publication.Date  Combined.Purpose  \n737         02-04-1983  General Aviation  \n906         20-04-1983  General Aviation  \n3292        18-11-1983  General Aviation  \n3620               NaN  General Aviation  \n3702               NaN  General Aviation  \n...                ...               ...  \n53256       18-04-2003  General Aviation  \n53618       30-06-2004  General Aviation  \n53924       23-07-2003  General Aviation  \n55156       27-10-2005  General Aviation  \n55941       28-12-2004  General Aviation  \n\n[100 rows x 32 columns]",
      "text/html": "<div>\n<style scoped>\n    .dataframe tbody tr th:only-of-type {\n        vertical-align: middle;\n    }\n\n    .dataframe tbody tr th {\n        vertical-align: top;\n    }\n\n    .dataframe thead th {\n        text-align: right;\n    }\n</style>\n<table border=\"1\" class=\"dataframe\">\n  <thead>\n    <tr style=\"text-align: right;\">\n      <th></th>\n      <th>Event.Id</th>\n      <th>Investigation.Type</th>\n      <th>Accident.Number</th>\n      <th>Event.Date</th>\n      <th>Location</th>\n      <th>Country</th>\n      <th>Latitude</th>\n      <th>Longitude</th>\n      <th>Airport.Code</th>\n      <th>Airport.Name</th>\n      <th>...</th>\n      <th>Air.carrier</th>\n      <th>Total.Fatal.Injuries</th>\n      <th>Total.Serious.Injuries</th>\n      <th>Total.Minor.Injuries</th>\n      <th>Total.Uninjured</th>\n      <th>Weather.Condition</th>\n      <th>Broad.phase.of.flight</th>\n      <th>Report.Status</th>\n      <th>Publication.Date</th>\n      <th>Combined.Purpose</th>\n    </tr>\n  </thead>\n  <tbody>\n    <tr>\n      <th>737</th>\n      <td>20020917X01902</td>\n      <td>Incident</td>\n      <td>CHI82IA112</td>\n      <td>1982-04-02</td>\n      <td>DETROIT, MI</td>\n      <td>United States</td>\n      <td>NaN</td>\n      <td>NaN</td>\n      <td>DTW</td>\n      <td>DETROIT METRO</td>\n      <td>...</td>\n      <td>NaN</td>\n      <td>0.0</td>\n      <td>0.0</td>\n      <td>0.0</td>\n      <td>8.0</td>\n      <td>VMC</td>\n      <td>Taxi</td>\n      <td>Probable Cause</td>\n      <td>02-04-1983</td>\n      <td>General Aviation</td>\n    </tr>\n    <tr>\n      <th>906</th>\n      <td>20020917X02479</td>\n      <td>Incident</td>\n      <td>MKC82IA059</td>\n      <td>1982-04-20</td>\n      <td>ST. LOUIS, MO</td>\n      <td>United States</td>\n      <td>NaN</td>\n      <td>NaN</td>\n      <td>STL</td>\n      <td>LAMBERT-ST. LOUIS INTL</td>\n      <td>...</td>\n      <td>NaN</td>\n      <td>0.0</td>\n      <td>0.0</td>\n      <td>0.0</td>\n      <td>2.0</td>\n      <td>VMC</td>\n      <td>Approach</td>\n      <td>Probable Cause</td>\n      <td>20-04-1983</td>\n      <td>General Aviation</td>\n    </tr>\n    <tr>\n      <th>3292</th>\n      <td>20020917X04492</td>\n      <td>Accident</td>\n      <td>DCA83AA005</td>\n      <td>1982-11-18</td>\n      <td>MOUNTAIN VIEW, MO</td>\n      <td>United States</td>\n      <td>NaN</td>\n      <td>NaN</td>\n      <td>NaN</td>\n      <td>MOUTAIN VIEW AIRPORT</td>\n      <td>...</td>\n      <td>NaN</td>\n      <td>3.0</td>\n      <td>0.0</td>\n      <td>0.0</td>\n      <td>0.0</td>\n      <td>IMC</td>\n      <td>Takeoff</td>\n      <td>Probable Cause</td>\n      <td>18-11-1983</td>\n      <td>General Aviation</td>\n    </tr>\n    <tr>\n      <th>3620</th>\n      <td>20001214X41966</td>\n      <td>Accident</td>\n      <td>DCA83AA010</td>\n      <td>1983-01-03</td>\n      <td>HAILEY, ID</td>\n      <td>United States</td>\n      <td>NaN</td>\n      <td>NaN</td>\n      <td>SUN</td>\n      <td>FRIEDMAN MEMORIAL</td>\n      <td>...</td>\n      <td>NaN</td>\n      <td>2.0</td>\n      <td>0.0</td>\n      <td>0.0</td>\n      <td>0.0</td>\n      <td>VMC</td>\n      <td>Approach</td>\n      <td>Probable Cause</td>\n      <td>NaN</td>\n      <td>General Aviation</td>\n    </tr>\n    <tr>\n      <th>3702</th>\n      <td>20001214X42024</td>\n      <td>Incident</td>\n      <td>LAX83IA073</td>\n      <td>1983-01-16</td>\n      <td>LOS ANGELES, CA</td>\n      <td>United States</td>\n      <td>NaN</td>\n      <td>NaN</td>\n      <td>LAX</td>\n      <td>LOS ANGELES</td>\n      <td>...</td>\n      <td>NaN</td>\n      <td>0.0</td>\n      <td>0.0</td>\n      <td>0.0</td>\n      <td>412.0</td>\n      <td>VMC</td>\n      <td>Taxi</td>\n      <td>Probable Cause</td>\n      <td>NaN</td>\n      <td>General Aviation</td>\n    </tr>\n    <tr>\n      <th>...</th>\n      <td>...</td>\n      <td>...</td>\n      <td>...</td>\n      <td>...</td>\n      <td>...</td>\n      <td>...</td>\n      <td>...</td>\n      <td>...</td>\n      <td>...</td>\n      <td>...</td>\n      <td>...</td>\n      <td>...</td>\n      <td>...</td>\n      <td>...</td>\n      <td>...</td>\n      <td>...</td>\n      <td>...</td>\n      <td>...</td>\n      <td>...</td>\n      <td>...</td>\n      <td>...</td>\n    </tr>\n    <tr>\n      <th>53256</th>\n      <td>20020829X01483</td>\n      <td>Accident</td>\n      <td>NYC02LA172</td>\n      <td>2002-08-10</td>\n      <td>SANDUSKY, OH</td>\n      <td>United States</td>\n      <td>41.433333</td>\n      <td>-80.652222</td>\n      <td>SKY</td>\n      <td>Griffing Sandusky Airport</td>\n      <td>...</td>\n      <td>NaN</td>\n      <td>NaN</td>\n      <td>NaN</td>\n      <td>NaN</td>\n      <td>2.0</td>\n      <td>VMC</td>\n      <td>Takeoff</td>\n      <td>Probable Cause</td>\n      <td>18-04-2003</td>\n      <td>General Aviation</td>\n    </tr>\n    <tr>\n      <th>53618</th>\n      <td>20021023X05375</td>\n      <td>Accident</td>\n      <td>NYC03FA002</td>\n      <td>2002-10-07</td>\n      <td>DEXTER, ME</td>\n      <td>United States</td>\n      <td>45.008333</td>\n      <td>-69.240833</td>\n      <td>1B0</td>\n      <td>Dexter Regional Airport</td>\n      <td>...</td>\n      <td>NaN</td>\n      <td>NaN</td>\n      <td>2.0</td>\n      <td>2.0</td>\n      <td>NaN</td>\n      <td>VMC</td>\n      <td>Landing</td>\n      <td>Probable Cause</td>\n      <td>30-06-2004</td>\n      <td>General Aviation</td>\n    </tr>\n    <tr>\n      <th>53924</th>\n      <td>20021220X05625</td>\n      <td>Accident</td>\n      <td>SEA03LA018</td>\n      <td>2002-12-16</td>\n      <td>SEATTLE, WA</td>\n      <td>United States</td>\n      <td>47.516667</td>\n      <td>-122.303333</td>\n      <td>BFI</td>\n      <td>Boeing Fld/King Co Intl</td>\n      <td>...</td>\n      <td>NaN</td>\n      <td>NaN</td>\n      <td>NaN</td>\n      <td>NaN</td>\n      <td>3.0</td>\n      <td>IMC</td>\n      <td>Landing</td>\n      <td>Probable Cause</td>\n      <td>23-07-2003</td>\n      <td>General Aviation</td>\n    </tr>\n    <tr>\n      <th>55156</th>\n      <td>20030724X01192</td>\n      <td>Accident</td>\n      <td>SEA03FA147</td>\n      <td>2003-07-22</td>\n      <td>COUPEVILLE, WA</td>\n      <td>United States</td>\n      <td>48.208056</td>\n      <td>-122.576389</td>\n      <td>NaN</td>\n      <td>NaN</td>\n      <td>...</td>\n      <td>NaN</td>\n      <td>NaN</td>\n      <td>NaN</td>\n      <td>NaN</td>\n      <td>2.0</td>\n      <td>VMC</td>\n      <td>Climb</td>\n      <td>Probable Cause</td>\n      <td>27-10-2005</td>\n      <td>General Aviation</td>\n    </tr>\n    <tr>\n      <th>55941</th>\n      <td>20040122X00098</td>\n      <td>Accident</td>\n      <td>LAX04LA058</td>\n      <td>2003-12-04</td>\n      <td>SAN DIEGO, CA</td>\n      <td>United States</td>\n      <td>32.815556</td>\n      <td>-117.139444</td>\n      <td>KMYF</td>\n      <td>San Diego</td>\n      <td>...</td>\n      <td>NaN</td>\n      <td>NaN</td>\n      <td>NaN</td>\n      <td>NaN</td>\n      <td>3.0</td>\n      <td>IMC</td>\n      <td>Landing</td>\n      <td>Probable Cause</td>\n      <td>28-12-2004</td>\n      <td>General Aviation</td>\n    </tr>\n  </tbody>\n</table>\n<p>100 rows × 32 columns</p>\n</div>"
     },
     "execution_count": 841,
     "metadata": {},
     "output_type": "execute_result"
    }
   ],
   "source": [
    "# Remove all rows with value of 'Unknown' in the 'Aircraft.damage' column\n",
    "df = df[df['Aircraft.damage'] != 'Unknown']\n",
    "\n",
    "# Remove all rows with no value in the 'Aircraft.damage' column\n",
    "df = df[df['Aircraft.damage'].notna()]\n",
    "\n",
    "df.head(100)"
   ],
   "metadata": {
    "collapsed": false,
    "ExecuteTime": {
     "start_time": "2023-04-21T15:23:28.002892Z",
     "end_time": "2023-04-21T15:23:28.089833Z"
    }
   }
  },
  {
   "cell_type": "code",
   "execution_count": 842,
   "outputs": [],
   "source": [
    "# Cleaning the 'Injury.Severity' column\n",
    "\n",
    "# Check if the first 5 characters of the 'Injury.Severity' column are 'Fatal', and is greater than 5 characters.\n",
    "# If it is, then set the value to 'Fatal'\n",
    "df.loc[df['Injury.Severity'].str[:5] == 'Fatal', 'Injury.Severity'] = 'Fatal'\n",
    "\n",
    "# Check if the value of the 'Injury.Severity' column matches 'Incident', 'Serious', 'Minor'. If it does, then set the value to 'Non-Fatal'\n",
    "df.loc[df['Injury.Severity'].isin(['Incident', 'Serious', 'Minor']), 'Injury.Severity'] = 'Non-Fatal'\n",
    "\n",
    "# Remove all rows with no value in the 'Injury.Severity' column\n",
    "df = df[df['Injury.Severity'].notna()]\n",
    "\n",
    "# Remove all rows with value of 'Unavailable' in the 'Injury.Severity' column\n",
    "df = df[df['Injury.Severity'] != 'Unavailable']"
   ],
   "metadata": {
    "collapsed": false,
    "ExecuteTime": {
     "start_time": "2023-04-21T15:23:28.030365Z",
     "end_time": "2023-04-21T15:23:28.089921Z"
    }
   }
  },
  {
   "cell_type": "code",
   "execution_count": 843,
   "outputs": [
    {
     "data": {
      "text/plain": "             Event.Id Investigation.Type Accident.Number  Event.Date  \\\n737    20020917X01902           Incident      CHI82IA112  1982-04-02   \n906    20020917X02479           Incident      MKC82IA059  1982-04-20   \n3292   20020917X04492           Accident      DCA83AA005  1982-11-18   \n3620   20001214X41966           Accident      DCA83AA010  1983-01-03   \n3702   20001214X42024           Incident      LAX83IA073  1983-01-16   \n...               ...                ...             ...         ...   \n53256  20020829X01483           Accident      NYC02LA172  2002-08-10   \n53618  20021023X05375           Accident      NYC03FA002  2002-10-07   \n53924  20021220X05625           Accident      SEA03LA018  2002-12-16   \n55156  20030724X01192           Accident      SEA03FA147  2003-07-22   \n55941  20040122X00098           Accident      LAX04LA058  2003-12-04   \n\n                Location        Country   Latitude    Longitude Airport.Code  \\\n737          DETROIT, MI  United States        NaN          NaN          DTW   \n906        ST. LOUIS, MO  United States        NaN          NaN          STL   \n3292   MOUNTAIN VIEW, MO  United States        NaN          NaN          NaN   \n3620          HAILEY, ID  United States        NaN          NaN          SUN   \n3702     LOS ANGELES, CA  United States        NaN          NaN          LAX   \n...                  ...            ...        ...          ...          ...   \n53256       SANDUSKY, OH  United States  41.433333   -80.652222          SKY   \n53618         DEXTER, ME  United States  45.008333   -69.240833          1B0   \n53924        SEATTLE, WA  United States  47.516667  -122.303333          BFI   \n55156     COUPEVILLE, WA  United States  48.208056  -122.576389          NaN   \n55941      SAN DIEGO, CA  United States  32.815556  -117.139444         KMYF   \n\n                    Airport.Name  ... Air.carrier Total.Fatal.Injuries  \\\n737                DETROIT METRO  ...         NaN                  0.0   \n906       LAMBERT-ST. LOUIS INTL  ...         NaN                  0.0   \n3292        MOUTAIN VIEW AIRPORT  ...         NaN                  3.0   \n3620           FRIEDMAN MEMORIAL  ...         NaN                  2.0   \n3702                 LOS ANGELES  ...         NaN                  0.0   \n...                          ...  ...         ...                  ...   \n53256  Griffing Sandusky Airport  ...         NaN                  NaN   \n53618    Dexter Regional Airport  ...         NaN                  NaN   \n53924    Boeing Fld/King Co Intl  ...         NaN                  NaN   \n55156                        NaN  ...         NaN                  NaN   \n55941                  San Diego  ...         NaN                  NaN   \n\n      Total.Serious.Injuries Total.Minor.Injuries Total.Uninjured  \\\n737                      0.0                  0.0             8.0   \n906                      0.0                  0.0             2.0   \n3292                     0.0                  0.0             0.0   \n3620                     0.0                  0.0             0.0   \n3702                     0.0                  0.0           412.0   \n...                      ...                  ...             ...   \n53256                    NaN                  NaN             2.0   \n53618                    2.0                  2.0             NaN   \n53924                    NaN                  NaN             3.0   \n55156                    NaN                  NaN             2.0   \n55941                    NaN                  NaN             3.0   \n\n      Weather.Condition Broad.phase.of.flight   Report.Status  \\\n737                 VMC                  Taxi  Probable Cause   \n906                 VMC              Approach  Probable Cause   \n3292                IMC               Takeoff  Probable Cause   \n3620                VMC              Approach  Probable Cause   \n3702                VMC                  Taxi  Probable Cause   \n...                 ...                   ...             ...   \n53256               VMC               Takeoff  Probable Cause   \n53618               VMC               Landing  Probable Cause   \n53924               IMC               Landing  Probable Cause   \n55156               VMC                 Climb  Probable Cause   \n55941               IMC               Landing  Probable Cause   \n\n      Publication.Date  Combined.Purpose  \n737         02-04-1983  General Aviation  \n906         20-04-1983  General Aviation  \n3292        18-11-1983  General Aviation  \n3620               NaN  General Aviation  \n3702               NaN  General Aviation  \n...                ...               ...  \n53256       18-04-2003  General Aviation  \n53618       30-06-2004  General Aviation  \n53924       23-07-2003  General Aviation  \n55156       27-10-2005  General Aviation  \n55941       28-12-2004  General Aviation  \n\n[100 rows x 32 columns]",
      "text/html": "<div>\n<style scoped>\n    .dataframe tbody tr th:only-of-type {\n        vertical-align: middle;\n    }\n\n    .dataframe tbody tr th {\n        vertical-align: top;\n    }\n\n    .dataframe thead th {\n        text-align: right;\n    }\n</style>\n<table border=\"1\" class=\"dataframe\">\n  <thead>\n    <tr style=\"text-align: right;\">\n      <th></th>\n      <th>Event.Id</th>\n      <th>Investigation.Type</th>\n      <th>Accident.Number</th>\n      <th>Event.Date</th>\n      <th>Location</th>\n      <th>Country</th>\n      <th>Latitude</th>\n      <th>Longitude</th>\n      <th>Airport.Code</th>\n      <th>Airport.Name</th>\n      <th>...</th>\n      <th>Air.carrier</th>\n      <th>Total.Fatal.Injuries</th>\n      <th>Total.Serious.Injuries</th>\n      <th>Total.Minor.Injuries</th>\n      <th>Total.Uninjured</th>\n      <th>Weather.Condition</th>\n      <th>Broad.phase.of.flight</th>\n      <th>Report.Status</th>\n      <th>Publication.Date</th>\n      <th>Combined.Purpose</th>\n    </tr>\n  </thead>\n  <tbody>\n    <tr>\n      <th>737</th>\n      <td>20020917X01902</td>\n      <td>Incident</td>\n      <td>CHI82IA112</td>\n      <td>1982-04-02</td>\n      <td>DETROIT, MI</td>\n      <td>United States</td>\n      <td>NaN</td>\n      <td>NaN</td>\n      <td>DTW</td>\n      <td>DETROIT METRO</td>\n      <td>...</td>\n      <td>NaN</td>\n      <td>0.0</td>\n      <td>0.0</td>\n      <td>0.0</td>\n      <td>8.0</td>\n      <td>VMC</td>\n      <td>Taxi</td>\n      <td>Probable Cause</td>\n      <td>02-04-1983</td>\n      <td>General Aviation</td>\n    </tr>\n    <tr>\n      <th>906</th>\n      <td>20020917X02479</td>\n      <td>Incident</td>\n      <td>MKC82IA059</td>\n      <td>1982-04-20</td>\n      <td>ST. LOUIS, MO</td>\n      <td>United States</td>\n      <td>NaN</td>\n      <td>NaN</td>\n      <td>STL</td>\n      <td>LAMBERT-ST. LOUIS INTL</td>\n      <td>...</td>\n      <td>NaN</td>\n      <td>0.0</td>\n      <td>0.0</td>\n      <td>0.0</td>\n      <td>2.0</td>\n      <td>VMC</td>\n      <td>Approach</td>\n      <td>Probable Cause</td>\n      <td>20-04-1983</td>\n      <td>General Aviation</td>\n    </tr>\n    <tr>\n      <th>3292</th>\n      <td>20020917X04492</td>\n      <td>Accident</td>\n      <td>DCA83AA005</td>\n      <td>1982-11-18</td>\n      <td>MOUNTAIN VIEW, MO</td>\n      <td>United States</td>\n      <td>NaN</td>\n      <td>NaN</td>\n      <td>NaN</td>\n      <td>MOUTAIN VIEW AIRPORT</td>\n      <td>...</td>\n      <td>NaN</td>\n      <td>3.0</td>\n      <td>0.0</td>\n      <td>0.0</td>\n      <td>0.0</td>\n      <td>IMC</td>\n      <td>Takeoff</td>\n      <td>Probable Cause</td>\n      <td>18-11-1983</td>\n      <td>General Aviation</td>\n    </tr>\n    <tr>\n      <th>3620</th>\n      <td>20001214X41966</td>\n      <td>Accident</td>\n      <td>DCA83AA010</td>\n      <td>1983-01-03</td>\n      <td>HAILEY, ID</td>\n      <td>United States</td>\n      <td>NaN</td>\n      <td>NaN</td>\n      <td>SUN</td>\n      <td>FRIEDMAN MEMORIAL</td>\n      <td>...</td>\n      <td>NaN</td>\n      <td>2.0</td>\n      <td>0.0</td>\n      <td>0.0</td>\n      <td>0.0</td>\n      <td>VMC</td>\n      <td>Approach</td>\n      <td>Probable Cause</td>\n      <td>NaN</td>\n      <td>General Aviation</td>\n    </tr>\n    <tr>\n      <th>3702</th>\n      <td>20001214X42024</td>\n      <td>Incident</td>\n      <td>LAX83IA073</td>\n      <td>1983-01-16</td>\n      <td>LOS ANGELES, CA</td>\n      <td>United States</td>\n      <td>NaN</td>\n      <td>NaN</td>\n      <td>LAX</td>\n      <td>LOS ANGELES</td>\n      <td>...</td>\n      <td>NaN</td>\n      <td>0.0</td>\n      <td>0.0</td>\n      <td>0.0</td>\n      <td>412.0</td>\n      <td>VMC</td>\n      <td>Taxi</td>\n      <td>Probable Cause</td>\n      <td>NaN</td>\n      <td>General Aviation</td>\n    </tr>\n    <tr>\n      <th>...</th>\n      <td>...</td>\n      <td>...</td>\n      <td>...</td>\n      <td>...</td>\n      <td>...</td>\n      <td>...</td>\n      <td>...</td>\n      <td>...</td>\n      <td>...</td>\n      <td>...</td>\n      <td>...</td>\n      <td>...</td>\n      <td>...</td>\n      <td>...</td>\n      <td>...</td>\n      <td>...</td>\n      <td>...</td>\n      <td>...</td>\n      <td>...</td>\n      <td>...</td>\n      <td>...</td>\n    </tr>\n    <tr>\n      <th>53256</th>\n      <td>20020829X01483</td>\n      <td>Accident</td>\n      <td>NYC02LA172</td>\n      <td>2002-08-10</td>\n      <td>SANDUSKY, OH</td>\n      <td>United States</td>\n      <td>41.433333</td>\n      <td>-80.652222</td>\n      <td>SKY</td>\n      <td>Griffing Sandusky Airport</td>\n      <td>...</td>\n      <td>NaN</td>\n      <td>NaN</td>\n      <td>NaN</td>\n      <td>NaN</td>\n      <td>2.0</td>\n      <td>VMC</td>\n      <td>Takeoff</td>\n      <td>Probable Cause</td>\n      <td>18-04-2003</td>\n      <td>General Aviation</td>\n    </tr>\n    <tr>\n      <th>53618</th>\n      <td>20021023X05375</td>\n      <td>Accident</td>\n      <td>NYC03FA002</td>\n      <td>2002-10-07</td>\n      <td>DEXTER, ME</td>\n      <td>United States</td>\n      <td>45.008333</td>\n      <td>-69.240833</td>\n      <td>1B0</td>\n      <td>Dexter Regional Airport</td>\n      <td>...</td>\n      <td>NaN</td>\n      <td>NaN</td>\n      <td>2.0</td>\n      <td>2.0</td>\n      <td>NaN</td>\n      <td>VMC</td>\n      <td>Landing</td>\n      <td>Probable Cause</td>\n      <td>30-06-2004</td>\n      <td>General Aviation</td>\n    </tr>\n    <tr>\n      <th>53924</th>\n      <td>20021220X05625</td>\n      <td>Accident</td>\n      <td>SEA03LA018</td>\n      <td>2002-12-16</td>\n      <td>SEATTLE, WA</td>\n      <td>United States</td>\n      <td>47.516667</td>\n      <td>-122.303333</td>\n      <td>BFI</td>\n      <td>Boeing Fld/King Co Intl</td>\n      <td>...</td>\n      <td>NaN</td>\n      <td>NaN</td>\n      <td>NaN</td>\n      <td>NaN</td>\n      <td>3.0</td>\n      <td>IMC</td>\n      <td>Landing</td>\n      <td>Probable Cause</td>\n      <td>23-07-2003</td>\n      <td>General Aviation</td>\n    </tr>\n    <tr>\n      <th>55156</th>\n      <td>20030724X01192</td>\n      <td>Accident</td>\n      <td>SEA03FA147</td>\n      <td>2003-07-22</td>\n      <td>COUPEVILLE, WA</td>\n      <td>United States</td>\n      <td>48.208056</td>\n      <td>-122.576389</td>\n      <td>NaN</td>\n      <td>NaN</td>\n      <td>...</td>\n      <td>NaN</td>\n      <td>NaN</td>\n      <td>NaN</td>\n      <td>NaN</td>\n      <td>2.0</td>\n      <td>VMC</td>\n      <td>Climb</td>\n      <td>Probable Cause</td>\n      <td>27-10-2005</td>\n      <td>General Aviation</td>\n    </tr>\n    <tr>\n      <th>55941</th>\n      <td>20040122X00098</td>\n      <td>Accident</td>\n      <td>LAX04LA058</td>\n      <td>2003-12-04</td>\n      <td>SAN DIEGO, CA</td>\n      <td>United States</td>\n      <td>32.815556</td>\n      <td>-117.139444</td>\n      <td>KMYF</td>\n      <td>San Diego</td>\n      <td>...</td>\n      <td>NaN</td>\n      <td>NaN</td>\n      <td>NaN</td>\n      <td>NaN</td>\n      <td>3.0</td>\n      <td>IMC</td>\n      <td>Landing</td>\n      <td>Probable Cause</td>\n      <td>28-12-2004</td>\n      <td>General Aviation</td>\n    </tr>\n  </tbody>\n</table>\n<p>100 rows × 32 columns</p>\n</div>"
     },
     "execution_count": 843,
     "metadata": {},
     "output_type": "execute_result"
    }
   ],
   "source": [
    "df.head(100)"
   ],
   "metadata": {
    "collapsed": false,
    "ExecuteTime": {
     "start_time": "2023-04-21T15:23:28.036541Z",
     "end_time": "2023-04-21T15:23:28.090221Z"
    }
   }
  },
  {
   "cell_type": "code",
   "execution_count": 844,
   "outputs": [],
   "source": [
    "# filter df to only include rows with a value of 'Business', 'Personal' or 'Executive/corporate' in the 'Purpose.of.flight' column\n",
    "df = df[df['Purpose.of.flight'].isin(['Business', 'Personal', 'Executive/corporate'])]"
   ],
   "metadata": {
    "collapsed": false,
    "ExecuteTime": {
     "start_time": "2023-04-21T15:23:28.062030Z",
     "end_time": "2023-04-21T15:23:28.090279Z"
    }
   }
  },
  {
   "cell_type": "code",
   "execution_count": 845,
   "outputs": [],
   "source": [
    "# safety score calculator version 2\n",
    "aircraft_damage_points = {\n",
    "    'Destroyed': 1,\n",
    "    'Substantial': 2,\n",
    "    'Minor': 3\n",
    "}\n",
    "\n",
    "injury_severity_points = {\n",
    "    'Fatal': 1,\n",
    "    'Non-Fatal': 2\n",
    "}\n",
    "\n",
    "df['Aircraft.Damage.Points'] = df['Aircraft.damage'].map(aircraft_damage_points)\n",
    "df['Injury.Severity.Points'] = df['Injury.Severity'].map(injury_severity_points)\n",
    "\n",
    "make_model_group = df.groupby(['Make', 'Model', 'Purpose.of.flight']).agg({\n",
    "    'Aircraft.Damage.Points': 'mean',\n",
    "    'Injury.Severity.Points': 'mean'\n",
    "}).reset_index()\n",
    "\n",
    "make_model_group['Safety.Score'] = (\n",
    "        make_model_group['Injury.Severity.Points'] * 0.75 +\n",
    "        make_model_group['Aircraft.Damage.Points'] * 0.25\n",
    ")\n",
    "\n",
    "# Normalize the safety scores to a range of 0-100\n",
    "max_score = make_model_group['Safety.Score'].max()\n",
    "min_score = make_model_group['Safety.Score'].min()\n",
    "make_model_group['Safety.Score'] = ((make_model_group['Safety.Score'] - min_score) / (max_score - min_score)) * 100\n",
    "\n",
    "# Sort the DataFrame by the safety score in descending order (higher score = safer)\n",
    "make_model_safety_scores = make_model_group.sort_values(by='Safety.Score', ascending=False)\n"
   ],
   "metadata": {
    "collapsed": false,
    "ExecuteTime": {
     "start_time": "2023-04-21T15:23:28.083952Z",
     "end_time": "2023-04-21T15:23:28.090507Z"
    }
   }
  },
  {
   "cell_type": "code",
   "execution_count": 846,
   "outputs": [
    {
     "data": {
      "text/plain": "                           Make          Model    Purpose.of.flight  \\\n118                    rockwell  SABRELINER 65  Executive/corporate   \n109                    raytheon           400A  Executive/corporate   \n61            dassault aviation        DA-900B  Executive/corporate   \n62            dassault aviation          DA20F             Business   \n65                      embraer            500             Personal   \n..                          ...            ...                  ...   \n63            dassault aviation      FALCON 50  Executive/corporate   \n69                gates learjet            24F             Business   \n94   israel aircraft industries           1124             Personal   \n100  israel aircraft industries  Westwind 1124  Executive/corporate   \n97   israel aircraft industries          1124A             Personal   \n\n     Aircraft.Damage.Points  Injury.Severity.Points  Safety.Score  \n118                     3.0                     2.0         100.0  \n109                     3.0                     2.0         100.0  \n61                      3.0                     2.0         100.0  \n62                      3.0                     2.0         100.0  \n65                      3.0                     2.0         100.0  \n..                      ...                     ...           ...  \n63                      1.0                     1.0           0.0  \n69                      1.0                     1.0           0.0  \n94                      1.0                     1.0           0.0  \n100                     1.0                     1.0           0.0  \n97                      1.0                     1.0           0.0  \n\n[119 rows x 6 columns]",
      "text/html": "<div>\n<style scoped>\n    .dataframe tbody tr th:only-of-type {\n        vertical-align: middle;\n    }\n\n    .dataframe tbody tr th {\n        vertical-align: top;\n    }\n\n    .dataframe thead th {\n        text-align: right;\n    }\n</style>\n<table border=\"1\" class=\"dataframe\">\n  <thead>\n    <tr style=\"text-align: right;\">\n      <th></th>\n      <th>Make</th>\n      <th>Model</th>\n      <th>Purpose.of.flight</th>\n      <th>Aircraft.Damage.Points</th>\n      <th>Injury.Severity.Points</th>\n      <th>Safety.Score</th>\n    </tr>\n  </thead>\n  <tbody>\n    <tr>\n      <th>118</th>\n      <td>rockwell</td>\n      <td>SABRELINER 65</td>\n      <td>Executive/corporate</td>\n      <td>3.0</td>\n      <td>2.0</td>\n      <td>100.0</td>\n    </tr>\n    <tr>\n      <th>109</th>\n      <td>raytheon</td>\n      <td>400A</td>\n      <td>Executive/corporate</td>\n      <td>3.0</td>\n      <td>2.0</td>\n      <td>100.0</td>\n    </tr>\n    <tr>\n      <th>61</th>\n      <td>dassault aviation</td>\n      <td>DA-900B</td>\n      <td>Executive/corporate</td>\n      <td>3.0</td>\n      <td>2.0</td>\n      <td>100.0</td>\n    </tr>\n    <tr>\n      <th>62</th>\n      <td>dassault aviation</td>\n      <td>DA20F</td>\n      <td>Business</td>\n      <td>3.0</td>\n      <td>2.0</td>\n      <td>100.0</td>\n    </tr>\n    <tr>\n      <th>65</th>\n      <td>embraer</td>\n      <td>500</td>\n      <td>Personal</td>\n      <td>3.0</td>\n      <td>2.0</td>\n      <td>100.0</td>\n    </tr>\n    <tr>\n      <th>...</th>\n      <td>...</td>\n      <td>...</td>\n      <td>...</td>\n      <td>...</td>\n      <td>...</td>\n      <td>...</td>\n    </tr>\n    <tr>\n      <th>63</th>\n      <td>dassault aviation</td>\n      <td>FALCON 50</td>\n      <td>Executive/corporate</td>\n      <td>1.0</td>\n      <td>1.0</td>\n      <td>0.0</td>\n    </tr>\n    <tr>\n      <th>69</th>\n      <td>gates learjet</td>\n      <td>24F</td>\n      <td>Business</td>\n      <td>1.0</td>\n      <td>1.0</td>\n      <td>0.0</td>\n    </tr>\n    <tr>\n      <th>94</th>\n      <td>israel aircraft industries</td>\n      <td>1124</td>\n      <td>Personal</td>\n      <td>1.0</td>\n      <td>1.0</td>\n      <td>0.0</td>\n    </tr>\n    <tr>\n      <th>100</th>\n      <td>israel aircraft industries</td>\n      <td>Westwind 1124</td>\n      <td>Executive/corporate</td>\n      <td>1.0</td>\n      <td>1.0</td>\n      <td>0.0</td>\n    </tr>\n    <tr>\n      <th>97</th>\n      <td>israel aircraft industries</td>\n      <td>1124A</td>\n      <td>Personal</td>\n      <td>1.0</td>\n      <td>1.0</td>\n      <td>0.0</td>\n    </tr>\n  </tbody>\n</table>\n<p>119 rows × 6 columns</p>\n</div>"
     },
     "execution_count": 846,
     "metadata": {},
     "output_type": "execute_result"
    }
   ],
   "source": [
    "make_model_safety_scores"
   ],
   "metadata": {
    "collapsed": false,
    "ExecuteTime": {
     "start_time": "2023-04-21T15:23:28.102035Z",
     "end_time": "2023-04-21T15:23:28.106319Z"
    }
   }
  },
  {
   "cell_type": "markdown",
   "source": [],
   "metadata": {
    "collapsed": false
   }
  },
  {
   "cell_type": "code",
   "execution_count": 847,
   "outputs": [],
   "source": [
    "# combine the 'Make' and 'Model' columns of make_model_safety_scores into a single column\n",
    "make_model_safety_scores['Make_Model'] = make_model_safety_scores['Make'] + ' ' + make_model_safety_scores['Model']"
   ],
   "metadata": {
    "collapsed": false,
    "ExecuteTime": {
     "start_time": "2023-04-21T15:23:28.110255Z",
     "end_time": "2023-04-21T15:23:28.130904Z"
    }
   }
  },
  {
   "cell_type": "code",
   "execution_count": 848,
   "outputs": [
    {
     "data": {
      "text/plain": "                           Make          Model    Purpose.of.flight  \\\n118                    rockwell  SABRELINER 65  Executive/corporate   \n109                    raytheon           400A  Executive/corporate   \n61            dassault aviation        DA-900B  Executive/corporate   \n62            dassault aviation          DA20F             Business   \n65                      embraer            500             Personal   \n..                          ...            ...                  ...   \n63            dassault aviation      FALCON 50  Executive/corporate   \n69                gates learjet            24F             Business   \n94   israel aircraft industries           1124             Personal   \n100  israel aircraft industries  Westwind 1124  Executive/corporate   \n97   israel aircraft industries          1124A             Personal   \n\n     Aircraft.Damage.Points  Injury.Severity.Points  Safety.Score  \\\n118                     3.0                     2.0         100.0   \n109                     3.0                     2.0         100.0   \n61                      3.0                     2.0         100.0   \n62                      3.0                     2.0         100.0   \n65                      3.0                     2.0         100.0   \n..                      ...                     ...           ...   \n63                      1.0                     1.0           0.0   \n69                      1.0                     1.0           0.0   \n94                      1.0                     1.0           0.0   \n100                     1.0                     1.0           0.0   \n97                      1.0                     1.0           0.0   \n\n                                   Make_Model  \n118                    rockwell SABRELINER 65  \n109                             raytheon 400A  \n61                  dassault aviation DA-900B  \n62                    dassault aviation DA20F  \n65                                embraer 500  \n..                                        ...  \n63                dassault aviation FALCON 50  \n69                          gates learjet 24F  \n94            israel aircraft industries 1124  \n100  israel aircraft industries Westwind 1124  \n97           israel aircraft industries 1124A  \n\n[119 rows x 7 columns]",
      "text/html": "<div>\n<style scoped>\n    .dataframe tbody tr th:only-of-type {\n        vertical-align: middle;\n    }\n\n    .dataframe tbody tr th {\n        vertical-align: top;\n    }\n\n    .dataframe thead th {\n        text-align: right;\n    }\n</style>\n<table border=\"1\" class=\"dataframe\">\n  <thead>\n    <tr style=\"text-align: right;\">\n      <th></th>\n      <th>Make</th>\n      <th>Model</th>\n      <th>Purpose.of.flight</th>\n      <th>Aircraft.Damage.Points</th>\n      <th>Injury.Severity.Points</th>\n      <th>Safety.Score</th>\n      <th>Make_Model</th>\n    </tr>\n  </thead>\n  <tbody>\n    <tr>\n      <th>118</th>\n      <td>rockwell</td>\n      <td>SABRELINER 65</td>\n      <td>Executive/corporate</td>\n      <td>3.0</td>\n      <td>2.0</td>\n      <td>100.0</td>\n      <td>rockwell SABRELINER 65</td>\n    </tr>\n    <tr>\n      <th>109</th>\n      <td>raytheon</td>\n      <td>400A</td>\n      <td>Executive/corporate</td>\n      <td>3.0</td>\n      <td>2.0</td>\n      <td>100.0</td>\n      <td>raytheon 400A</td>\n    </tr>\n    <tr>\n      <th>61</th>\n      <td>dassault aviation</td>\n      <td>DA-900B</td>\n      <td>Executive/corporate</td>\n      <td>3.0</td>\n      <td>2.0</td>\n      <td>100.0</td>\n      <td>dassault aviation DA-900B</td>\n    </tr>\n    <tr>\n      <th>62</th>\n      <td>dassault aviation</td>\n      <td>DA20F</td>\n      <td>Business</td>\n      <td>3.0</td>\n      <td>2.0</td>\n      <td>100.0</td>\n      <td>dassault aviation DA20F</td>\n    </tr>\n    <tr>\n      <th>65</th>\n      <td>embraer</td>\n      <td>500</td>\n      <td>Personal</td>\n      <td>3.0</td>\n      <td>2.0</td>\n      <td>100.0</td>\n      <td>embraer 500</td>\n    </tr>\n    <tr>\n      <th>...</th>\n      <td>...</td>\n      <td>...</td>\n      <td>...</td>\n      <td>...</td>\n      <td>...</td>\n      <td>...</td>\n      <td>...</td>\n    </tr>\n    <tr>\n      <th>63</th>\n      <td>dassault aviation</td>\n      <td>FALCON 50</td>\n      <td>Executive/corporate</td>\n      <td>1.0</td>\n      <td>1.0</td>\n      <td>0.0</td>\n      <td>dassault aviation FALCON 50</td>\n    </tr>\n    <tr>\n      <th>69</th>\n      <td>gates learjet</td>\n      <td>24F</td>\n      <td>Business</td>\n      <td>1.0</td>\n      <td>1.0</td>\n      <td>0.0</td>\n      <td>gates learjet 24F</td>\n    </tr>\n    <tr>\n      <th>94</th>\n      <td>israel aircraft industries</td>\n      <td>1124</td>\n      <td>Personal</td>\n      <td>1.0</td>\n      <td>1.0</td>\n      <td>0.0</td>\n      <td>israel aircraft industries 1124</td>\n    </tr>\n    <tr>\n      <th>100</th>\n      <td>israel aircraft industries</td>\n      <td>Westwind 1124</td>\n      <td>Executive/corporate</td>\n      <td>1.0</td>\n      <td>1.0</td>\n      <td>0.0</td>\n      <td>israel aircraft industries Westwind 1124</td>\n    </tr>\n    <tr>\n      <th>97</th>\n      <td>israel aircraft industries</td>\n      <td>1124A</td>\n      <td>Personal</td>\n      <td>1.0</td>\n      <td>1.0</td>\n      <td>0.0</td>\n      <td>israel aircraft industries 1124A</td>\n    </tr>\n  </tbody>\n</table>\n<p>119 rows × 7 columns</p>\n</div>"
     },
     "execution_count": 848,
     "metadata": {},
     "output_type": "execute_result"
    }
   ],
   "source": [
    "make_model_safety_scores"
   ],
   "metadata": {
    "collapsed": false,
    "ExecuteTime": {
     "start_time": "2023-04-21T15:23:28.126442Z",
     "end_time": "2023-04-21T15:23:28.249069Z"
    }
   }
  },
  {
   "cell_type": "markdown",
   "source": [],
   "metadata": {
    "collapsed": false
   }
  },
  {
   "cell_type": "markdown",
   "source": [],
   "metadata": {
    "collapsed": false
   }
  },
  {
   "cell_type": "code",
   "execution_count": 849,
   "outputs": [],
   "source": [
    "# output make_model_safety_scores to a csv file that will later be imported into Tableau\n",
    "make_model_safety_scores.to_csv('data/make_model_safety_scores.csv', index=False)"
   ],
   "metadata": {
    "collapsed": false,
    "ExecuteTime": {
     "start_time": "2023-04-21T15:23:28.133192Z",
     "end_time": "2023-04-21T15:23:28.252072Z"
    }
   }
  }
 ],
 "metadata": {
  "kernelspec": {
   "display_name": "Python 3",
   "language": "python",
   "name": "python3"
  },
  "language_info": {
   "codemirror_mode": {
    "name": "ipython",
    "version": 2
   },
   "file_extension": ".py",
   "mimetype": "text/x-python",
   "name": "python",
   "nbconvert_exporter": "python",
   "pygments_lexer": "ipython2",
   "version": "2.7.6"
  }
 },
 "nbformat": 4,
 "nbformat_minor": 0
}
