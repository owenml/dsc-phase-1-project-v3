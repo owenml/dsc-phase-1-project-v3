{
 "cells": [
  {
   "cell_type": "code",
   "execution_count": 283,
   "metadata": {
    "ExecuteTime": {
     "start_time": "2023-04-22T12:55:50.700971Z",
     "end_time": "2023-04-22T12:55:50.817698Z"
    }
   },
   "outputs": [],
   "source": [
    "import pandas as pd\n",
    "import numpy as np\n",
    "import matplotlib.pyplot as plt\n",
    "import seaborn as sns\n"
   ]
  },
  {
   "cell_type": "markdown",
   "metadata": {},
   "source": []
  },
  {
   "cell_type": "code",
   "execution_count": 284,
   "metadata": {
    "ExecuteTime": {
     "start_time": "2023-04-22T12:55:50.711031Z",
     "end_time": "2023-04-22T12:55:51.109945Z"
    }
   },
   "outputs": [],
   "source": [
    "# import the dataset\n",
    "df = pd.read_csv('data/Aviation_Data.csv', low_memory=False)"
   ]
  },
  {
   "cell_type": "code",
   "execution_count": 285,
   "metadata": {
    "ExecuteTime": {
     "start_time": "2023-04-22T12:55:51.109121Z",
     "end_time": "2023-04-22T12:55:51.148694Z"
    }
   },
   "outputs": [],
   "source": [
    "# remove all 'Make' values that occur less than 20 times\n",
    "df = df[df.groupby('Make')['Make'].transform('count') > 20]"
   ]
  },
  {
   "cell_type": "code",
   "execution_count": 286,
   "metadata": {
    "ExecuteTime": {
     "start_time": "2023-04-22T12:55:51.149890Z",
     "end_time": "2023-04-22T12:55:51.164027Z"
    }
   },
   "outputs": [],
   "source": [
    "# Define a function to normalize the 'Make' values\n",
    "def normalize_make(make):\n",
    "    if isinstance(make, str):\n",
    "        return make.lower().strip()\n",
    "    return make\n",
    "\n",
    "# Define a function to standardize and clean the 'Make' values\n",
    "def clean_make(make):\n",
    "    if isinstance(make, str):\n",
    "        replacements = {\n",
    "            \"beechcraft\": \"beech\",\n",
    "            \"cessna aircraft co\": \"cessna\",\n",
    "            \"robinson helicopter\": \"robinson\",\n",
    "            \"robinson helicopter co\": \"robinson\",\n",
    "            \"robinson helicopter company\": \"robinson\",\n",
    "            \"air tractor inc\": \"air tractor\",\n",
    "            \"airbus industrie\": \"airbus\",\n",
    "            \"american champion aircraft\": \"american champion\",\n",
    "            \"american\": \"american champion\",\n",
    "            \"aviat aircraft inc\": \"aviat\",\n",
    "            \"bell helicopter textron canada\": \"bell\",\n",
    "            \"bell helicopter textron\": \"bell\",\n",
    "            \"boeing stearman\": \"boeing\",\n",
    "            \"bombardier inc\": \"bombardier\",\n",
    "            \"bombardier, inc.\": \"bombardier\",\n",
    "            \"cameron\": \"cameron balloons\",\n",
    "            \"cirrus\": \"cirrus design corp\",\n",
    "            \"cirrus design corp.\": \"cirrus design corp\",\n",
    "            \"dehavilland\": \"de havilland\",\n",
    "            \"diamond\": \"diamond aircraft industries\",\n",
    "            \"diamond aircraft ind inc\": \"diamond aircraft industries\",\n",
    "            \"eurocopter france\": \"eurocopter\",\n",
    "            \"fairchild\": \"fairchild hiller\",\n",
    "            \"grumman acft eng cor-schweizer\": \"grumman\",\n",
    "            \"grumman american avn. corp.\": \"grumman\",\n",
    "            \"grumman-schweizer\": \"grumman\",\n",
    "            \"learjet\": \"gates learjet\",\n",
    "            \"Gates Lear Jet\": \"gates learjet\",\n",
    "            \"GATES LEARJET CORP.\": \"gates learjet\",\n",
    "            \"gulfstream american\": \"gulfstream\",\n",
    "            \"gulfstream-schweizer\": \"gulfstream\",\n",
    "            \"mcdonnell douglas\": \"mcdonnell douglas helicopter\",\n",
    "            \"md helicopter\": \"mcdonnell douglas helicopter\",\n",
    "            \"mooney aircraft corp.\": \"mooney\",\n",
    "            \"piper aircraft inc\": \"piper\",\n",
    "            \"robinson company\": \"robinson\",\n",
    "            \"robinson co\": \"robinson\",\n",
    "            \"rockwell international\": \"rockwell\",\n",
    "            \"smith\": \"smith, ted aerostar\",\n",
    "            \"vans aircraft\": \"vans\",\n",
    "            \"ayres corporation\": \"ayres\",\n",
    "            \"cirrus design corp\": \"cirrus\",\n",
    "            \"grumman american\": \"grumman\",\n",
    "            \"texas helicopter\": \"texas helicopter corp\",\n",
    "            \"taylorcraft\": \"taylorcraft aviation\",\n",
    "            \"raytheon aircraft company\": \"raytheon\",\n",
    "            \"bae systems (operations) limited\": \"british aerospace\",\n",
    "            \"bae\": \"british aerospace\",\n",
    "            \"british aerospace civil aircr\": \"british aerospace\",\n",
    "            \"the boeing company\": \"boeing\",\n",
    "            \"boeing company\": \"boeing\",\n",
    "            \"boeing company, long beach div\": \"boeing\",\n",
    "            \"canadair\": \"bombardier\",\n",
    "            \"bombardier inc.\": \"bombardier\",\n",
    "            \"bombadier, inc.\": \"bombardier\",\n",
    "            \"dassault\": \"dassault aviation\",\n",
    "            \"embraer-empresa brasileira de\": \"embraer\",\n",
    "            \"embraer s.a.\": \"embraer\",\n",
    "            \"embraer sa\": \"embraer\",\n",
    "        }\n",
    "\n",
    "        if make in replacements:\n",
    "            make = replacements[make]\n",
    "\n",
    "        # Remove extra information\n",
    "        make = make.split(\"(\")[0].strip()\n",
    "        make = make.split(\" \")[0].strip() if \"ab (saab)\" in make else make\n",
    "\n",
    "    return make\n"
   ]
  },
  {
   "cell_type": "code",
   "execution_count": 287,
   "metadata": {
    "ExecuteTime": {
     "start_time": "2023-04-22T12:55:51.162959Z",
     "end_time": "2023-04-22T12:55:51.318526Z"
    }
   },
   "outputs": [],
   "source": [
    "# Apply the normalize_make function to the 'Make' column\n",
    "df['Make'] = df['Make'].apply(normalize_make)\n",
    "\n",
    "# Apply the clean_make function to the 'Make' column\n",
    "df['Make'] = df['Make'].apply(clean_make)\n",
    "\n",
    "# remove any value of 'unknown' in the 'Make' column\n",
    "df = df[df['Make'] != 'unknown']"
   ]
  },
  {
   "cell_type": "code",
   "execution_count": 288,
   "metadata": {
    "ExecuteTime": {
     "start_time": "2023-04-22T12:55:51.329550Z",
     "end_time": "2023-04-22T12:55:51.332530Z"
    }
   },
   "outputs": [
    {
     "data": {
      "text/plain": "cessna              27173\npiper               14897\nbeech                5397\nboeing               2796\nbell                 2766\n                    ...  \nthunder and colt       23\nbarnes                 22\npzl-mielec             22\ngarlick                22\ntemco                  21\nName: Make, Length: 117, dtype: int64"
     },
     "execution_count": 288,
     "metadata": {},
     "output_type": "execute_result"
    }
   ],
   "source": [
    "# print the number of times each 'Make' value occurs\n",
    "df['Make'].value_counts()"
   ]
  },
  {
   "cell_type": "code",
   "execution_count": 289,
   "metadata": {
    "ExecuteTime": {
     "start_time": "2023-04-22T12:55:51.333782Z",
     "end_time": "2023-04-22T12:55:51.335233Z"
    }
   },
   "outputs": [],
   "source": [
    "# Define a function to standardize and clean the 'Model' values\n",
    "def clean_model(model):\n",
    "    if isinstance(model, str):\n",
    "        replacements = {\n",
    "            \"1124A\": \"1124\",\n",
    "            \"1125 WESTWIND ASTRA\": \"1125\",\n",
    "            \"35A-300\": \"35A\",\n",
    "            \"AVRO  146\": \"AVRO 146\",\n",
    "            \"AVRO 146-RJ70A\": \"AVRO 146\",\n",
    "            \"AVRO 146-RJ85\": \"AVRO 146\",\n",
    "            \"AVRO146RJ - 100\": \"AVRO 146\",\n",
    "            \"Beechjet 400A\": \"Beechjet 400\",\n",
    "\n",
    "\n",
    "\n",
    "\n",
    "        }\n",
    "\n",
    "        if model in replacements:\n",
    "            model = replacements[model]\n",
    "\n",
    "        # Remove extra information\n",
    "        model = model.split(\"(\")[0].strip()\n",
    "        model = model.split(\" \")[0].strip() if \"ab (saab)\" in model else model\n",
    "\n",
    "    return model"
   ]
  },
  {
   "cell_type": "code",
   "execution_count": 290,
   "metadata": {
    "ExecuteTime": {
     "start_time": "2023-04-22T12:55:51.362198Z",
     "end_time": "2023-04-22T12:55:51.384556Z"
    }
   },
   "outputs": [],
   "source": [
    "# Boeing Model Name Cleaner\n",
    "\n",
    "df.loc[df['Make'].str.lower() == 'boeing', 'Model'] = df.loc[df['Make'].str.lower() == 'boeing', 'Model'].apply(lambda x: str(x)[7:10] if str(x).upper() == 'BOEING' else str(x).replace('B', '').replace('-', '')[:3])\n"
   ]
  },
  {
   "cell_type": "code",
   "execution_count": 291,
   "metadata": {
    "ExecuteTime": {
     "start_time": "2023-04-22T12:55:51.391798Z",
     "end_time": "2023-04-22T12:55:51.411083Z"
    }
   },
   "outputs": [],
   "source": [
    "# Airbus Model Name Cleaner\n",
    "df.loc[df['Make'] == 'airbus', 'Model'] = df.loc[df['Make'] == 'airbus', 'Model'].apply(lambda x: x[:5] if x[:5] == 'A-XXX' else x)\n",
    "df.loc[df['Make'] == 'airbus', 'Model'] = df.loc[df['Make'] == 'airbus', 'Model'].apply(lambda x: 'A-XXX' if x[:4] == 'AXXX' else x)\n"
   ]
  },
  {
   "cell_type": "code",
   "execution_count": 292,
   "metadata": {
    "ExecuteTime": {
     "start_time": "2023-04-22T12:55:51.419135Z",
     "end_time": "2023-04-22T12:55:51.437531Z"
    }
   },
   "outputs": [],
   "source": [
    "# BAE Model Name Cleaner\n",
    "df.loc[df['Make'] == 'british aerospace', 'Model'] = df.loc[df['Make'] == 'british aerospace', 'Model'].apply(lambda x: 'BAE 146' if x[:8] == 'BAE 146' or x[:8] == 'BAe 146' or x[:8] == 'BAE-146' else x)\n",
    "df.loc[df['Make'] == 'british aerospace', 'Model'] = df.loc[df['Make'] == 'british aerospace', 'Model'].apply(lambda x: 'BAE 125' if x[:8] == 'BAE 125' else x)"
   ]
  },
  {
   "cell_type": "code",
   "execution_count": 293,
   "metadata": {
    "ExecuteTime": {
     "start_time": "2023-04-22T12:55:51.449812Z",
     "end_time": "2023-04-22T12:55:51.453528Z"
    }
   },
   "outputs": [],
   "source": [
    "# Bombardier Model Name Cleaner\n",
    "df.loc[df['Make'] == 'bombardier', 'Model'] = df.loc[df['Make'] == 'bombardier', 'Model'].apply(lambda x: 'BD-100' if x == 'BD 100-1A10' or x == 'BD-100-1A10' or x == 'BD-100-1A10' or x == 'BD-100-1A10' else x)\n",
    "\n"
   ]
  },
  {
   "cell_type": "code",
   "execution_count": 295,
   "metadata": {
    "ExecuteTime": {
     "start_time": "2023-04-22T12:55:51.466049Z",
     "end_time": "2023-04-22T12:55:51.470290Z"
    }
   },
   "outputs": [],
   "source": [
    "# Lockheed Model Name Cleaner\n",
    "df.loc[df['Make'] == 'lockheed', 'Model'] = df.loc[df['Make'] == 'lockheed', 'Model'].apply(lambda x: x if x == '1329-23E' or x == '1329-25' else 'L-1011')\n"
   ]
  },
  {
   "cell_type": "code",
   "execution_count": 296,
   "metadata": {
    "ExecuteTime": {
     "start_time": "2023-04-22T12:55:51.469881Z",
     "end_time": "2023-04-22T12:55:51.524645Z"
    },
    "scrolled": true
   },
   "outputs": [
    {
     "data": {
      "text/plain": "             Event.Id Investigation.Type Accident.Number  Event.Date  \\\n0      20001218X45444           Accident      SEA87LA080  1948-10-24   \n1      20001218X45447           Accident      LAX94LA336  1962-07-19   \n2      20061025X01555           Accident      NYC07LA005  1974-08-30   \n3      20001218X45448           Accident      LAX96LA321  1977-06-19   \n4      20041105X01764           Accident      CHI79FA064  1979-08-02   \n...               ...                ...             ...         ...   \n90343  20221227106491           Accident      ERA23LA093  2022-12-26   \n90344  20221227106494           Accident      ERA23LA095  2022-12-26   \n90345  20221227106497           Accident      WPR23LA075  2022-12-26   \n90346  20221227106498           Accident      WPR23LA076  2022-12-26   \n90347  20221230106513           Accident      ERA23LA097  2022-12-29   \n\n              Location        Country   Latitude   Longitude Airport.Code  \\\n0      MOOSE CREEK, ID  United States        NaN         NaN          NaN   \n1       BRIDGEPORT, CA  United States        NaN         NaN          NaN   \n2        Saltville, VA  United States  36.922223  -81.878056          NaN   \n3           EUREKA, CA  United States        NaN         NaN          NaN   \n4           Canton, OH  United States        NaN         NaN          NaN   \n...                ...            ...        ...         ...          ...   \n90343    Annapolis, MD  United States        NaN         NaN          NaN   \n90344      Hampton, NH  United States        NaN         NaN          NaN   \n90345       Payson, AZ  United States    341525N    1112021W          PAN   \n90346       Morgan, UT  United States        NaN         NaN          NaN   \n90347       Athens, GA  United States        NaN         NaN          NaN   \n\n      Airport.Name  ... Purpose.of.flight         Air.carrier  \\\n0              NaN  ...          Personal                 NaN   \n1              NaN  ...          Personal                 NaN   \n2              NaN  ...          Personal                 NaN   \n3              NaN  ...          Personal                 NaN   \n4              NaN  ...          Personal                 NaN   \n...            ...  ...               ...                 ...   \n90343          NaN  ...          Personal                 NaN   \n90344          NaN  ...               NaN                 NaN   \n90345       PAYSON  ...          Personal                 NaN   \n90346          NaN  ...          Personal  MC CESSNA 210N LLC   \n90347          NaN  ...          Personal                 NaN   \n\n      Total.Fatal.Injuries Total.Serious.Injuries Total.Minor.Injuries  \\\n0                      2.0                    0.0                  0.0   \n1                      4.0                    0.0                  0.0   \n2                      3.0                    NaN                  NaN   \n3                      2.0                    0.0                  0.0   \n4                      1.0                    2.0                  NaN   \n...                    ...                    ...                  ...   \n90343                  0.0                    1.0                  0.0   \n90344                  0.0                    0.0                  0.0   \n90345                  0.0                    0.0                  0.0   \n90346                  0.0                    0.0                  0.0   \n90347                  0.0                    1.0                  0.0   \n\n      Total.Uninjured Weather.Condition  Broad.phase.of.flight  \\\n0                 0.0               UNK                 Cruise   \n1                 0.0               UNK                Unknown   \n2                 NaN               IMC                 Cruise   \n3                 0.0               IMC                 Cruise   \n4                 0.0               VMC               Approach   \n...               ...               ...                    ...   \n90343             0.0               NaN                    NaN   \n90344             0.0               NaN                    NaN   \n90345             1.0               VMC                    NaN   \n90346             0.0               NaN                    NaN   \n90347             1.0               NaN                    NaN   \n\n        Report.Status Publication.Date  \n0      Probable Cause              NaN  \n1      Probable Cause       19-09-1996  \n2      Probable Cause       26-02-2007  \n3      Probable Cause       12-09-2000  \n4      Probable Cause       16-04-1980  \n...               ...              ...  \n90343             NaN       29-12-2022  \n90344             NaN              NaN  \n90345             NaN       27-12-2022  \n90346             NaN              NaN  \n90347             NaN       30-12-2022  \n\n[75987 rows x 31 columns]",
      "text/html": "<div>\n<style scoped>\n    .dataframe tbody tr th:only-of-type {\n        vertical-align: middle;\n    }\n\n    .dataframe tbody tr th {\n        vertical-align: top;\n    }\n\n    .dataframe thead th {\n        text-align: right;\n    }\n</style>\n<table border=\"1\" class=\"dataframe\">\n  <thead>\n    <tr style=\"text-align: right;\">\n      <th></th>\n      <th>Event.Id</th>\n      <th>Investigation.Type</th>\n      <th>Accident.Number</th>\n      <th>Event.Date</th>\n      <th>Location</th>\n      <th>Country</th>\n      <th>Latitude</th>\n      <th>Longitude</th>\n      <th>Airport.Code</th>\n      <th>Airport.Name</th>\n      <th>...</th>\n      <th>Purpose.of.flight</th>\n      <th>Air.carrier</th>\n      <th>Total.Fatal.Injuries</th>\n      <th>Total.Serious.Injuries</th>\n      <th>Total.Minor.Injuries</th>\n      <th>Total.Uninjured</th>\n      <th>Weather.Condition</th>\n      <th>Broad.phase.of.flight</th>\n      <th>Report.Status</th>\n      <th>Publication.Date</th>\n    </tr>\n  </thead>\n  <tbody>\n    <tr>\n      <th>0</th>\n      <td>20001218X45444</td>\n      <td>Accident</td>\n      <td>SEA87LA080</td>\n      <td>1948-10-24</td>\n      <td>MOOSE CREEK, ID</td>\n      <td>United States</td>\n      <td>NaN</td>\n      <td>NaN</td>\n      <td>NaN</td>\n      <td>NaN</td>\n      <td>...</td>\n      <td>Personal</td>\n      <td>NaN</td>\n      <td>2.0</td>\n      <td>0.0</td>\n      <td>0.0</td>\n      <td>0.0</td>\n      <td>UNK</td>\n      <td>Cruise</td>\n      <td>Probable Cause</td>\n      <td>NaN</td>\n    </tr>\n    <tr>\n      <th>1</th>\n      <td>20001218X45447</td>\n      <td>Accident</td>\n      <td>LAX94LA336</td>\n      <td>1962-07-19</td>\n      <td>BRIDGEPORT, CA</td>\n      <td>United States</td>\n      <td>NaN</td>\n      <td>NaN</td>\n      <td>NaN</td>\n      <td>NaN</td>\n      <td>...</td>\n      <td>Personal</td>\n      <td>NaN</td>\n      <td>4.0</td>\n      <td>0.0</td>\n      <td>0.0</td>\n      <td>0.0</td>\n      <td>UNK</td>\n      <td>Unknown</td>\n      <td>Probable Cause</td>\n      <td>19-09-1996</td>\n    </tr>\n    <tr>\n      <th>2</th>\n      <td>20061025X01555</td>\n      <td>Accident</td>\n      <td>NYC07LA005</td>\n      <td>1974-08-30</td>\n      <td>Saltville, VA</td>\n      <td>United States</td>\n      <td>36.922223</td>\n      <td>-81.878056</td>\n      <td>NaN</td>\n      <td>NaN</td>\n      <td>...</td>\n      <td>Personal</td>\n      <td>NaN</td>\n      <td>3.0</td>\n      <td>NaN</td>\n      <td>NaN</td>\n      <td>NaN</td>\n      <td>IMC</td>\n      <td>Cruise</td>\n      <td>Probable Cause</td>\n      <td>26-02-2007</td>\n    </tr>\n    <tr>\n      <th>3</th>\n      <td>20001218X45448</td>\n      <td>Accident</td>\n      <td>LAX96LA321</td>\n      <td>1977-06-19</td>\n      <td>EUREKA, CA</td>\n      <td>United States</td>\n      <td>NaN</td>\n      <td>NaN</td>\n      <td>NaN</td>\n      <td>NaN</td>\n      <td>...</td>\n      <td>Personal</td>\n      <td>NaN</td>\n      <td>2.0</td>\n      <td>0.0</td>\n      <td>0.0</td>\n      <td>0.0</td>\n      <td>IMC</td>\n      <td>Cruise</td>\n      <td>Probable Cause</td>\n      <td>12-09-2000</td>\n    </tr>\n    <tr>\n      <th>4</th>\n      <td>20041105X01764</td>\n      <td>Accident</td>\n      <td>CHI79FA064</td>\n      <td>1979-08-02</td>\n      <td>Canton, OH</td>\n      <td>United States</td>\n      <td>NaN</td>\n      <td>NaN</td>\n      <td>NaN</td>\n      <td>NaN</td>\n      <td>...</td>\n      <td>Personal</td>\n      <td>NaN</td>\n      <td>1.0</td>\n      <td>2.0</td>\n      <td>NaN</td>\n      <td>0.0</td>\n      <td>VMC</td>\n      <td>Approach</td>\n      <td>Probable Cause</td>\n      <td>16-04-1980</td>\n    </tr>\n    <tr>\n      <th>...</th>\n      <td>...</td>\n      <td>...</td>\n      <td>...</td>\n      <td>...</td>\n      <td>...</td>\n      <td>...</td>\n      <td>...</td>\n      <td>...</td>\n      <td>...</td>\n      <td>...</td>\n      <td>...</td>\n      <td>...</td>\n      <td>...</td>\n      <td>...</td>\n      <td>...</td>\n      <td>...</td>\n      <td>...</td>\n      <td>...</td>\n      <td>...</td>\n      <td>...</td>\n      <td>...</td>\n    </tr>\n    <tr>\n      <th>90343</th>\n      <td>20221227106491</td>\n      <td>Accident</td>\n      <td>ERA23LA093</td>\n      <td>2022-12-26</td>\n      <td>Annapolis, MD</td>\n      <td>United States</td>\n      <td>NaN</td>\n      <td>NaN</td>\n      <td>NaN</td>\n      <td>NaN</td>\n      <td>...</td>\n      <td>Personal</td>\n      <td>NaN</td>\n      <td>0.0</td>\n      <td>1.0</td>\n      <td>0.0</td>\n      <td>0.0</td>\n      <td>NaN</td>\n      <td>NaN</td>\n      <td>NaN</td>\n      <td>29-12-2022</td>\n    </tr>\n    <tr>\n      <th>90344</th>\n      <td>20221227106494</td>\n      <td>Accident</td>\n      <td>ERA23LA095</td>\n      <td>2022-12-26</td>\n      <td>Hampton, NH</td>\n      <td>United States</td>\n      <td>NaN</td>\n      <td>NaN</td>\n      <td>NaN</td>\n      <td>NaN</td>\n      <td>...</td>\n      <td>NaN</td>\n      <td>NaN</td>\n      <td>0.0</td>\n      <td>0.0</td>\n      <td>0.0</td>\n      <td>0.0</td>\n      <td>NaN</td>\n      <td>NaN</td>\n      <td>NaN</td>\n      <td>NaN</td>\n    </tr>\n    <tr>\n      <th>90345</th>\n      <td>20221227106497</td>\n      <td>Accident</td>\n      <td>WPR23LA075</td>\n      <td>2022-12-26</td>\n      <td>Payson, AZ</td>\n      <td>United States</td>\n      <td>341525N</td>\n      <td>1112021W</td>\n      <td>PAN</td>\n      <td>PAYSON</td>\n      <td>...</td>\n      <td>Personal</td>\n      <td>NaN</td>\n      <td>0.0</td>\n      <td>0.0</td>\n      <td>0.0</td>\n      <td>1.0</td>\n      <td>VMC</td>\n      <td>NaN</td>\n      <td>NaN</td>\n      <td>27-12-2022</td>\n    </tr>\n    <tr>\n      <th>90346</th>\n      <td>20221227106498</td>\n      <td>Accident</td>\n      <td>WPR23LA076</td>\n      <td>2022-12-26</td>\n      <td>Morgan, UT</td>\n      <td>United States</td>\n      <td>NaN</td>\n      <td>NaN</td>\n      <td>NaN</td>\n      <td>NaN</td>\n      <td>...</td>\n      <td>Personal</td>\n      <td>MC CESSNA 210N LLC</td>\n      <td>0.0</td>\n      <td>0.0</td>\n      <td>0.0</td>\n      <td>0.0</td>\n      <td>NaN</td>\n      <td>NaN</td>\n      <td>NaN</td>\n      <td>NaN</td>\n    </tr>\n    <tr>\n      <th>90347</th>\n      <td>20221230106513</td>\n      <td>Accident</td>\n      <td>ERA23LA097</td>\n      <td>2022-12-29</td>\n      <td>Athens, GA</td>\n      <td>United States</td>\n      <td>NaN</td>\n      <td>NaN</td>\n      <td>NaN</td>\n      <td>NaN</td>\n      <td>...</td>\n      <td>Personal</td>\n      <td>NaN</td>\n      <td>0.0</td>\n      <td>1.0</td>\n      <td>0.0</td>\n      <td>1.0</td>\n      <td>NaN</td>\n      <td>NaN</td>\n      <td>NaN</td>\n      <td>30-12-2022</td>\n    </tr>\n  </tbody>\n</table>\n<p>75987 rows × 31 columns</p>\n</div>"
     },
     "execution_count": 296,
     "metadata": {},
     "output_type": "execute_result"
    }
   ],
   "source": [
    "# testing to see that dataset still is intact after cleaning makes\n",
    "df"
   ]
  },
  {
   "cell_type": "markdown",
   "metadata": {},
   "source": [
    "We need to create a new dataframe so that Qi's weather analysis code can run later\n"
   ]
  },
  {
   "cell_type": "code",
   "execution_count": 297,
   "metadata": {
    "ExecuteTime": {
     "start_time": "2023-04-22T12:55:51.524042Z",
     "end_time": "2023-04-22T12:55:51.537051Z"
    }
   },
   "outputs": [],
   "source": [
    "Qdf1 = df.copy()"
   ]
  },
  {
   "cell_type": "raw",
   "metadata": {},
   "source": []
  },
  {
   "cell_type": "markdown",
   "metadata": {},
   "source": [
    "We need to load a new dataframe so that Scott's engine exploration code can run later\n"
   ]
  },
  {
   "cell_type": "code",
   "execution_count": 298,
   "metadata": {
    "ExecuteTime": {
     "start_time": "2023-04-22T12:55:51.538235Z",
     "end_time": "2023-04-22T12:55:52.051656Z"
    }
   },
   "outputs": [],
   "source": [
    "#load dataset\n",
    "Sdf = pd.read_csv('data/Aviation_Data.csv', low_memory=False)"
   ]
  },
  {
   "cell_type": "code",
   "execution_count": 299,
   "metadata": {
    "ExecuteTime": {
     "start_time": "2023-04-22T12:55:52.045954Z",
     "end_time": "2023-04-22T12:55:52.052032Z"
    }
   },
   "outputs": [
    {
     "data": {
      "text/plain": "             Event.Id Investigation.Type Accident.Number  Event.Date  \\\n5      20170710X52551           Accident      NYC79AA106  1979-09-17   \n79     20020917X01897           Incident      CHI82IA026  1982-01-12   \n84     20020917X01907           Accident      DCA82AA011  1982-01-13   \n155    20020917X01909           Accident      DCA82AA013  1982-01-23   \n344    20020917X02404           Accident      MIA82FA051  1982-02-17   \n...               ...                ...             ...         ...   \n88090  20210904103797           Accident      WPR21LA335  2021-09-03   \n88946  20220406104897           Accident      WPR22LA143  2022-04-02   \n89204  20220623105307           Accident      DCA22LA134  2022-05-22   \n89491  20220718105497           Accident      DCA22LA151  2022-07-02   \n89576  20220720105531           Accident      ERA22LA325  2022-07-15   \n\n                 Location        Country   Latitude   Longitude Airport.Code  \\\n5              BOSTON, MA  United States  42.445277  -70.758333          NaN   \n79            CHICAGO, IL  United States        NaN         NaN          ORD   \n84         WASHINGTON, DC  United States        NaN         NaN          NaN   \n155            BOSTON, MA  United States        NaN         NaN          NaN   \n344             MIAMI, FL  United States        NaN         NaN          MIA   \n...                   ...            ...        ...         ...          ...   \n88090  Salt Lake City, UT  United States    404718N    1115840W          SLC   \n88946        Van Nuys, CA  United States    034137N    1182932W          VNY   \n89204          Tacoma, WA  United States    047119N    1221625W          NaN   \n89491       Santa Ana, CA  United States    334033N    0117525W          sna   \n89576       Brunswick, GA  United States    311533N    0812759W          BQK   \n\n                         Airport.Name  ...    Purpose.of.flight  \\\n5                                 NaN  ...                  NaN   \n79             CHICAGO O'HARE INTER'L  ...              Unknown   \n84                WASHINGTON NATIONAL  ...              Unknown   \n155              BOSTON-LOGAN INTER'L  ...              Unknown   \n344               MIAMI INTERNATIONAL  ...              Unknown   \n...                               ...  ...                  ...   \n88090  Salt Lake City International A  ...              Unknown   \n88946                        Van Nuys  ...  Executive/corporate   \n89204                             NaN  ...                  NaN   \n89491  John Wayne Orange County Airpo  ...                  NaN   \n89576          BRUNSWICK GOLDEN ISLES  ...             Business   \n\n                          Air.carrier Total.Fatal.Injuries  \\\n5                          Air Canada                  NaN   \n79               Trans World Airlines                  0.0   \n84                   Air Florida, Inc                 78.0   \n155               World Airways, Inc.                  2.0   \n344    Pan American World Airways, In                  0.0   \n...                               ...                  ...   \n88090              Exclusive Jets LLC                  0.0   \n88946            SANCTUS AVIATION LLC                  0.0   \n89204           SOUTHWEST AIRLINES CO                  0.0   \n89491           SOUTHWEST AIRLINES CO                  0.0   \n89576        Aircraft Mgt. Group, Inc                  0.0   \n\n      Total.Serious.Injuries Total.Minor.Injuries Total.Uninjured  \\\n5                        NaN                  1.0            44.0   \n79                       0.0                  0.0           149.0   \n84                       6.0                  3.0             0.0   \n155                      4.0                 24.0           182.0   \n344                      1.0                  1.0            51.0   \n...                      ...                  ...             ...   \n88090                    0.0                  0.0             6.0   \n88946                    0.0                  0.0             8.0   \n89204                    1.0                  0.0            66.0   \n89491                    0.0                  1.0           141.0   \n89576                    0.0                  0.0             2.0   \n\n      Weather.Condition  Broad.phase.of.flight  \\\n5                   VMC                  Climb   \n79                  UNK                 Cruise   \n84                  IMC                Takeoff   \n155                 IMC                Landing   \n344                 VMC                Takeoff   \n...                 ...                    ...   \n88090               VMC                    NaN   \n88946               VMC                    NaN   \n89204               VMC                    NaN   \n89491               VMC                    NaN   \n89576               VMC                    NaN   \n\n                                           Report.Status Publication.Date  \n5                                         Probable Cause       19-09-2017  \n79                                        Probable Cause       12-01-1983  \n84                                        Probable Cause       13-01-1983  \n155                                       Probable Cause       23-01-1983  \n344                                       Probable Cause       17-02-1983  \n...                                                  ...              ...  \n88090  The airplanes impact with birds during approa...              NaN  \n88946  The student pilots failure to maintain suffic...       20-07-2022  \n89204  During cruise flight with no reported turbulen...              NaN  \n89491  A flight attendant received a serious injury d...              NaN  \n89576                An in-flight collision with a bird.       03-11-2022  \n\n[2287 rows x 31 columns]",
      "text/html": "<div>\n<style scoped>\n    .dataframe tbody tr th:only-of-type {\n        vertical-align: middle;\n    }\n\n    .dataframe tbody tr th {\n        vertical-align: top;\n    }\n\n    .dataframe thead th {\n        text-align: right;\n    }\n</style>\n<table border=\"1\" class=\"dataframe\">\n  <thead>\n    <tr style=\"text-align: right;\">\n      <th></th>\n      <th>Event.Id</th>\n      <th>Investigation.Type</th>\n      <th>Accident.Number</th>\n      <th>Event.Date</th>\n      <th>Location</th>\n      <th>Country</th>\n      <th>Latitude</th>\n      <th>Longitude</th>\n      <th>Airport.Code</th>\n      <th>Airport.Name</th>\n      <th>...</th>\n      <th>Purpose.of.flight</th>\n      <th>Air.carrier</th>\n      <th>Total.Fatal.Injuries</th>\n      <th>Total.Serious.Injuries</th>\n      <th>Total.Minor.Injuries</th>\n      <th>Total.Uninjured</th>\n      <th>Weather.Condition</th>\n      <th>Broad.phase.of.flight</th>\n      <th>Report.Status</th>\n      <th>Publication.Date</th>\n    </tr>\n  </thead>\n  <tbody>\n    <tr>\n      <th>5</th>\n      <td>20170710X52551</td>\n      <td>Accident</td>\n      <td>NYC79AA106</td>\n      <td>1979-09-17</td>\n      <td>BOSTON, MA</td>\n      <td>United States</td>\n      <td>42.445277</td>\n      <td>-70.758333</td>\n      <td>NaN</td>\n      <td>NaN</td>\n      <td>...</td>\n      <td>NaN</td>\n      <td>Air Canada</td>\n      <td>NaN</td>\n      <td>NaN</td>\n      <td>1.0</td>\n      <td>44.0</td>\n      <td>VMC</td>\n      <td>Climb</td>\n      <td>Probable Cause</td>\n      <td>19-09-2017</td>\n    </tr>\n    <tr>\n      <th>79</th>\n      <td>20020917X01897</td>\n      <td>Incident</td>\n      <td>CHI82IA026</td>\n      <td>1982-01-12</td>\n      <td>CHICAGO, IL</td>\n      <td>United States</td>\n      <td>NaN</td>\n      <td>NaN</td>\n      <td>ORD</td>\n      <td>CHICAGO O'HARE INTER'L</td>\n      <td>...</td>\n      <td>Unknown</td>\n      <td>Trans World Airlines</td>\n      <td>0.0</td>\n      <td>0.0</td>\n      <td>0.0</td>\n      <td>149.0</td>\n      <td>UNK</td>\n      <td>Cruise</td>\n      <td>Probable Cause</td>\n      <td>12-01-1983</td>\n    </tr>\n    <tr>\n      <th>84</th>\n      <td>20020917X01907</td>\n      <td>Accident</td>\n      <td>DCA82AA011</td>\n      <td>1982-01-13</td>\n      <td>WASHINGTON, DC</td>\n      <td>United States</td>\n      <td>NaN</td>\n      <td>NaN</td>\n      <td>NaN</td>\n      <td>WASHINGTON NATIONAL</td>\n      <td>...</td>\n      <td>Unknown</td>\n      <td>Air Florida, Inc</td>\n      <td>78.0</td>\n      <td>6.0</td>\n      <td>3.0</td>\n      <td>0.0</td>\n      <td>IMC</td>\n      <td>Takeoff</td>\n      <td>Probable Cause</td>\n      <td>13-01-1983</td>\n    </tr>\n    <tr>\n      <th>155</th>\n      <td>20020917X01909</td>\n      <td>Accident</td>\n      <td>DCA82AA013</td>\n      <td>1982-01-23</td>\n      <td>BOSTON, MA</td>\n      <td>United States</td>\n      <td>NaN</td>\n      <td>NaN</td>\n      <td>NaN</td>\n      <td>BOSTON-LOGAN INTER'L</td>\n      <td>...</td>\n      <td>Unknown</td>\n      <td>World Airways, Inc.</td>\n      <td>2.0</td>\n      <td>4.0</td>\n      <td>24.0</td>\n      <td>182.0</td>\n      <td>IMC</td>\n      <td>Landing</td>\n      <td>Probable Cause</td>\n      <td>23-01-1983</td>\n    </tr>\n    <tr>\n      <th>344</th>\n      <td>20020917X02404</td>\n      <td>Accident</td>\n      <td>MIA82FA051</td>\n      <td>1982-02-17</td>\n      <td>MIAMI, FL</td>\n      <td>United States</td>\n      <td>NaN</td>\n      <td>NaN</td>\n      <td>MIA</td>\n      <td>MIAMI INTERNATIONAL</td>\n      <td>...</td>\n      <td>Unknown</td>\n      <td>Pan American World Airways, In</td>\n      <td>0.0</td>\n      <td>1.0</td>\n      <td>1.0</td>\n      <td>51.0</td>\n      <td>VMC</td>\n      <td>Takeoff</td>\n      <td>Probable Cause</td>\n      <td>17-02-1983</td>\n    </tr>\n    <tr>\n      <th>...</th>\n      <td>...</td>\n      <td>...</td>\n      <td>...</td>\n      <td>...</td>\n      <td>...</td>\n      <td>...</td>\n      <td>...</td>\n      <td>...</td>\n      <td>...</td>\n      <td>...</td>\n      <td>...</td>\n      <td>...</td>\n      <td>...</td>\n      <td>...</td>\n      <td>...</td>\n      <td>...</td>\n      <td>...</td>\n      <td>...</td>\n      <td>...</td>\n      <td>...</td>\n      <td>...</td>\n    </tr>\n    <tr>\n      <th>88090</th>\n      <td>20210904103797</td>\n      <td>Accident</td>\n      <td>WPR21LA335</td>\n      <td>2021-09-03</td>\n      <td>Salt Lake City, UT</td>\n      <td>United States</td>\n      <td>404718N</td>\n      <td>1115840W</td>\n      <td>SLC</td>\n      <td>Salt Lake City International A</td>\n      <td>...</td>\n      <td>Unknown</td>\n      <td>Exclusive Jets LLC</td>\n      <td>0.0</td>\n      <td>0.0</td>\n      <td>0.0</td>\n      <td>6.0</td>\n      <td>VMC</td>\n      <td>NaN</td>\n      <td>The airplanes impact with birds during approa...</td>\n      <td>NaN</td>\n    </tr>\n    <tr>\n      <th>88946</th>\n      <td>20220406104897</td>\n      <td>Accident</td>\n      <td>WPR22LA143</td>\n      <td>2022-04-02</td>\n      <td>Van Nuys, CA</td>\n      <td>United States</td>\n      <td>034137N</td>\n      <td>1182932W</td>\n      <td>VNY</td>\n      <td>Van Nuys</td>\n      <td>...</td>\n      <td>Executive/corporate</td>\n      <td>SANCTUS AVIATION LLC</td>\n      <td>0.0</td>\n      <td>0.0</td>\n      <td>0.0</td>\n      <td>8.0</td>\n      <td>VMC</td>\n      <td>NaN</td>\n      <td>The student pilots failure to maintain suffic...</td>\n      <td>20-07-2022</td>\n    </tr>\n    <tr>\n      <th>89204</th>\n      <td>20220623105307</td>\n      <td>Accident</td>\n      <td>DCA22LA134</td>\n      <td>2022-05-22</td>\n      <td>Tacoma, WA</td>\n      <td>United States</td>\n      <td>047119N</td>\n      <td>1221625W</td>\n      <td>NaN</td>\n      <td>NaN</td>\n      <td>...</td>\n      <td>NaN</td>\n      <td>SOUTHWEST AIRLINES CO</td>\n      <td>0.0</td>\n      <td>1.0</td>\n      <td>0.0</td>\n      <td>66.0</td>\n      <td>VMC</td>\n      <td>NaN</td>\n      <td>During cruise flight with no reported turbulen...</td>\n      <td>NaN</td>\n    </tr>\n    <tr>\n      <th>89491</th>\n      <td>20220718105497</td>\n      <td>Accident</td>\n      <td>DCA22LA151</td>\n      <td>2022-07-02</td>\n      <td>Santa Ana, CA</td>\n      <td>United States</td>\n      <td>334033N</td>\n      <td>0117525W</td>\n      <td>sna</td>\n      <td>John Wayne Orange County Airpo</td>\n      <td>...</td>\n      <td>NaN</td>\n      <td>SOUTHWEST AIRLINES CO</td>\n      <td>0.0</td>\n      <td>0.0</td>\n      <td>1.0</td>\n      <td>141.0</td>\n      <td>VMC</td>\n      <td>NaN</td>\n      <td>A flight attendant received a serious injury d...</td>\n      <td>NaN</td>\n    </tr>\n    <tr>\n      <th>89576</th>\n      <td>20220720105531</td>\n      <td>Accident</td>\n      <td>ERA22LA325</td>\n      <td>2022-07-15</td>\n      <td>Brunswick, GA</td>\n      <td>United States</td>\n      <td>311533N</td>\n      <td>0812759W</td>\n      <td>BQK</td>\n      <td>BRUNSWICK GOLDEN ISLES</td>\n      <td>...</td>\n      <td>Business</td>\n      <td>Aircraft Mgt. Group, Inc</td>\n      <td>0.0</td>\n      <td>0.0</td>\n      <td>0.0</td>\n      <td>2.0</td>\n      <td>VMC</td>\n      <td>NaN</td>\n      <td>An in-flight collision with a bird.</td>\n      <td>03-11-2022</td>\n    </tr>\n  </tbody>\n</table>\n<p>2287 rows × 31 columns</p>\n</div>"
     },
     "execution_count": 299,
     "metadata": {},
     "output_type": "execute_result"
    }
   ],
   "source": [
    "# Only keep rows with a value of 'Turbo Fan' or 'Geared Turbofan' in the 'Engine.Type' column\n",
    "df = df[df['Engine.Type'].isin(['Turbo Fan', 'Geared Turbofan'])]\n",
    "df"
   ]
  },
  {
   "cell_type": "code",
   "execution_count": 300,
   "metadata": {
    "ExecuteTime": {
     "start_time": "2023-04-22T12:55:52.052992Z",
     "end_time": "2023-04-22T12:55:52.071348Z"
    }
   },
   "outputs": [
    {
     "data": {
      "text/plain": "             Event.Id Investigation.Type Accident.Number  Event.Date  \\\n737    20020917X01902           Incident      CHI82IA112  1982-04-02   \n906    20020917X02479           Incident      MKC82IA059  1982-04-20   \n1489   20020917X03815           Accident      MKC82DA099  1982-06-08   \n3292   20020917X04492           Accident      DCA83AA005  1982-11-18   \n3620   20001214X41966           Accident      DCA83AA010  1983-01-03   \n...               ...                ...             ...         ...   \n85785  20200520X14844           Accident      CEN20LA185  2020-05-20   \n86143  20200723X40050           Accident      ERA20LA259  2020-07-22   \n87367  20210524103131           Accident      ERA21LA227  2021-05-02   \n88946  20220406104897           Accident      WPR22LA143  2022-04-02   \n89576  20220720105531           Accident      ERA22LA325  2022-07-15   \n\n                Location        Country Latitude Longitude Airport.Code  \\\n737          DETROIT, MI  United States      NaN       NaN          DTW   \n906        ST. LOUIS, MO  United States      NaN       NaN          STL   \n1489          TOPEKA, KS  United States      NaN       NaN          TOP   \n3292   MOUNTAIN VIEW, MO  United States      NaN       NaN          NaN   \n3620          HAILEY, ID  United States      NaN       NaN          SUN   \n...                  ...            ...      ...       ...          ...   \n85785        Houston, TX  United States  293845N  0951637W          HOU   \n86143     Montgomery, AL  United States  032185N  0862343W          MGM   \n87367     Charleston, SC  United States  324141N  0080011W          JZI   \n88946       Van Nuys, CA  United States  034137N  1182932W          VNY   \n89576      Brunswick, GA  United States  311533N  0812759W          BQK   \n\n                         Airport.Name  ...    Purpose.of.flight  \\\n737                     DETROIT METRO  ...  Executive/corporate   \n906            LAMBERT-ST. LOUIS INTL  ...  Executive/corporate   \n1489                  PHILLIP BILLARD  ...             Business   \n3292             MOUTAIN VIEW AIRPORT  ...             Business   \n3620                FRIEDMAN MEMORIAL  ...  Executive/corporate   \n...                               ...  ...                  ...   \n85785                 William P Hobby  ...             Personal   \n86143  Montgomery Rgnl (Dannelly Fiel  ...             Personal   \n87367                 CHARLESTON EXEC  ...             Personal   \n88946                        Van Nuys  ...  Executive/corporate   \n89576          BRUNSWICK GOLDEN ISLES  ...             Business   \n\n                    Air.carrier Total.Fatal.Injuries Total.Serious.Injuries  \\\n737                         NaN                  0.0                    0.0   \n906                         NaN                  0.0                    0.0   \n1489                        NaN                  0.0                    1.0   \n3292                        NaN                  3.0                    0.0   \n3620                        NaN                  2.0                    0.0   \n...                         ...                  ...                    ...   \n85785                       NaN                  0.0                    0.0   \n86143                N425BJ LLC                  0.0                    0.0   \n87367          STB AVIATION LLC                  0.0                    0.0   \n88946      SANCTUS AVIATION LLC                  0.0                    0.0   \n89576  Aircraft Mgt. Group, Inc                  0.0                    0.0   \n\n      Total.Minor.Injuries Total.Uninjured Weather.Condition  \\\n737                    0.0             8.0               VMC   \n906                    0.0             2.0               VMC   \n1489                   0.0             1.0               VMC   \n3292                   0.0             0.0               IMC   \n3620                   0.0             0.0               VMC   \n...                    ...             ...               ...   \n85785                  0.0             1.0               VMC   \n86143                  0.0             2.0               VMC   \n87367                  0.0             6.0               VMC   \n88946                  0.0             8.0               VMC   \n89576                  0.0             2.0               VMC   \n\n       Broad.phase.of.flight  \\\n737                     Taxi   \n906                 Approach   \n1489                Standing   \n3292                 Takeoff   \n3620                Approach   \n...                      ...   \n85785                    NaN   \n86143                    NaN   \n87367                    NaN   \n88946                    NaN   \n89576                    NaN   \n\n                                           Report.Status Publication.Date  \n737                                       Probable Cause       02-04-1983  \n906                                       Probable Cause       20-04-1983  \n1489                                      Probable Cause       08-06-1983  \n3292                                      Probable Cause       18-11-1983  \n3620                                      Probable Cause              NaN  \n...                                                  ...              ...  \n85785                                                NaN       26-09-2020  \n86143                                                NaN       26-09-2020  \n87367  The airplane's impact with a deer during takeoff.              NaN  \n88946  The student pilots failure to maintain suffic...       20-07-2022  \n89576                An in-flight collision with a bird.       03-11-2022  \n\n[230 rows x 31 columns]",
      "text/html": "<div>\n<style scoped>\n    .dataframe tbody tr th:only-of-type {\n        vertical-align: middle;\n    }\n\n    .dataframe tbody tr th {\n        vertical-align: top;\n    }\n\n    .dataframe thead th {\n        text-align: right;\n    }\n</style>\n<table border=\"1\" class=\"dataframe\">\n  <thead>\n    <tr style=\"text-align: right;\">\n      <th></th>\n      <th>Event.Id</th>\n      <th>Investigation.Type</th>\n      <th>Accident.Number</th>\n      <th>Event.Date</th>\n      <th>Location</th>\n      <th>Country</th>\n      <th>Latitude</th>\n      <th>Longitude</th>\n      <th>Airport.Code</th>\n      <th>Airport.Name</th>\n      <th>...</th>\n      <th>Purpose.of.flight</th>\n      <th>Air.carrier</th>\n      <th>Total.Fatal.Injuries</th>\n      <th>Total.Serious.Injuries</th>\n      <th>Total.Minor.Injuries</th>\n      <th>Total.Uninjured</th>\n      <th>Weather.Condition</th>\n      <th>Broad.phase.of.flight</th>\n      <th>Report.Status</th>\n      <th>Publication.Date</th>\n    </tr>\n  </thead>\n  <tbody>\n    <tr>\n      <th>737</th>\n      <td>20020917X01902</td>\n      <td>Incident</td>\n      <td>CHI82IA112</td>\n      <td>1982-04-02</td>\n      <td>DETROIT, MI</td>\n      <td>United States</td>\n      <td>NaN</td>\n      <td>NaN</td>\n      <td>DTW</td>\n      <td>DETROIT METRO</td>\n      <td>...</td>\n      <td>Executive/corporate</td>\n      <td>NaN</td>\n      <td>0.0</td>\n      <td>0.0</td>\n      <td>0.0</td>\n      <td>8.0</td>\n      <td>VMC</td>\n      <td>Taxi</td>\n      <td>Probable Cause</td>\n      <td>02-04-1983</td>\n    </tr>\n    <tr>\n      <th>906</th>\n      <td>20020917X02479</td>\n      <td>Incident</td>\n      <td>MKC82IA059</td>\n      <td>1982-04-20</td>\n      <td>ST. LOUIS, MO</td>\n      <td>United States</td>\n      <td>NaN</td>\n      <td>NaN</td>\n      <td>STL</td>\n      <td>LAMBERT-ST. LOUIS INTL</td>\n      <td>...</td>\n      <td>Executive/corporate</td>\n      <td>NaN</td>\n      <td>0.0</td>\n      <td>0.0</td>\n      <td>0.0</td>\n      <td>2.0</td>\n      <td>VMC</td>\n      <td>Approach</td>\n      <td>Probable Cause</td>\n      <td>20-04-1983</td>\n    </tr>\n    <tr>\n      <th>1489</th>\n      <td>20020917X03815</td>\n      <td>Accident</td>\n      <td>MKC82DA099</td>\n      <td>1982-06-08</td>\n      <td>TOPEKA, KS</td>\n      <td>United States</td>\n      <td>NaN</td>\n      <td>NaN</td>\n      <td>TOP</td>\n      <td>PHILLIP BILLARD</td>\n      <td>...</td>\n      <td>Business</td>\n      <td>NaN</td>\n      <td>0.0</td>\n      <td>1.0</td>\n      <td>0.0</td>\n      <td>1.0</td>\n      <td>VMC</td>\n      <td>Standing</td>\n      <td>Probable Cause</td>\n      <td>08-06-1983</td>\n    </tr>\n    <tr>\n      <th>3292</th>\n      <td>20020917X04492</td>\n      <td>Accident</td>\n      <td>DCA83AA005</td>\n      <td>1982-11-18</td>\n      <td>MOUNTAIN VIEW, MO</td>\n      <td>United States</td>\n      <td>NaN</td>\n      <td>NaN</td>\n      <td>NaN</td>\n      <td>MOUTAIN VIEW AIRPORT</td>\n      <td>...</td>\n      <td>Business</td>\n      <td>NaN</td>\n      <td>3.0</td>\n      <td>0.0</td>\n      <td>0.0</td>\n      <td>0.0</td>\n      <td>IMC</td>\n      <td>Takeoff</td>\n      <td>Probable Cause</td>\n      <td>18-11-1983</td>\n    </tr>\n    <tr>\n      <th>3620</th>\n      <td>20001214X41966</td>\n      <td>Accident</td>\n      <td>DCA83AA010</td>\n      <td>1983-01-03</td>\n      <td>HAILEY, ID</td>\n      <td>United States</td>\n      <td>NaN</td>\n      <td>NaN</td>\n      <td>SUN</td>\n      <td>FRIEDMAN MEMORIAL</td>\n      <td>...</td>\n      <td>Executive/corporate</td>\n      <td>NaN</td>\n      <td>2.0</td>\n      <td>0.0</td>\n      <td>0.0</td>\n      <td>0.0</td>\n      <td>VMC</td>\n      <td>Approach</td>\n      <td>Probable Cause</td>\n      <td>NaN</td>\n    </tr>\n    <tr>\n      <th>...</th>\n      <td>...</td>\n      <td>...</td>\n      <td>...</td>\n      <td>...</td>\n      <td>...</td>\n      <td>...</td>\n      <td>...</td>\n      <td>...</td>\n      <td>...</td>\n      <td>...</td>\n      <td>...</td>\n      <td>...</td>\n      <td>...</td>\n      <td>...</td>\n      <td>...</td>\n      <td>...</td>\n      <td>...</td>\n      <td>...</td>\n      <td>...</td>\n      <td>...</td>\n      <td>...</td>\n    </tr>\n    <tr>\n      <th>85785</th>\n      <td>20200520X14844</td>\n      <td>Accident</td>\n      <td>CEN20LA185</td>\n      <td>2020-05-20</td>\n      <td>Houston, TX</td>\n      <td>United States</td>\n      <td>293845N</td>\n      <td>0951637W</td>\n      <td>HOU</td>\n      <td>William P Hobby</td>\n      <td>...</td>\n      <td>Personal</td>\n      <td>NaN</td>\n      <td>0.0</td>\n      <td>0.0</td>\n      <td>0.0</td>\n      <td>1.0</td>\n      <td>VMC</td>\n      <td>NaN</td>\n      <td>NaN</td>\n      <td>26-09-2020</td>\n    </tr>\n    <tr>\n      <th>86143</th>\n      <td>20200723X40050</td>\n      <td>Accident</td>\n      <td>ERA20LA259</td>\n      <td>2020-07-22</td>\n      <td>Montgomery, AL</td>\n      <td>United States</td>\n      <td>032185N</td>\n      <td>0862343W</td>\n      <td>MGM</td>\n      <td>Montgomery Rgnl (Dannelly Fiel</td>\n      <td>...</td>\n      <td>Personal</td>\n      <td>N425BJ LLC</td>\n      <td>0.0</td>\n      <td>0.0</td>\n      <td>0.0</td>\n      <td>2.0</td>\n      <td>VMC</td>\n      <td>NaN</td>\n      <td>NaN</td>\n      <td>26-09-2020</td>\n    </tr>\n    <tr>\n      <th>87367</th>\n      <td>20210524103131</td>\n      <td>Accident</td>\n      <td>ERA21LA227</td>\n      <td>2021-05-02</td>\n      <td>Charleston, SC</td>\n      <td>United States</td>\n      <td>324141N</td>\n      <td>0080011W</td>\n      <td>JZI</td>\n      <td>CHARLESTON EXEC</td>\n      <td>...</td>\n      <td>Personal</td>\n      <td>STB AVIATION LLC</td>\n      <td>0.0</td>\n      <td>0.0</td>\n      <td>0.0</td>\n      <td>6.0</td>\n      <td>VMC</td>\n      <td>NaN</td>\n      <td>The airplane's impact with a deer during takeoff.</td>\n      <td>NaN</td>\n    </tr>\n    <tr>\n      <th>88946</th>\n      <td>20220406104897</td>\n      <td>Accident</td>\n      <td>WPR22LA143</td>\n      <td>2022-04-02</td>\n      <td>Van Nuys, CA</td>\n      <td>United States</td>\n      <td>034137N</td>\n      <td>1182932W</td>\n      <td>VNY</td>\n      <td>Van Nuys</td>\n      <td>...</td>\n      <td>Executive/corporate</td>\n      <td>SANCTUS AVIATION LLC</td>\n      <td>0.0</td>\n      <td>0.0</td>\n      <td>0.0</td>\n      <td>8.0</td>\n      <td>VMC</td>\n      <td>NaN</td>\n      <td>The student pilots failure to maintain suffic...</td>\n      <td>20-07-2022</td>\n    </tr>\n    <tr>\n      <th>89576</th>\n      <td>20220720105531</td>\n      <td>Accident</td>\n      <td>ERA22LA325</td>\n      <td>2022-07-15</td>\n      <td>Brunswick, GA</td>\n      <td>United States</td>\n      <td>311533N</td>\n      <td>0812759W</td>\n      <td>BQK</td>\n      <td>BRUNSWICK GOLDEN ISLES</td>\n      <td>...</td>\n      <td>Business</td>\n      <td>Aircraft Mgt. Group, Inc</td>\n      <td>0.0</td>\n      <td>0.0</td>\n      <td>0.0</td>\n      <td>2.0</td>\n      <td>VMC</td>\n      <td>NaN</td>\n      <td>An in-flight collision with a bird.</td>\n      <td>03-11-2022</td>\n    </tr>\n  </tbody>\n</table>\n<p>230 rows × 31 columns</p>\n</div>"
     },
     "execution_count": 300,
     "metadata": {},
     "output_type": "execute_result"
    }
   ],
   "source": [
    "# Filter the dataset to only include rows with a value of 'Business', 'Personal' or 'Executive/corporate' in the 'Purpose.of.flight' column\n",
    "df  = df[df['Purpose.of.flight'].isin(['Business', 'Personal', 'Executive/corporate'])]\n",
    "\n",
    "df"
   ]
  },
  {
   "cell_type": "code",
   "execution_count": 301,
   "outputs": [
    {
     "name": "stderr",
     "output_type": "stream",
     "text": [
      "<ipython-input-301-51f48e2d124a>:2: SettingWithCopyWarning: \n",
      "A value is trying to be set on a copy of a slice from a DataFrame.\n",
      "Try using .loc[row_indexer,col_indexer] = value instead\n",
      "\n",
      "See the caveats in the documentation: https://pandas.pydata.org/pandas-docs/stable/user_guide/indexing.html#returning-a-view-versus-a-copy\n",
      "  df['Make_Model'] = df['Make'] + ' ' + df['Model']\n"
     ]
    }
   ],
   "source": [
    "# create a new column that is a combination of the 'Make' and 'Model' columns\n",
    "df['Make_Model'] = df['Make'] + ' ' + df['Model']"
   ],
   "metadata": {
    "collapsed": false,
    "ExecuteTime": {
     "start_time": "2023-04-22T12:55:52.072921Z",
     "end_time": "2023-04-22T12:55:52.082859Z"
    }
   }
  },
  {
   "cell_type": "code",
   "execution_count": 302,
   "metadata": {
    "ExecuteTime": {
     "start_time": "2023-04-22T12:55:52.095708Z",
     "end_time": "2023-04-22T12:55:52.142212Z"
    }
   },
   "outputs": [
    {
     "data": {
      "text/plain": "             Event.Id Investigation.Type Accident.Number  Event.Date  \\\n737    20020917X01902           Incident      CHI82IA112  1982-04-02   \n906    20020917X02479           Incident      MKC82IA059  1982-04-20   \n3292   20020917X04492           Accident      DCA83AA005  1982-11-18   \n3620   20001214X41966           Accident      DCA83AA010  1983-01-03   \n3702   20001214X42024           Incident      LAX83IA073  1983-01-16   \n...               ...                ...             ...         ...   \n53256  20020829X01483           Accident      NYC02LA172  2002-08-10   \n53618  20021023X05375           Accident      NYC03FA002  2002-10-07   \n53924  20021220X05625           Accident      SEA03LA018  2002-12-16   \n55156  20030724X01192           Accident      SEA03FA147  2003-07-22   \n55941  20040122X00098           Accident      LAX04LA058  2003-12-04   \n\n                Location        Country   Latitude    Longitude Airport.Code  \\\n737          DETROIT, MI  United States        NaN          NaN          DTW   \n906        ST. LOUIS, MO  United States        NaN          NaN          STL   \n3292   MOUNTAIN VIEW, MO  United States        NaN          NaN          NaN   \n3620          HAILEY, ID  United States        NaN          NaN          SUN   \n3702     LOS ANGELES, CA  United States        NaN          NaN          LAX   \n...                  ...            ...        ...          ...          ...   \n53256       SANDUSKY, OH  United States  41.433333   -80.652222          SKY   \n53618         DEXTER, ME  United States  45.008333   -69.240833          1B0   \n53924        SEATTLE, WA  United States  47.516667  -122.303333          BFI   \n55156     COUPEVILLE, WA  United States  48.208056  -122.576389          NaN   \n55941      SAN DIEGO, CA  United States  32.815556  -117.139444         KMYF   \n\n                    Airport.Name  ... Air.carrier Total.Fatal.Injuries  \\\n737                DETROIT METRO  ...         NaN                  0.0   \n906       LAMBERT-ST. LOUIS INTL  ...         NaN                  0.0   \n3292        MOUTAIN VIEW AIRPORT  ...         NaN                  3.0   \n3620           FRIEDMAN MEMORIAL  ...         NaN                  2.0   \n3702                 LOS ANGELES  ...         NaN                  0.0   \n...                          ...  ...         ...                  ...   \n53256  Griffing Sandusky Airport  ...         NaN                  NaN   \n53618    Dexter Regional Airport  ...         NaN                  NaN   \n53924    Boeing Fld/King Co Intl  ...         NaN                  NaN   \n55156                        NaN  ...         NaN                  NaN   \n55941                  San Diego  ...         NaN                  NaN   \n\n      Total.Serious.Injuries Total.Minor.Injuries Total.Uninjured  \\\n737                      0.0                  0.0             8.0   \n906                      0.0                  0.0             2.0   \n3292                     0.0                  0.0             0.0   \n3620                     0.0                  0.0             0.0   \n3702                     0.0                  0.0           412.0   \n...                      ...                  ...             ...   \n53256                    NaN                  NaN             2.0   \n53618                    2.0                  2.0             NaN   \n53924                    NaN                  NaN             3.0   \n55156                    NaN                  NaN             2.0   \n55941                    NaN                  NaN             3.0   \n\n      Weather.Condition Broad.phase.of.flight   Report.Status  \\\n737                 VMC                  Taxi  Probable Cause   \n906                 VMC              Approach  Probable Cause   \n3292                IMC               Takeoff  Probable Cause   \n3620                VMC              Approach  Probable Cause   \n3702                VMC                  Taxi  Probable Cause   \n...                 ...                   ...             ...   \n53256               VMC               Takeoff  Probable Cause   \n53618               VMC               Landing  Probable Cause   \n53924               IMC               Landing  Probable Cause   \n55156               VMC                 Climb  Probable Cause   \n55941               IMC               Landing  Probable Cause   \n\n      Publication.Date              Make_Model  \n737         02-04-1983  rockwell SABRELINER 65  \n906         20-04-1983      rockwell NA-265-65  \n3292        18-11-1983              cessna 551  \n3620               NaN  bombardier CL-600-1A11  \n3702               NaN              boeing 747  \n...                ...                     ...  \n53256       18-04-2003              cessna 500  \n53618       30-06-2004             cessna 525A  \n53924       23-07-2003  hawker siddeley DH-125  \n55156       27-10-2005     cessna Citation 525  \n55941       28-12-2004              cessna 525  \n\n[100 rows x 32 columns]",
      "text/html": "<div>\n<style scoped>\n    .dataframe tbody tr th:only-of-type {\n        vertical-align: middle;\n    }\n\n    .dataframe tbody tr th {\n        vertical-align: top;\n    }\n\n    .dataframe thead th {\n        text-align: right;\n    }\n</style>\n<table border=\"1\" class=\"dataframe\">\n  <thead>\n    <tr style=\"text-align: right;\">\n      <th></th>\n      <th>Event.Id</th>\n      <th>Investigation.Type</th>\n      <th>Accident.Number</th>\n      <th>Event.Date</th>\n      <th>Location</th>\n      <th>Country</th>\n      <th>Latitude</th>\n      <th>Longitude</th>\n      <th>Airport.Code</th>\n      <th>Airport.Name</th>\n      <th>...</th>\n      <th>Air.carrier</th>\n      <th>Total.Fatal.Injuries</th>\n      <th>Total.Serious.Injuries</th>\n      <th>Total.Minor.Injuries</th>\n      <th>Total.Uninjured</th>\n      <th>Weather.Condition</th>\n      <th>Broad.phase.of.flight</th>\n      <th>Report.Status</th>\n      <th>Publication.Date</th>\n      <th>Make_Model</th>\n    </tr>\n  </thead>\n  <tbody>\n    <tr>\n      <th>737</th>\n      <td>20020917X01902</td>\n      <td>Incident</td>\n      <td>CHI82IA112</td>\n      <td>1982-04-02</td>\n      <td>DETROIT, MI</td>\n      <td>United States</td>\n      <td>NaN</td>\n      <td>NaN</td>\n      <td>DTW</td>\n      <td>DETROIT METRO</td>\n      <td>...</td>\n      <td>NaN</td>\n      <td>0.0</td>\n      <td>0.0</td>\n      <td>0.0</td>\n      <td>8.0</td>\n      <td>VMC</td>\n      <td>Taxi</td>\n      <td>Probable Cause</td>\n      <td>02-04-1983</td>\n      <td>rockwell SABRELINER 65</td>\n    </tr>\n    <tr>\n      <th>906</th>\n      <td>20020917X02479</td>\n      <td>Incident</td>\n      <td>MKC82IA059</td>\n      <td>1982-04-20</td>\n      <td>ST. LOUIS, MO</td>\n      <td>United States</td>\n      <td>NaN</td>\n      <td>NaN</td>\n      <td>STL</td>\n      <td>LAMBERT-ST. LOUIS INTL</td>\n      <td>...</td>\n      <td>NaN</td>\n      <td>0.0</td>\n      <td>0.0</td>\n      <td>0.0</td>\n      <td>2.0</td>\n      <td>VMC</td>\n      <td>Approach</td>\n      <td>Probable Cause</td>\n      <td>20-04-1983</td>\n      <td>rockwell NA-265-65</td>\n    </tr>\n    <tr>\n      <th>3292</th>\n      <td>20020917X04492</td>\n      <td>Accident</td>\n      <td>DCA83AA005</td>\n      <td>1982-11-18</td>\n      <td>MOUNTAIN VIEW, MO</td>\n      <td>United States</td>\n      <td>NaN</td>\n      <td>NaN</td>\n      <td>NaN</td>\n      <td>MOUTAIN VIEW AIRPORT</td>\n      <td>...</td>\n      <td>NaN</td>\n      <td>3.0</td>\n      <td>0.0</td>\n      <td>0.0</td>\n      <td>0.0</td>\n      <td>IMC</td>\n      <td>Takeoff</td>\n      <td>Probable Cause</td>\n      <td>18-11-1983</td>\n      <td>cessna 551</td>\n    </tr>\n    <tr>\n      <th>3620</th>\n      <td>20001214X41966</td>\n      <td>Accident</td>\n      <td>DCA83AA010</td>\n      <td>1983-01-03</td>\n      <td>HAILEY, ID</td>\n      <td>United States</td>\n      <td>NaN</td>\n      <td>NaN</td>\n      <td>SUN</td>\n      <td>FRIEDMAN MEMORIAL</td>\n      <td>...</td>\n      <td>NaN</td>\n      <td>2.0</td>\n      <td>0.0</td>\n      <td>0.0</td>\n      <td>0.0</td>\n      <td>VMC</td>\n      <td>Approach</td>\n      <td>Probable Cause</td>\n      <td>NaN</td>\n      <td>bombardier CL-600-1A11</td>\n    </tr>\n    <tr>\n      <th>3702</th>\n      <td>20001214X42024</td>\n      <td>Incident</td>\n      <td>LAX83IA073</td>\n      <td>1983-01-16</td>\n      <td>LOS ANGELES, CA</td>\n      <td>United States</td>\n      <td>NaN</td>\n      <td>NaN</td>\n      <td>LAX</td>\n      <td>LOS ANGELES</td>\n      <td>...</td>\n      <td>NaN</td>\n      <td>0.0</td>\n      <td>0.0</td>\n      <td>0.0</td>\n      <td>412.0</td>\n      <td>VMC</td>\n      <td>Taxi</td>\n      <td>Probable Cause</td>\n      <td>NaN</td>\n      <td>boeing 747</td>\n    </tr>\n    <tr>\n      <th>...</th>\n      <td>...</td>\n      <td>...</td>\n      <td>...</td>\n      <td>...</td>\n      <td>...</td>\n      <td>...</td>\n      <td>...</td>\n      <td>...</td>\n      <td>...</td>\n      <td>...</td>\n      <td>...</td>\n      <td>...</td>\n      <td>...</td>\n      <td>...</td>\n      <td>...</td>\n      <td>...</td>\n      <td>...</td>\n      <td>...</td>\n      <td>...</td>\n      <td>...</td>\n      <td>...</td>\n    </tr>\n    <tr>\n      <th>53256</th>\n      <td>20020829X01483</td>\n      <td>Accident</td>\n      <td>NYC02LA172</td>\n      <td>2002-08-10</td>\n      <td>SANDUSKY, OH</td>\n      <td>United States</td>\n      <td>41.433333</td>\n      <td>-80.652222</td>\n      <td>SKY</td>\n      <td>Griffing Sandusky Airport</td>\n      <td>...</td>\n      <td>NaN</td>\n      <td>NaN</td>\n      <td>NaN</td>\n      <td>NaN</td>\n      <td>2.0</td>\n      <td>VMC</td>\n      <td>Takeoff</td>\n      <td>Probable Cause</td>\n      <td>18-04-2003</td>\n      <td>cessna 500</td>\n    </tr>\n    <tr>\n      <th>53618</th>\n      <td>20021023X05375</td>\n      <td>Accident</td>\n      <td>NYC03FA002</td>\n      <td>2002-10-07</td>\n      <td>DEXTER, ME</td>\n      <td>United States</td>\n      <td>45.008333</td>\n      <td>-69.240833</td>\n      <td>1B0</td>\n      <td>Dexter Regional Airport</td>\n      <td>...</td>\n      <td>NaN</td>\n      <td>NaN</td>\n      <td>2.0</td>\n      <td>2.0</td>\n      <td>NaN</td>\n      <td>VMC</td>\n      <td>Landing</td>\n      <td>Probable Cause</td>\n      <td>30-06-2004</td>\n      <td>cessna 525A</td>\n    </tr>\n    <tr>\n      <th>53924</th>\n      <td>20021220X05625</td>\n      <td>Accident</td>\n      <td>SEA03LA018</td>\n      <td>2002-12-16</td>\n      <td>SEATTLE, WA</td>\n      <td>United States</td>\n      <td>47.516667</td>\n      <td>-122.303333</td>\n      <td>BFI</td>\n      <td>Boeing Fld/King Co Intl</td>\n      <td>...</td>\n      <td>NaN</td>\n      <td>NaN</td>\n      <td>NaN</td>\n      <td>NaN</td>\n      <td>3.0</td>\n      <td>IMC</td>\n      <td>Landing</td>\n      <td>Probable Cause</td>\n      <td>23-07-2003</td>\n      <td>hawker siddeley DH-125</td>\n    </tr>\n    <tr>\n      <th>55156</th>\n      <td>20030724X01192</td>\n      <td>Accident</td>\n      <td>SEA03FA147</td>\n      <td>2003-07-22</td>\n      <td>COUPEVILLE, WA</td>\n      <td>United States</td>\n      <td>48.208056</td>\n      <td>-122.576389</td>\n      <td>NaN</td>\n      <td>NaN</td>\n      <td>...</td>\n      <td>NaN</td>\n      <td>NaN</td>\n      <td>NaN</td>\n      <td>NaN</td>\n      <td>2.0</td>\n      <td>VMC</td>\n      <td>Climb</td>\n      <td>Probable Cause</td>\n      <td>27-10-2005</td>\n      <td>cessna Citation 525</td>\n    </tr>\n    <tr>\n      <th>55941</th>\n      <td>20040122X00098</td>\n      <td>Accident</td>\n      <td>LAX04LA058</td>\n      <td>2003-12-04</td>\n      <td>SAN DIEGO, CA</td>\n      <td>United States</td>\n      <td>32.815556</td>\n      <td>-117.139444</td>\n      <td>KMYF</td>\n      <td>San Diego</td>\n      <td>...</td>\n      <td>NaN</td>\n      <td>NaN</td>\n      <td>NaN</td>\n      <td>NaN</td>\n      <td>3.0</td>\n      <td>IMC</td>\n      <td>Landing</td>\n      <td>Probable Cause</td>\n      <td>28-12-2004</td>\n      <td>cessna 525</td>\n    </tr>\n  </tbody>\n</table>\n<p>100 rows × 32 columns</p>\n</div>"
     },
     "execution_count": 302,
     "metadata": {},
     "output_type": "execute_result"
    }
   ],
   "source": [
    "# Remove all rows with value of 'Unknown' in the 'Aircraft.damage' column\n",
    "df = df[df['Aircraft.damage'] != 'Unknown']\n",
    "\n",
    "# Remove all rows with no value in the 'Aircraft.damage' column\n",
    "df = df[df['Aircraft.damage'].notna()]\n",
    "\n",
    "df.head(100)"
   ]
  },
  {
   "cell_type": "code",
   "execution_count": 303,
   "metadata": {
    "ExecuteTime": {
     "start_time": "2023-04-22T12:55:52.102406Z",
     "end_time": "2023-04-22T12:55:52.184705Z"
    }
   },
   "outputs": [],
   "source": [
    "# Cleaning the 'Injury.Severity' column\n",
    "\n",
    "# Check if the first 5 characters of the 'Injury.Severity' column are 'Fatal', and is greater than 5 characters.\n",
    "# If it is, then set the value to 'Fatal'\n",
    "df.loc[df['Injury.Severity'].str[:5] == 'Fatal', 'Injury.Severity'] = 'Fatal'\n",
    "\n",
    "# Check if the value of the 'Injury.Severity' column matches 'Incident', 'Serious', 'Minor'. If it does, then set the value to 'Non-Fatal'\n",
    "df.loc[df['Injury.Severity'].isin(['Incident', 'Serious', 'Minor']), 'Injury.Severity'] = 'Non-Fatal'\n",
    "\n",
    "# Remove all rows with no value in the 'Injury.Severity' column\n",
    "df = df[df['Injury.Severity'].notna()]\n",
    "\n",
    "# Remove all rows with value of 'Unavailable' in the 'Injury.Severity' column\n",
    "df = df[df['Injury.Severity'] != 'Unavailable']"
   ]
  },
  {
   "cell_type": "code",
   "execution_count": 304,
   "metadata": {
    "ExecuteTime": {
     "start_time": "2023-04-22T12:55:52.107666Z",
     "end_time": "2023-04-22T12:55:52.193627Z"
    }
   },
   "outputs": [
    {
     "data": {
      "text/plain": "             Event.Id Investigation.Type Accident.Number  Event.Date  \\\n737    20020917X01902           Incident      CHI82IA112  1982-04-02   \n906    20020917X02479           Incident      MKC82IA059  1982-04-20   \n3292   20020917X04492           Accident      DCA83AA005  1982-11-18   \n3620   20001214X41966           Accident      DCA83AA010  1983-01-03   \n3702   20001214X42024           Incident      LAX83IA073  1983-01-16   \n...               ...                ...             ...         ...   \n53256  20020829X01483           Accident      NYC02LA172  2002-08-10   \n53618  20021023X05375           Accident      NYC03FA002  2002-10-07   \n53924  20021220X05625           Accident      SEA03LA018  2002-12-16   \n55156  20030724X01192           Accident      SEA03FA147  2003-07-22   \n55941  20040122X00098           Accident      LAX04LA058  2003-12-04   \n\n                Location        Country   Latitude    Longitude Airport.Code  \\\n737          DETROIT, MI  United States        NaN          NaN          DTW   \n906        ST. LOUIS, MO  United States        NaN          NaN          STL   \n3292   MOUNTAIN VIEW, MO  United States        NaN          NaN          NaN   \n3620          HAILEY, ID  United States        NaN          NaN          SUN   \n3702     LOS ANGELES, CA  United States        NaN          NaN          LAX   \n...                  ...            ...        ...          ...          ...   \n53256       SANDUSKY, OH  United States  41.433333   -80.652222          SKY   \n53618         DEXTER, ME  United States  45.008333   -69.240833          1B0   \n53924        SEATTLE, WA  United States  47.516667  -122.303333          BFI   \n55156     COUPEVILLE, WA  United States  48.208056  -122.576389          NaN   \n55941      SAN DIEGO, CA  United States  32.815556  -117.139444         KMYF   \n\n                    Airport.Name  ... Air.carrier Total.Fatal.Injuries  \\\n737                DETROIT METRO  ...         NaN                  0.0   \n906       LAMBERT-ST. LOUIS INTL  ...         NaN                  0.0   \n3292        MOUTAIN VIEW AIRPORT  ...         NaN                  3.0   \n3620           FRIEDMAN MEMORIAL  ...         NaN                  2.0   \n3702                 LOS ANGELES  ...         NaN                  0.0   \n...                          ...  ...         ...                  ...   \n53256  Griffing Sandusky Airport  ...         NaN                  NaN   \n53618    Dexter Regional Airport  ...         NaN                  NaN   \n53924    Boeing Fld/King Co Intl  ...         NaN                  NaN   \n55156                        NaN  ...         NaN                  NaN   \n55941                  San Diego  ...         NaN                  NaN   \n\n      Total.Serious.Injuries Total.Minor.Injuries Total.Uninjured  \\\n737                      0.0                  0.0             8.0   \n906                      0.0                  0.0             2.0   \n3292                     0.0                  0.0             0.0   \n3620                     0.0                  0.0             0.0   \n3702                     0.0                  0.0           412.0   \n...                      ...                  ...             ...   \n53256                    NaN                  NaN             2.0   \n53618                    2.0                  2.0             NaN   \n53924                    NaN                  NaN             3.0   \n55156                    NaN                  NaN             2.0   \n55941                    NaN                  NaN             3.0   \n\n      Weather.Condition Broad.phase.of.flight   Report.Status  \\\n737                 VMC                  Taxi  Probable Cause   \n906                 VMC              Approach  Probable Cause   \n3292                IMC               Takeoff  Probable Cause   \n3620                VMC              Approach  Probable Cause   \n3702                VMC                  Taxi  Probable Cause   \n...                 ...                   ...             ...   \n53256               VMC               Takeoff  Probable Cause   \n53618               VMC               Landing  Probable Cause   \n53924               IMC               Landing  Probable Cause   \n55156               VMC                 Climb  Probable Cause   \n55941               IMC               Landing  Probable Cause   \n\n      Publication.Date              Make_Model  \n737         02-04-1983  rockwell SABRELINER 65  \n906         20-04-1983      rockwell NA-265-65  \n3292        18-11-1983              cessna 551  \n3620               NaN  bombardier CL-600-1A11  \n3702               NaN              boeing 747  \n...                ...                     ...  \n53256       18-04-2003              cessna 500  \n53618       30-06-2004             cessna 525A  \n53924       23-07-2003  hawker siddeley DH-125  \n55156       27-10-2005     cessna Citation 525  \n55941       28-12-2004              cessna 525  \n\n[100 rows x 32 columns]",
      "text/html": "<div>\n<style scoped>\n    .dataframe tbody tr th:only-of-type {\n        vertical-align: middle;\n    }\n\n    .dataframe tbody tr th {\n        vertical-align: top;\n    }\n\n    .dataframe thead th {\n        text-align: right;\n    }\n</style>\n<table border=\"1\" class=\"dataframe\">\n  <thead>\n    <tr style=\"text-align: right;\">\n      <th></th>\n      <th>Event.Id</th>\n      <th>Investigation.Type</th>\n      <th>Accident.Number</th>\n      <th>Event.Date</th>\n      <th>Location</th>\n      <th>Country</th>\n      <th>Latitude</th>\n      <th>Longitude</th>\n      <th>Airport.Code</th>\n      <th>Airport.Name</th>\n      <th>...</th>\n      <th>Air.carrier</th>\n      <th>Total.Fatal.Injuries</th>\n      <th>Total.Serious.Injuries</th>\n      <th>Total.Minor.Injuries</th>\n      <th>Total.Uninjured</th>\n      <th>Weather.Condition</th>\n      <th>Broad.phase.of.flight</th>\n      <th>Report.Status</th>\n      <th>Publication.Date</th>\n      <th>Make_Model</th>\n    </tr>\n  </thead>\n  <tbody>\n    <tr>\n      <th>737</th>\n      <td>20020917X01902</td>\n      <td>Incident</td>\n      <td>CHI82IA112</td>\n      <td>1982-04-02</td>\n      <td>DETROIT, MI</td>\n      <td>United States</td>\n      <td>NaN</td>\n      <td>NaN</td>\n      <td>DTW</td>\n      <td>DETROIT METRO</td>\n      <td>...</td>\n      <td>NaN</td>\n      <td>0.0</td>\n      <td>0.0</td>\n      <td>0.0</td>\n      <td>8.0</td>\n      <td>VMC</td>\n      <td>Taxi</td>\n      <td>Probable Cause</td>\n      <td>02-04-1983</td>\n      <td>rockwell SABRELINER 65</td>\n    </tr>\n    <tr>\n      <th>906</th>\n      <td>20020917X02479</td>\n      <td>Incident</td>\n      <td>MKC82IA059</td>\n      <td>1982-04-20</td>\n      <td>ST. LOUIS, MO</td>\n      <td>United States</td>\n      <td>NaN</td>\n      <td>NaN</td>\n      <td>STL</td>\n      <td>LAMBERT-ST. LOUIS INTL</td>\n      <td>...</td>\n      <td>NaN</td>\n      <td>0.0</td>\n      <td>0.0</td>\n      <td>0.0</td>\n      <td>2.0</td>\n      <td>VMC</td>\n      <td>Approach</td>\n      <td>Probable Cause</td>\n      <td>20-04-1983</td>\n      <td>rockwell NA-265-65</td>\n    </tr>\n    <tr>\n      <th>3292</th>\n      <td>20020917X04492</td>\n      <td>Accident</td>\n      <td>DCA83AA005</td>\n      <td>1982-11-18</td>\n      <td>MOUNTAIN VIEW, MO</td>\n      <td>United States</td>\n      <td>NaN</td>\n      <td>NaN</td>\n      <td>NaN</td>\n      <td>MOUTAIN VIEW AIRPORT</td>\n      <td>...</td>\n      <td>NaN</td>\n      <td>3.0</td>\n      <td>0.0</td>\n      <td>0.0</td>\n      <td>0.0</td>\n      <td>IMC</td>\n      <td>Takeoff</td>\n      <td>Probable Cause</td>\n      <td>18-11-1983</td>\n      <td>cessna 551</td>\n    </tr>\n    <tr>\n      <th>3620</th>\n      <td>20001214X41966</td>\n      <td>Accident</td>\n      <td>DCA83AA010</td>\n      <td>1983-01-03</td>\n      <td>HAILEY, ID</td>\n      <td>United States</td>\n      <td>NaN</td>\n      <td>NaN</td>\n      <td>SUN</td>\n      <td>FRIEDMAN MEMORIAL</td>\n      <td>...</td>\n      <td>NaN</td>\n      <td>2.0</td>\n      <td>0.0</td>\n      <td>0.0</td>\n      <td>0.0</td>\n      <td>VMC</td>\n      <td>Approach</td>\n      <td>Probable Cause</td>\n      <td>NaN</td>\n      <td>bombardier CL-600-1A11</td>\n    </tr>\n    <tr>\n      <th>3702</th>\n      <td>20001214X42024</td>\n      <td>Incident</td>\n      <td>LAX83IA073</td>\n      <td>1983-01-16</td>\n      <td>LOS ANGELES, CA</td>\n      <td>United States</td>\n      <td>NaN</td>\n      <td>NaN</td>\n      <td>LAX</td>\n      <td>LOS ANGELES</td>\n      <td>...</td>\n      <td>NaN</td>\n      <td>0.0</td>\n      <td>0.0</td>\n      <td>0.0</td>\n      <td>412.0</td>\n      <td>VMC</td>\n      <td>Taxi</td>\n      <td>Probable Cause</td>\n      <td>NaN</td>\n      <td>boeing 747</td>\n    </tr>\n    <tr>\n      <th>...</th>\n      <td>...</td>\n      <td>...</td>\n      <td>...</td>\n      <td>...</td>\n      <td>...</td>\n      <td>...</td>\n      <td>...</td>\n      <td>...</td>\n      <td>...</td>\n      <td>...</td>\n      <td>...</td>\n      <td>...</td>\n      <td>...</td>\n      <td>...</td>\n      <td>...</td>\n      <td>...</td>\n      <td>...</td>\n      <td>...</td>\n      <td>...</td>\n      <td>...</td>\n      <td>...</td>\n    </tr>\n    <tr>\n      <th>53256</th>\n      <td>20020829X01483</td>\n      <td>Accident</td>\n      <td>NYC02LA172</td>\n      <td>2002-08-10</td>\n      <td>SANDUSKY, OH</td>\n      <td>United States</td>\n      <td>41.433333</td>\n      <td>-80.652222</td>\n      <td>SKY</td>\n      <td>Griffing Sandusky Airport</td>\n      <td>...</td>\n      <td>NaN</td>\n      <td>NaN</td>\n      <td>NaN</td>\n      <td>NaN</td>\n      <td>2.0</td>\n      <td>VMC</td>\n      <td>Takeoff</td>\n      <td>Probable Cause</td>\n      <td>18-04-2003</td>\n      <td>cessna 500</td>\n    </tr>\n    <tr>\n      <th>53618</th>\n      <td>20021023X05375</td>\n      <td>Accident</td>\n      <td>NYC03FA002</td>\n      <td>2002-10-07</td>\n      <td>DEXTER, ME</td>\n      <td>United States</td>\n      <td>45.008333</td>\n      <td>-69.240833</td>\n      <td>1B0</td>\n      <td>Dexter Regional Airport</td>\n      <td>...</td>\n      <td>NaN</td>\n      <td>NaN</td>\n      <td>2.0</td>\n      <td>2.0</td>\n      <td>NaN</td>\n      <td>VMC</td>\n      <td>Landing</td>\n      <td>Probable Cause</td>\n      <td>30-06-2004</td>\n      <td>cessna 525A</td>\n    </tr>\n    <tr>\n      <th>53924</th>\n      <td>20021220X05625</td>\n      <td>Accident</td>\n      <td>SEA03LA018</td>\n      <td>2002-12-16</td>\n      <td>SEATTLE, WA</td>\n      <td>United States</td>\n      <td>47.516667</td>\n      <td>-122.303333</td>\n      <td>BFI</td>\n      <td>Boeing Fld/King Co Intl</td>\n      <td>...</td>\n      <td>NaN</td>\n      <td>NaN</td>\n      <td>NaN</td>\n      <td>NaN</td>\n      <td>3.0</td>\n      <td>IMC</td>\n      <td>Landing</td>\n      <td>Probable Cause</td>\n      <td>23-07-2003</td>\n      <td>hawker siddeley DH-125</td>\n    </tr>\n    <tr>\n      <th>55156</th>\n      <td>20030724X01192</td>\n      <td>Accident</td>\n      <td>SEA03FA147</td>\n      <td>2003-07-22</td>\n      <td>COUPEVILLE, WA</td>\n      <td>United States</td>\n      <td>48.208056</td>\n      <td>-122.576389</td>\n      <td>NaN</td>\n      <td>NaN</td>\n      <td>...</td>\n      <td>NaN</td>\n      <td>NaN</td>\n      <td>NaN</td>\n      <td>NaN</td>\n      <td>2.0</td>\n      <td>VMC</td>\n      <td>Climb</td>\n      <td>Probable Cause</td>\n      <td>27-10-2005</td>\n      <td>cessna Citation 525</td>\n    </tr>\n    <tr>\n      <th>55941</th>\n      <td>20040122X00098</td>\n      <td>Accident</td>\n      <td>LAX04LA058</td>\n      <td>2003-12-04</td>\n      <td>SAN DIEGO, CA</td>\n      <td>United States</td>\n      <td>32.815556</td>\n      <td>-117.139444</td>\n      <td>KMYF</td>\n      <td>San Diego</td>\n      <td>...</td>\n      <td>NaN</td>\n      <td>NaN</td>\n      <td>NaN</td>\n      <td>NaN</td>\n      <td>3.0</td>\n      <td>IMC</td>\n      <td>Landing</td>\n      <td>Probable Cause</td>\n      <td>28-12-2004</td>\n      <td>cessna 525</td>\n    </tr>\n  </tbody>\n</table>\n<p>100 rows × 32 columns</p>\n</div>"
     },
     "execution_count": 304,
     "metadata": {},
     "output_type": "execute_result"
    }
   ],
   "source": [
    "df.head(100)"
   ]
  },
  {
   "cell_type": "code",
   "execution_count": 305,
   "metadata": {
    "ExecuteTime": {
     "start_time": "2023-04-22T12:55:52.126469Z",
     "end_time": "2023-04-22T12:55:52.193962Z"
    }
   },
   "outputs": [],
   "source": [
    "# filter df to only include rows with a value of 'Business', 'Personal' or 'Executive/corporate' in the 'Purpose.of.flight' column\n",
    "df = df[df['Purpose.of.flight'].isin(['Business', 'Personal', 'Executive/corporate'])]"
   ]
  },
  {
   "cell_type": "code",
   "execution_count": 306,
   "metadata": {
    "ExecuteTime": {
     "start_time": "2023-04-22T12:55:52.133504Z",
     "end_time": "2023-04-22T12:55:52.194243Z"
    }
   },
   "outputs": [],
   "source": [
    "# safety score calculator version 2\n",
    "aircraft_damage_points = {\n",
    "    'Destroyed': 1,\n",
    "    'Substantial': 2,\n",
    "    'Minor': 3\n",
    "}\n",
    "\n",
    "injury_severity_points = {\n",
    "    'Fatal': 1,\n",
    "    'Non-Fatal': 2\n",
    "}\n",
    "\n",
    "df['Aircraft.Damage.Points'] = df['Aircraft.damage'].map(aircraft_damage_points)\n",
    "df['Injury.Severity.Points'] = df['Injury.Severity'].map(injury_severity_points)\n",
    "\n",
    "make_model_group = df.groupby(['Make', 'Model', 'Purpose.of.flight']).agg({\n",
    "    'Aircraft.Damage.Points': 'mean',\n",
    "    'Injury.Severity.Points': 'mean'\n",
    "}).reset_index()\n",
    "\n",
    "make_model_group['Safety.Score'] = (\n",
    "        make_model_group['Injury.Severity.Points'] * 0.75 +\n",
    "        make_model_group['Aircraft.Damage.Points'] * 0.25\n",
    ")\n",
    "\n",
    "# Normalize the safety scores to a range of 0-100\n",
    "max_score = make_model_group['Safety.Score'].max()\n",
    "min_score = make_model_group['Safety.Score'].min()\n",
    "make_model_group['Safety.Score'] = ((make_model_group['Safety.Score'] - min_score) / (max_score - min_score)) * 100\n",
    "\n",
    "# Sort the DataFrame by the safety score in descending order (higher score = safer)\n",
    "make_model_safety_scores = make_model_group.sort_values(by='Safety.Score', ascending=False)\n"
   ]
  },
  {
   "cell_type": "code",
   "execution_count": 307,
   "metadata": {
    "ExecuteTime": {
     "start_time": "2023-04-22T12:55:52.147475Z",
     "end_time": "2023-04-22T12:55:52.194740Z"
    }
   },
   "outputs": [
    {
     "data": {
      "text/plain": "                           Make          Model    Purpose.of.flight  \\\n118                    rockwell  SABRELINER 65  Executive/corporate   \n109                    raytheon           400A  Executive/corporate   \n61            dassault aviation        DA-900B  Executive/corporate   \n62            dassault aviation          DA20F             Business   \n65                      embraer            500             Personal   \n..                          ...            ...                  ...   \n63            dassault aviation      FALCON 50  Executive/corporate   \n69                gates learjet            24F             Business   \n94   israel aircraft industries           1124             Personal   \n100  israel aircraft industries  Westwind 1124  Executive/corporate   \n97   israel aircraft industries          1124A             Personal   \n\n     Aircraft.Damage.Points  Injury.Severity.Points  Safety.Score  \n118                     3.0                     2.0         100.0  \n109                     3.0                     2.0         100.0  \n61                      3.0                     2.0         100.0  \n62                      3.0                     2.0         100.0  \n65                      3.0                     2.0         100.0  \n..                      ...                     ...           ...  \n63                      1.0                     1.0           0.0  \n69                      1.0                     1.0           0.0  \n94                      1.0                     1.0           0.0  \n100                     1.0                     1.0           0.0  \n97                      1.0                     1.0           0.0  \n\n[119 rows x 6 columns]",
      "text/html": "<div>\n<style scoped>\n    .dataframe tbody tr th:only-of-type {\n        vertical-align: middle;\n    }\n\n    .dataframe tbody tr th {\n        vertical-align: top;\n    }\n\n    .dataframe thead th {\n        text-align: right;\n    }\n</style>\n<table border=\"1\" class=\"dataframe\">\n  <thead>\n    <tr style=\"text-align: right;\">\n      <th></th>\n      <th>Make</th>\n      <th>Model</th>\n      <th>Purpose.of.flight</th>\n      <th>Aircraft.Damage.Points</th>\n      <th>Injury.Severity.Points</th>\n      <th>Safety.Score</th>\n    </tr>\n  </thead>\n  <tbody>\n    <tr>\n      <th>118</th>\n      <td>rockwell</td>\n      <td>SABRELINER 65</td>\n      <td>Executive/corporate</td>\n      <td>3.0</td>\n      <td>2.0</td>\n      <td>100.0</td>\n    </tr>\n    <tr>\n      <th>109</th>\n      <td>raytheon</td>\n      <td>400A</td>\n      <td>Executive/corporate</td>\n      <td>3.0</td>\n      <td>2.0</td>\n      <td>100.0</td>\n    </tr>\n    <tr>\n      <th>61</th>\n      <td>dassault aviation</td>\n      <td>DA-900B</td>\n      <td>Executive/corporate</td>\n      <td>3.0</td>\n      <td>2.0</td>\n      <td>100.0</td>\n    </tr>\n    <tr>\n      <th>62</th>\n      <td>dassault aviation</td>\n      <td>DA20F</td>\n      <td>Business</td>\n      <td>3.0</td>\n      <td>2.0</td>\n      <td>100.0</td>\n    </tr>\n    <tr>\n      <th>65</th>\n      <td>embraer</td>\n      <td>500</td>\n      <td>Personal</td>\n      <td>3.0</td>\n      <td>2.0</td>\n      <td>100.0</td>\n    </tr>\n    <tr>\n      <th>...</th>\n      <td>...</td>\n      <td>...</td>\n      <td>...</td>\n      <td>...</td>\n      <td>...</td>\n      <td>...</td>\n    </tr>\n    <tr>\n      <th>63</th>\n      <td>dassault aviation</td>\n      <td>FALCON 50</td>\n      <td>Executive/corporate</td>\n      <td>1.0</td>\n      <td>1.0</td>\n      <td>0.0</td>\n    </tr>\n    <tr>\n      <th>69</th>\n      <td>gates learjet</td>\n      <td>24F</td>\n      <td>Business</td>\n      <td>1.0</td>\n      <td>1.0</td>\n      <td>0.0</td>\n    </tr>\n    <tr>\n      <th>94</th>\n      <td>israel aircraft industries</td>\n      <td>1124</td>\n      <td>Personal</td>\n      <td>1.0</td>\n      <td>1.0</td>\n      <td>0.0</td>\n    </tr>\n    <tr>\n      <th>100</th>\n      <td>israel aircraft industries</td>\n      <td>Westwind 1124</td>\n      <td>Executive/corporate</td>\n      <td>1.0</td>\n      <td>1.0</td>\n      <td>0.0</td>\n    </tr>\n    <tr>\n      <th>97</th>\n      <td>israel aircraft industries</td>\n      <td>1124A</td>\n      <td>Personal</td>\n      <td>1.0</td>\n      <td>1.0</td>\n      <td>0.0</td>\n    </tr>\n  </tbody>\n</table>\n<p>119 rows × 6 columns</p>\n</div>"
     },
     "execution_count": 307,
     "metadata": {},
     "output_type": "execute_result"
    }
   ],
   "source": [
    "make_model_safety_scores"
   ]
  },
  {
   "cell_type": "markdown",
   "metadata": {},
   "source": []
  },
  {
   "cell_type": "code",
   "execution_count": 308,
   "metadata": {
    "ExecuteTime": {
     "start_time": "2023-04-22T12:55:52.151630Z",
     "end_time": "2023-04-22T12:55:52.194803Z"
    }
   },
   "outputs": [],
   "source": [
    "# combine the 'Make' and 'Model' columns of make_model_safety_scores into a single column\n",
    "make_model_safety_scores['Make_Model'] = make_model_safety_scores['Make'] + ' ' + make_model_safety_scores['Model']"
   ]
  },
  {
   "cell_type": "code",
   "execution_count": 309,
   "metadata": {
    "ExecuteTime": {
     "start_time": "2023-04-22T12:55:52.155177Z",
     "end_time": "2023-04-22T12:55:52.232172Z"
    }
   },
   "outputs": [
    {
     "data": {
      "text/plain": "                           Make          Model    Purpose.of.flight  \\\n118                    rockwell  SABRELINER 65  Executive/corporate   \n109                    raytheon           400A  Executive/corporate   \n61            dassault aviation        DA-900B  Executive/corporate   \n62            dassault aviation          DA20F             Business   \n65                      embraer            500             Personal   \n..                          ...            ...                  ...   \n63            dassault aviation      FALCON 50  Executive/corporate   \n69                gates learjet            24F             Business   \n94   israel aircraft industries           1124             Personal   \n100  israel aircraft industries  Westwind 1124  Executive/corporate   \n97   israel aircraft industries          1124A             Personal   \n\n     Aircraft.Damage.Points  Injury.Severity.Points  Safety.Score  \\\n118                     3.0                     2.0         100.0   \n109                     3.0                     2.0         100.0   \n61                      3.0                     2.0         100.0   \n62                      3.0                     2.0         100.0   \n65                      3.0                     2.0         100.0   \n..                      ...                     ...           ...   \n63                      1.0                     1.0           0.0   \n69                      1.0                     1.0           0.0   \n94                      1.0                     1.0           0.0   \n100                     1.0                     1.0           0.0   \n97                      1.0                     1.0           0.0   \n\n                                   Make_Model  \n118                    rockwell SABRELINER 65  \n109                             raytheon 400A  \n61                  dassault aviation DA-900B  \n62                    dassault aviation DA20F  \n65                                embraer 500  \n..                                        ...  \n63                dassault aviation FALCON 50  \n69                          gates learjet 24F  \n94            israel aircraft industries 1124  \n100  israel aircraft industries Westwind 1124  \n97           israel aircraft industries 1124A  \n\n[119 rows x 7 columns]",
      "text/html": "<div>\n<style scoped>\n    .dataframe tbody tr th:only-of-type {\n        vertical-align: middle;\n    }\n\n    .dataframe tbody tr th {\n        vertical-align: top;\n    }\n\n    .dataframe thead th {\n        text-align: right;\n    }\n</style>\n<table border=\"1\" class=\"dataframe\">\n  <thead>\n    <tr style=\"text-align: right;\">\n      <th></th>\n      <th>Make</th>\n      <th>Model</th>\n      <th>Purpose.of.flight</th>\n      <th>Aircraft.Damage.Points</th>\n      <th>Injury.Severity.Points</th>\n      <th>Safety.Score</th>\n      <th>Make_Model</th>\n    </tr>\n  </thead>\n  <tbody>\n    <tr>\n      <th>118</th>\n      <td>rockwell</td>\n      <td>SABRELINER 65</td>\n      <td>Executive/corporate</td>\n      <td>3.0</td>\n      <td>2.0</td>\n      <td>100.0</td>\n      <td>rockwell SABRELINER 65</td>\n    </tr>\n    <tr>\n      <th>109</th>\n      <td>raytheon</td>\n      <td>400A</td>\n      <td>Executive/corporate</td>\n      <td>3.0</td>\n      <td>2.0</td>\n      <td>100.0</td>\n      <td>raytheon 400A</td>\n    </tr>\n    <tr>\n      <th>61</th>\n      <td>dassault aviation</td>\n      <td>DA-900B</td>\n      <td>Executive/corporate</td>\n      <td>3.0</td>\n      <td>2.0</td>\n      <td>100.0</td>\n      <td>dassault aviation DA-900B</td>\n    </tr>\n    <tr>\n      <th>62</th>\n      <td>dassault aviation</td>\n      <td>DA20F</td>\n      <td>Business</td>\n      <td>3.0</td>\n      <td>2.0</td>\n      <td>100.0</td>\n      <td>dassault aviation DA20F</td>\n    </tr>\n    <tr>\n      <th>65</th>\n      <td>embraer</td>\n      <td>500</td>\n      <td>Personal</td>\n      <td>3.0</td>\n      <td>2.0</td>\n      <td>100.0</td>\n      <td>embraer 500</td>\n    </tr>\n    <tr>\n      <th>...</th>\n      <td>...</td>\n      <td>...</td>\n      <td>...</td>\n      <td>...</td>\n      <td>...</td>\n      <td>...</td>\n      <td>...</td>\n    </tr>\n    <tr>\n      <th>63</th>\n      <td>dassault aviation</td>\n      <td>FALCON 50</td>\n      <td>Executive/corporate</td>\n      <td>1.0</td>\n      <td>1.0</td>\n      <td>0.0</td>\n      <td>dassault aviation FALCON 50</td>\n    </tr>\n    <tr>\n      <th>69</th>\n      <td>gates learjet</td>\n      <td>24F</td>\n      <td>Business</td>\n      <td>1.0</td>\n      <td>1.0</td>\n      <td>0.0</td>\n      <td>gates learjet 24F</td>\n    </tr>\n    <tr>\n      <th>94</th>\n      <td>israel aircraft industries</td>\n      <td>1124</td>\n      <td>Personal</td>\n      <td>1.0</td>\n      <td>1.0</td>\n      <td>0.0</td>\n      <td>israel aircraft industries 1124</td>\n    </tr>\n    <tr>\n      <th>100</th>\n      <td>israel aircraft industries</td>\n      <td>Westwind 1124</td>\n      <td>Executive/corporate</td>\n      <td>1.0</td>\n      <td>1.0</td>\n      <td>0.0</td>\n      <td>israel aircraft industries Westwind 1124</td>\n    </tr>\n    <tr>\n      <th>97</th>\n      <td>israel aircraft industries</td>\n      <td>1124A</td>\n      <td>Personal</td>\n      <td>1.0</td>\n      <td>1.0</td>\n      <td>0.0</td>\n      <td>israel aircraft industries 1124A</td>\n    </tr>\n  </tbody>\n</table>\n<p>119 rows × 7 columns</p>\n</div>"
     },
     "execution_count": 309,
     "metadata": {},
     "output_type": "execute_result"
    }
   ],
   "source": [
    "make_model_safety_scores"
   ]
  },
  {
   "cell_type": "markdown",
   "metadata": {},
   "source": []
  },
  {
   "cell_type": "markdown",
   "metadata": {},
   "source": []
  },
  {
   "cell_type": "code",
   "execution_count": 310,
   "metadata": {
    "ExecuteTime": {
     "start_time": "2023-04-22T12:55:52.169401Z",
     "end_time": "2023-04-22T12:55:52.232347Z"
    }
   },
   "outputs": [],
   "source": [
    "# output make_model_safety_scores to a csv file that will later be imported into Tableau\n",
    "make_model_safety_scores.to_csv('data/make_model_safety_scores.csv', index=False)"
   ]
  },
  {
   "cell_type": "markdown",
   "metadata": {},
   "source": [
    "# Looking into Weather Conditions and Crashes"
   ]
  },
  {
   "cell_type": "code",
   "execution_count": 313,
   "metadata": {
    "ExecuteTime": {
     "start_time": "2023-04-22T12:55:52.202444Z",
     "end_time": "2023-04-22T12:55:52.291833Z"
    }
   },
   "outputs": [
    {
     "data": {
      "text/plain": "VMC    65435\nIMC     5645\nUNK      821\nUnk      234\nName: Weather.Condition, dtype: int64"
     },
     "execution_count": 313,
     "metadata": {},
     "output_type": "execute_result"
    }
   ],
   "source": [
    "Qdf1['Weather.Condition'].value_counts()"
   ]
  },
  {
   "cell_type": "code",
   "execution_count": 314,
   "metadata": {
    "ExecuteTime": {
     "start_time": "2023-04-22T12:55:52.216005Z",
     "end_time": "2023-04-22T12:55:52.337135Z"
    }
   },
   "outputs": [],
   "source": [
    "#UNK and Unk are the same. I am going to combine both.\n",
    "Qdf1.loc[:,'Weather.Condition']=Qdf1.loc[:,'Weather.Condition'].str.strip().str.upper()"
   ]
  },
  {
   "cell_type": "code",
   "execution_count": 315,
   "metadata": {
    "ExecuteTime": {
     "start_time": "2023-04-22T12:55:52.255642Z",
     "end_time": "2023-04-22T12:55:52.602353Z"
    }
   },
   "outputs": [
    {
     "data": {
      "text/plain": "(array([ 1055.,     0.,     0.,  5645.,     0.,     0., 65435.,     0.,\n            0.,  3852.]),\n array([0. , 0.3, 0.6, 0.9, 1.2, 1.5, 1.8, 2.1, 2.4, 2.7, 3. ]),\n <BarContainer object of 10 artists>)"
     },
     "execution_count": 315,
     "metadata": {},
     "output_type": "execute_result"
    },
    {
     "data": {
      "text/plain": "<Figure size 432x288 with 1 Axes>",
      "image/png": "[encoded data removed]"
     },
     "metadata": {},
     "output_type": "display_data"
    }
   ],
   "source": [
    "plt.hist(Qdf1['Weather.Condition'])"
   ]
  },
  {
   "cell_type": "markdown",
   "metadata": {},
   "source": [
    "Looks like VMC has the most counts.\n",
    "From googling: \n",
    "VMC: Visual Meteorological Conditions. Clear conditions. Visibility more than 5km, min. cloudbase 1500 ft\n",
    "IMC: Instrument Meteorogical Conditions, is weather that require the use of instruments, typically cloudy or low visibility. These data points seems like extreme weather conditions or unclear conditions."
   ]
  },
  {
   "cell_type": "code",
   "execution_count": 316,
   "metadata": {
    "ExecuteTime": {
     "start_time": "2023-04-22T12:55:52.601689Z",
     "end_time": "2023-04-22T12:55:52.609789Z"
    }
   },
   "outputs": [],
   "source": [
    "Qdf1.loc[:,'Weather.Condition'] =Qdf1.loc[:,'Weather.Condition'].fillna('VMC')"
   ]
  },
  {
   "cell_type": "code",
   "execution_count": 317,
   "metadata": {
    "ExecuteTime": {
     "start_time": "2023-04-22T12:55:52.610975Z",
     "end_time": "2023-04-22T12:55:52.930024Z"
    }
   },
   "outputs": [
    {
     "data": {
      "text/plain": "Text(0.5, 1.0, 'Weather Conditions with Crashes Counts')"
     },
     "execution_count": 317,
     "metadata": {},
     "output_type": "execute_result"
    },
    {
     "data": {
      "text/plain": "<Figure size 432x288 with 1 Axes>",
      "image/png": "[encoded data removed]"
     },
     "metadata": {},
     "output_type": "display_data"
    }
   ],
   "source": [
    "plt.hist(Qdf1['Weather.Condition'])\n",
    "plt.xlabel('Weather Conditions')\n",
    "plt.ylabel('Crashes')\n",
    "plt.title('Weather Conditions with Crashes Counts')"
   ]
  },
  {
   "cell_type": "code",
   "execution_count": 318,
   "metadata": {
    "ExecuteTime": {
     "start_time": "2023-04-22T12:55:52.940295Z",
     "end_time": "2023-04-22T12:55:52.943079Z"
    }
   },
   "outputs": [
    {
     "data": {
      "text/plain": "VMC    0.911827\nIMC    0.074289\nUNK    0.013884\nName: Weather.Condition, dtype: float64"
     },
     "execution_count": 318,
     "metadata": {},
     "output_type": "execute_result"
    }
   ],
   "source": [
    "Qdf1['Weather.Condition'].value_counts(normalize=True)"
   ]
  },
  {
   "cell_type": "markdown",
   "metadata": {},
   "source": [
    "Conclusion: 92% of crashes happened under VMC, or clear conditions."
   ]
  },
  {
   "cell_type": "markdown",
   "metadata": {},
   "source": [
    "# Look into weather conditions and aircraft damage"
   ]
  },
  {
   "cell_type": "code",
   "execution_count": 319,
   "metadata": {
    "ExecuteTime": {
     "start_time": "2023-04-22T12:55:52.946709Z",
     "end_time": "2023-04-22T12:55:53.058290Z"
    }
   },
   "outputs": [
    {
     "data": {
      "text/plain": "<Figure size 720x576 with 1 Axes>",
      "image/png": "[encoded data removed]"
     },
     "metadata": {},
     "output_type": "display_data"
    }
   ],
   "source": [
    "Qdf3 = Qdf1.groupby(['Weather.Condition', 'Aircraft.damage']).size().unstack()\n",
    "Qdf3.plot(kind='bar', stacked=True, figsize=(10,8))\n",
    "plt.xlabel('Weather.Condition')\n",
    "plt.ylabel('Number of Crashes')\n",
    "plt.title('Frequency of Crashes by Weather.Condition and Aircraft Damage')\n",
    "plt.show()"
   ]
  },
  {
   "cell_type": "markdown",
   "metadata": {},
   "source": [
    "It seems like weather does have correlation with aircraft damage."
   ]
  },
  {
   "cell_type": "markdown",
   "metadata": {},
   "source": [
    "IMC has greater ratio for destroyed damage level."
   ]
  },
  {
   "cell_type": "markdown",
   "metadata": {},
   "source": [
    "# To Further Discover weather condition & damage level"
   ]
  },
  {
   "cell_type": "code",
   "execution_count": 320,
   "metadata": {
    "ExecuteTime": {
     "start_time": "2023-04-22T12:55:53.058611Z",
     "end_time": "2023-04-22T12:55:53.073304Z"
    }
   },
   "outputs": [],
   "source": [
    "Qdf1.loc[:,'Aircraft.damage'] = Qdf1.loc[:,'Aircraft.damage'].fillna(pd.Series(np.random.choice([\n",
    "    'Destroyed','Substantial','Minor'], \n",
    "    p =[0.22,0.75,0.03], size= len(Qdf1))))"
   ]
  },
  {
   "cell_type": "code",
   "execution_count": 321,
   "metadata": {
    "ExecuteTime": {
     "start_time": "2023-04-22T12:55:53.079811Z",
     "end_time": "2023-04-22T12:55:53.121009Z"
    }
   },
   "outputs": [
    {
     "data": {
      "text/plain": "Substantial    0.782855\nDestroyed      0.182025\nMinor          0.033688\nUnknown        0.001432\nName: Aircraft.damage, dtype: float64"
     },
     "execution_count": 321,
     "metadata": {},
     "output_type": "execute_result"
    }
   ],
   "source": [
    "Qdf1[Qdf1['Weather.Condition'] == \"VMC\"]['Aircraft.damage'].value_counts(normalize=True)"
   ]
  },
  {
   "cell_type": "markdown",
   "metadata": {},
   "source": [
    "Under VMC weather condition, clear condition, substantial damage is 78%, while destroyed damage is 19%."
   ]
  },
  {
   "cell_type": "code",
   "execution_count": 322,
   "metadata": {
    "ExecuteTime": {
     "start_time": "2023-04-22T12:55:53.113183Z",
     "end_time": "2023-04-22T12:55:53.121253Z"
    }
   },
   "outputs": [
    {
     "data": {
      "text/plain": "Destroyed      0.574097\nSubstantial    0.397438\nMinor          0.028465\nName: Aircraft.damage, dtype: float64"
     },
     "execution_count": 322,
     "metadata": {},
     "output_type": "execute_result"
    }
   ],
   "source": [
    "Qdf1[Qdf1['Weather.Condition'] == \"IMC\"]['Aircraft.damage'].value_counts(normalize=True)"
   ]
  },
  {
   "cell_type": "markdown",
   "metadata": {},
   "source": [
    "Under VMC weather condition, clear condition, substantial damage is 78%, while destroyed damage is 19%.\n",
    "\n",
    "Under IMC weather condition, unclear condition, substantial damage is 57%, while destroyed damage is 41%.\n",
    "\n",
    "Conclusion: under unclear condition or IMC, degree of damage is much greater than under clear condition or VMC.b"
   ]
  },
  {
   "cell_type": "markdown",
   "metadata": {},
   "source": [
    "Qdf1 has partial cleaned up columns 'Make','Weather.Condition','Purpose.of.flight','Engine.Type','Aircraft.damage',\n",
    "and a new column 'Make_and_Model'."
   ]
  },
  {
   "cell_type": "markdown",
   "metadata": {},
   "source": [
    "# Engine Type Analysis"
   ]
  },
  {
   "cell_type": "code",
   "execution_count": 323,
   "metadata": {
    "ExecuteTime": {
     "start_time": "2023-04-22T12:55:53.121426Z",
     "end_time": "2023-04-22T12:55:53.127651Z"
    }
   },
   "outputs": [],
   "source": [
    "#calculate crash percentage for each number of engines\n",
    "AC_engines = Sdf[\"Number.of.Engines\"].value_counts()\n",
    "ENG_total = AC_engines.sum()\n",
    "AC_ENG_percentage = (AC_engines / ENG_total * 100).sort_values()"
   ]
  },
  {
   "cell_type": "code",
   "execution_count": 324,
   "metadata": {
    "ExecuteTime": {
     "start_time": "2023-04-22T12:55:53.126051Z",
     "end_time": "2023-04-22T12:55:53.130531Z"
    }
   },
   "outputs": [],
   "source": [
    "#create a new dataframe for crash percentages\n",
    "ENG_num_data = AC_ENG_percentage.reset_index()\n",
    "ENG_num_data.columns= ['Num_Engines', 'Crash_Percentage']\n",
    "ENG_num_data = ENG_num_data.sort_values('Num_Engines', ascending=True)"
   ]
  },
  {
   "cell_type": "code",
   "execution_count": 325,
   "metadata": {
    "ExecuteTime": {
     "start_time": "2023-04-22T12:55:53.130804Z",
     "end_time": "2023-04-22T12:55:53.133010Z"
    }
   },
   "outputs": [],
   "source": [
    "#calculate diminishing risk per extra engine\n",
    "prev_percentage = 0\n",
    "diminishing_risk = []\n",
    "for index, row in ENG_num_data.iterrows():\n",
    "    engines = row[\"Num_Engines\"]\n",
    "    percentage = row[\"Crash_Percentage\"]\n",
    "    diminishing_return = prev_percentage - percentage\n",
    "    diminishing_risk.append((engines, diminishing_return))\n",
    "    prev_percentage = percentage"
   ]
  },
  {
   "cell_type": "code",
   "execution_count": 326,
   "metadata": {
    "ExecuteTime": {
     "start_time": "2023-04-22T12:55:53.195715Z",
     "end_time": "2023-04-22T12:55:53.323740Z"
    }
   },
   "outputs": [
    {
     "data": {
      "text/plain": "<Figure size 1152x432 with 1 Axes>",
      "image/png": "[encoded data removed]"
     },
     "metadata": {},
     "output_type": "display_data"
    }
   ],
   "source": [
    "sns.set()\n",
    "#this code creates a plot that visualizes change in 'diminishing value' for increasing engine count\n",
    "x = [engines for engines, diminishing_return in diminishing_risk]\n",
    "y = [diminishing_return for engines, diminishing_return in diminishing_risk]\n",
    "plt.figure(figsize=(16, 6))\n",
    "plt.plot(x, y, marker=\"o\", linestyle=\"--\", color=\"red\", label=\"Bang-Per-Buck Value, Per Additional Engine\")\n",
    "plt.axhline(-0.5, color=\"black\", linestyle=\"-\", linewidth=0.5)\n",
    "plt.text(1.6, -45, \"Purchasing a 2nd engine could\", fontsize=14, rotation=15, fontweight='bold')\n",
    "plt.text(1.6, -56, \"Decrease risk by OVER 84%\", fontsize=15, rotation=15, fontweight='bold')\n",
    "plt.text(4.5, 21, \"Minimal Change After the 3rd Engine\", fontsize=15, fontweight='bold')\n",
    "\n",
    "plt.xlabel(\"Number of Engines\", fontsize=14, ha='left', x=.12)\n",
    "plt.ylabel(\"Baseline\", fontsize=13, rotation=0, labelpad=50)\n",
    "plt.title(\"Buyer Value by Engine Count\", fontsize=16)\n",
    "plt.legend()\n",
    "plt.show()"
   ]
  },
  {
   "cell_type": "code",
   "execution_count": 327,
   "metadata": {
    "ExecuteTime": {
     "start_time": "2023-04-22T12:55:53.334125Z",
     "end_time": "2023-04-22T12:55:53.335812Z"
    }
   },
   "outputs": [],
   "source": [
    "#makes a new dataframe, to filter and rename columns for injury organizing\n",
    "Injuries = Sdf.loc[:, ['Number.of.Engines', 'Engine.Type', 'Total.Uninjured', 'Total.Fatal.Injuries', 'Total.Serious.Injuries', 'Total.Minor.Injuries', 'Purpose.of.flight']]\n",
    "Injuries['Engine.Type'].replace(['nan', 'Unknown', 'None', 'NONE', 'UNK'], 'NaN', inplace=True)\n",
    "Injuries.rename(columns={'Total.Fatal.Injuries': 'Fatalities'}, inplace=True)"
   ]
  },
  {
   "cell_type": "code",
   "execution_count": 328,
   "metadata": {
    "ExecuteTime": {
     "start_time": "2023-04-22T12:55:53.337916Z",
     "end_time": "2023-04-22T12:55:53.391444Z"
    }
   },
   "outputs": [],
   "source": [
    "# fill NaN values, then calculate total survivors\n",
    "Injuries['Total.Uninjured'] = Injuries['Total.Uninjured'].fillna(0)\n",
    "Injuries['Total.Serious.Injuries'] = Injuries['Total.Serious.Injuries'].fillna(0)\n",
    "Injuries['Total.Minor.Injuries'] = Injuries['Total.Minor.Injuries'].fillna(0)\n",
    "\n",
    "Injuries['Survivors'] = Injuries['Total.Uninjured'] + Injuries['Total.Serious.Injuries'] + Injuries['Total.Minor.Injuries']\n",
    "Injuries.drop(['Total.Uninjured', 'Total.Serious.Injuries', 'Total.Minor.Injuries'], axis=1, inplace=True)"
   ]
  },
  {
   "cell_type": "code",
   "execution_count": 329,
   "metadata": {
    "ExecuteTime": {
     "start_time": "2023-04-22T12:55:53.351861Z",
     "end_time": "2023-04-22T12:55:53.391748Z"
    }
   },
   "outputs": [],
   "source": [
    "#create 5 new dataframes by filtering individual engine types\n",
    "reciprocating_data = Injuries[Injuries['Engine.Type'] == 'Reciprocating']\n",
    "turbo_fan_data = Injuries[Injuries['Engine.Type'] == 'Turbo Fan']\n",
    "turbo_jet_data = Injuries[Injuries['Engine.Type'] == 'Turbo Jet']\n",
    "turbo_prop_data = Injuries[Injuries['Engine.Type'] == 'Turbo Prop']\n",
    "turbo_shaft_data = Injuries[Injuries['Engine.Type'] == 'Turbo Shaft']"
   ]
  },
  {
   "cell_type": "code",
   "execution_count": 330,
   "metadata": {
    "ExecuteTime": {
     "start_time": "2023-04-22T12:55:53.378089Z",
     "end_time": "2023-04-22T12:55:53.392096Z"
    }
   },
   "outputs": [],
   "source": [
    "#this code expands on 'turbo_fan_data', creating a new DF that can be used to calculate survival %\n",
    "turbo_fan_CLEAN = turbo_fan_data[['Engine.Type', 'Survivors', 'Fatalities']].copy()\n",
    "surv_TEMP = ['Survivors', 'Fatalities']\n",
    "\n",
    "#this code loops through each column in 'surv_TEMP' and replaces any 0 values with NaN in the \n",
    "for col in surv_TEMP:\n",
    "    turbo_fan_CLEAN[col] = turbo_fan_CLEAN[col].replace(0, np.nan)\n",
    "turbo_fan_CLEAN['Survivors'] = turbo_fan_CLEAN['Survivors'].fillna(0)\n",
    "turbo_fan_CLEAN['Fatalities'] = turbo_fan_CLEAN['Fatalities'].fillna(0)\n",
    "\n",
    "#then, those results are stored in these 2 variables\n",
    "total_survivorsF = turbo_fan_CLEAN['Survivors'].sum()\n",
    "total_fatalitiesF = turbo_fan_CLEAN['Fatalities'].sum()\n",
    "\n",
    "#this code calculates the total number of survivors and fatalities, then calculates the survival percentage for \n",
    "#incidents involving turbo fan engines 'total_survivors' by 'total_result', and multiplying the result by 100.\n",
    "total_resultF = total_survivorsF + total_fatalitiesF\n",
    "survival_percentageF = (total_survivorsF / total_resultF) * 100\n",
    "#the resulting percentage is stored in 'survival_percentageF'"
   ]
  },
  {
   "cell_type": "code",
   "execution_count": 331,
   "metadata": {
    "ExecuteTime": {
     "start_time": "2023-04-22T12:55:53.388253Z",
     "end_time": "2023-04-22T12:55:53.392221Z"
    }
   },
   "outputs": [
    {
     "data": {
      "text/plain": "97.57422259743915"
     },
     "execution_count": 331,
     "metadata": {},
     "output_type": "execute_result"
    }
   ],
   "source": [
    "#same, I copy/pasted 'jet' and 'J'\n",
    "turbo_jet_CLEAN = turbo_jet_data[['Engine.Type', 'Survivors', 'Fatalities']].copy()\n",
    "surv_TEMP = ['Survivors', 'Fatalities']\n",
    "for col in surv_TEMP:\n",
    "    turbo_jet_CLEAN[col] = turbo_jet_CLEAN[col].replace(0, np.nan)\n",
    "turbo_jet_CLEAN['Survivors'] = turbo_jet_CLEAN['Survivors'].fillna(0)\n",
    "turbo_jet_CLEAN['Fatalities'] = turbo_jet_CLEAN['Fatalities'].fillna(0)\n",
    "total_survivorsJ = turbo_jet_CLEAN['Survivors'].sum()\n",
    "total_fatalitiesJ = turbo_jet_CLEAN['Fatalities'].sum()\n",
    "\n",
    "total_resultJ = total_survivorsJ + total_fatalitiesJ\n",
    "survival_percentageJ = (total_survivorsJ / total_resultJ) * 100\n",
    "survival_percentageJ"
   ]
  },
  {
   "cell_type": "code",
   "execution_count": 332,
   "metadata": {
    "ExecuteTime": {
     "start_time": "2023-04-22T12:55:53.390778Z",
     "end_time": "2023-04-22T12:55:53.399251Z"
    }
   },
   "outputs": [
    {
     "data": {
      "text/plain": "87.76093794681155"
     },
     "execution_count": 332,
     "metadata": {},
     "output_type": "execute_result"
    }
   ],
   "source": [
    "#same, I copy/pasted 'prop' and 'P'\n",
    "turbo_prop_CLEAN = turbo_prop_data[['Engine.Type', 'Survivors', 'Fatalities']].copy()\n",
    "surv_TEMP = ['Survivors', 'Fatalities']\n",
    "for col in surv_TEMP:\n",
    "    turbo_prop_CLEAN[col] = turbo_prop_CLEAN[col].replace(0, np.nan)\n",
    "turbo_prop_CLEAN['Survivors'] = turbo_prop_CLEAN['Survivors'].fillna(0)\n",
    "turbo_prop_CLEAN['Fatalities'] = turbo_prop_CLEAN['Fatalities'].fillna(0)\n",
    "total_survivorsP = turbo_prop_CLEAN['Survivors'].sum()\n",
    "total_fatalitiesP = turbo_prop_CLEAN['Fatalities'].sum()\n",
    "\n",
    "total_resultP = total_survivorsP + total_fatalitiesP\n",
    "survival_percentageP = (total_survivorsP / total_resultP) * 100\n",
    "survival_percentageP"
   ]
  },
  {
   "cell_type": "code",
   "execution_count": 333,
   "metadata": {
    "ExecuteTime": {
     "start_time": "2023-04-22T12:55:53.402285Z",
     "end_time": "2023-04-22T12:55:53.406161Z"
    }
   },
   "outputs": [
    {
     "data": {
      "text/plain": "81.83863709418193"
     },
     "execution_count": 333,
     "metadata": {},
     "output_type": "execute_result"
    }
   ],
   "source": [
    "#same, I copy/pasted 'shaft' and 'S'\n",
    "turbo_shaft_CLEAN = turbo_shaft_data[['Engine.Type', 'Survivors', 'Fatalities']].copy()\n",
    "surv_TEMP = ['Survivors', 'Fatalities']\n",
    "for col in surv_TEMP:\n",
    "    turbo_shaft_CLEAN[col] = turbo_shaft_CLEAN[col].replace(0, np.nan)\n",
    "turbo_shaft_CLEAN['Survivors'] = turbo_shaft_CLEAN['Survivors'].fillna(0)\n",
    "turbo_shaft_CLEAN['Fatalities'] = turbo_shaft_CLEAN['Fatalities'].fillna(0)\n",
    "total_survivorsS = turbo_shaft_CLEAN['Survivors'].sum()\n",
    "total_fatalitiesS = turbo_shaft_CLEAN['Fatalities'].sum()\n",
    "\n",
    "total_resultS = total_survivorsS + total_fatalitiesS\n",
    "survival_percentageS = (total_survivorsS / total_resultS) * 100\n",
    "survival_percentageS"
   ]
  },
  {
   "cell_type": "code",
   "execution_count": 334,
   "metadata": {
    "ExecuteTime": {
     "start_time": "2023-04-22T12:55:53.409738Z",
     "end_time": "2023-04-22T12:55:53.451872Z"
    }
   },
   "outputs": [
    {
     "data": {
      "text/plain": "81.7682668208984"
     },
     "execution_count": 334,
     "metadata": {},
     "output_type": "execute_result"
    }
   ],
   "source": [
    "#same, I copy/pasted 'reciprocating' and 'R'\n",
    "reciprocating_CLEAN = reciprocating_data[['Engine.Type', 'Survivors', 'Fatalities']].copy()\n",
    "surv_TEMP = ['Survivors', 'Fatalities']\n",
    "for col in surv_TEMP:\n",
    "    reciprocating_CLEAN[col] = reciprocating_CLEAN[col].replace(0, np.nan)\n",
    "reciprocating_CLEAN['Survivors'] = reciprocating_CLEAN['Survivors'].fillna(0)\n",
    "reciprocating_CLEAN['Fatalities'] = reciprocating_CLEAN['Fatalities'].fillna(0)\n",
    "total_survivorsR = reciprocating_CLEAN['Survivors'].sum()\n",
    "total_fatalitiesR = reciprocating_CLEAN['Fatalities'].sum()\n",
    "\n",
    "total_resultR = total_survivorsR + total_fatalitiesR\n",
    "survival_percentageR = (total_survivorsR / total_resultR) * 100\n",
    "survival_percentageR"
   ]
  },
  {
   "cell_type": "code",
   "execution_count": 335,
   "metadata": {
    "ExecuteTime": {
     "start_time": "2023-04-22T12:55:53.418239Z",
     "end_time": "2023-04-22T12:55:53.452096Z"
    }
   },
   "outputs": [],
   "source": [
    "#this code combines the previous calcs. by passing a dictionary with column names, and corresponding values\n",
    "combined_data = pd.DataFrame({'Engine.Type': ['Turbo Fan', 'Turbo Jet', 'Turbo Prop', 'Turbo Shaft', 'Reciprocating'],\n",
    "    'Survivors': [total_survivorsF, total_survivorsJ, total_survivorsP, total_survivorsS, total_survivorsR],\n",
    "    'Fatalities': [total_fatalitiesF, total_fatalitiesJ, total_fatalitiesP, total_fatalitiesS, total_fatalitiesR]})"
   ]
  },
  {
   "cell_type": "code",
   "execution_count": 336,
   "metadata": {
    "ExecuteTime": {
     "start_time": "2023-04-22T12:55:53.422769Z",
     "end_time": "2023-04-22T12:55:53.452166Z"
    }
   },
   "outputs": [],
   "source": [
    "#this code calculates the 'Survival_Percentage' for each engine type by dividing 'Survivors' by ('Survivors' + 'Fatalities' * 100)\n",
    "combined_data['Survival_Percentage'] = (combined_data['Survivors'] / (combined_data['Survivors'] + combined_data['Fatalities'])) * 100"
   ]
  },
  {
   "cell_type": "code",
   "execution_count": 337,
   "metadata": {
    "ExecuteTime": {
     "start_time": "2023-04-22T12:55:53.426493Z",
     "end_time": "2023-04-22T12:55:53.452229Z"
    }
   },
   "outputs": [],
   "source": [
    "#this code checks and sotres fatality percentage for each engine, by subtracting 'Survival_Percentage' from 100. EASY!\n",
    "combined_data['Fatality_Percentage'] = 100 - combined_data['Survival_Percentage']"
   ]
  },
  {
   "cell_type": "code",
   "execution_count": 338,
   "metadata": {
    "ExecuteTime": {
     "start_time": "2023-04-22T12:55:53.434466Z",
     "end_time": "2023-04-22T12:55:53.552047Z"
    }
   },
   "outputs": [
    {
     "data": {
      "text/plain": "<Figure size 1008x576 with 1 Axes>",
      "image/png": "[encoded data removed]"
     },
     "metadata": {},
     "output_type": "display_data"
    }
   ],
   "source": [
    "# plot\n",
    "ax = combined_data.plot(x='Engine.Type', y=['Survival_Percentage', 'Fatality_Percentage'],\n",
    "kind='bar', stacked=True, color=['blue', 'red'], figsize=(14, 8))\n",
    "\n",
    "plt.xlabel('Engine Type', fontsize=12)\n",
    "plt.ylabel('Percentage', fontsize=12)\n",
    "plt.title('Crash Survival % Per Engine Type', fontsize=14)\n",
    "\n",
    "plt.text(-.2, 75, \"97.94%\", fontsize=14, fontweight='bold', color='white')\n",
    "plt.text(.8, 75, \"97.57%\", fontsize=14, fontweight='bold', color='white')\n",
    "plt.text(1.8, 75, \"87.76%\", fontsize=14, fontweight='bold', color='white')\n",
    "plt.text(2.8, 75, \"81.84%\", fontsize=14, fontweight='bold', color='white')\n",
    "plt.text(3.8, 75, \"81.77%\", fontsize=14, fontweight='bold', color='white')\n",
    "\n",
    "ax.legend([\"Survivors\", \"Fatalities\"], bbox_to_anchor=(.95, 1.15))\n",
    "plt.show()"
   ]
  },
  {
   "cell_type": "code",
   "execution_count": 338,
   "metadata": {
    "ExecuteTime": {
     "start_time": "2023-04-22T12:55:53.551632Z",
     "end_time": "2023-04-22T12:55:53.554164Z"
    }
   },
   "outputs": [],
   "source": []
  }
 ],
 "metadata": {
  "kernelspec": {
   "display_name": "Python 3",
   "language": "python",
   "name": "python3"
  },
  "language_info": {
   "codemirror_mode": {
    "name": "ipython",
    "version": 3
   },
   "file_extension": ".py",
   "mimetype": "text/x-python",
   "name": "python",
   "nbconvert_exporter": "python",
   "pygments_lexer": "ipython3",
   "version": "3.8.5"
  }
 },
 "nbformat": 4,
 "nbformat_minor": 1
}
