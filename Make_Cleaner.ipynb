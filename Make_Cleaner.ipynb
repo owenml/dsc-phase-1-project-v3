{
 "cells": [
  {
   "cell_type": "code",
   "execution_count": 69,
   "metadata": {
    "collapsed": true,
    "ExecuteTime": {
     "start_time": "2023-04-20T12:08:14.120416Z",
     "end_time": "2023-04-20T12:08:14.124303Z"
    }
   },
   "outputs": [],
   "source": [
    "import pandas as pd\n",
    "import numpy as np\n",
    "import matplotlib.pyplot as plt\n",
    "import seaborn as sns\n"
   ]
  },
  {
   "cell_type": "code",
   "execution_count": 70,
   "outputs": [],
   "source": [
    "# read Aviation_Data.csv located in the data folder in this directory\n",
    "df = pd.read_csv('data/Aviation_Data.csv', low_memory=False)"
   ],
   "metadata": {
    "collapsed": false,
    "ExecuteTime": {
     "start_time": "2023-04-20T12:08:14.123952Z",
     "end_time": "2023-04-20T12:08:14.554977Z"
    }
   }
  },
  {
   "cell_type": "code",
   "execution_count": 71,
   "outputs": [],
   "source": [
    "# remove all 'Make' values that occur less than 20 times\n",
    "df = df[df.groupby('Make')['Make'].transform('count') > 20]"
   ],
   "metadata": {
    "collapsed": false,
    "ExecuteTime": {
     "start_time": "2023-04-20T12:08:14.565420Z",
     "end_time": "2023-04-20T12:08:14.600210Z"
    }
   }
  },
  {
   "cell_type": "code",
   "execution_count": 72,
   "outputs": [],
   "source": [
    "# Define a function to normalize the 'Make' values\n",
    "def normalize_make(make):\n",
    "    if isinstance(make, str):\n",
    "        return make.lower().strip()\n",
    "    return make\n",
    "\n",
    "# Define a function to standardize and clean the 'Make' values\n",
    "def clean_make(make):\n",
    "    if isinstance(make, str):\n",
    "        replacements = {\n",
    "            \"beechcraft\": \"beech\",\n",
    "            \"cessna aircraft co\": \"cessna\",\n",
    "            \"robinson helicopter\": \"robinson\",\n",
    "            \"robinson helicopter co\": \"robinson\",\n",
    "            \"robinson helicopter company\": \"robinson\",\n",
    "            \"air tractor inc\": \"air tractor\",\n",
    "            \"airbus industrie\": \"airbus\",\n",
    "            \"american champion aircraft\": \"american champion\",\n",
    "            \"american\": \"american champion\",\n",
    "            \"aviat aircraft inc\": \"aviat\",\n",
    "            \"bell helicopter textron canada\": \"bell\",\n",
    "            \"bell helicopter textron\": \"bell\",\n",
    "            \"boeing stearman\": \"boeing\",\n",
    "            \"bombardier inc\": \"bombardier\",\n",
    "            \"bombardier, inc.\": \"bombardier\",\n",
    "            \"cameron\": \"cameron balloons\",\n",
    "            \"cirrus\": \"cirrus design corp\",\n",
    "            \"cirrus design corp.\": \"cirrus design corp\",\n",
    "            \"dehavilland\": \"de havilland\",\n",
    "            \"diamond\": \"diamond aircraft industries\",\n",
    "            \"diamond aircraft ind inc\": \"diamond aircraft industries\",\n",
    "            \"eurocopter france\": \"eurocopter\",\n",
    "            \"fairchild\": \"fairchild hiller\",\n",
    "            \"grumman acft eng cor-schweizer\": \"grumman\",\n",
    "            \"grumman american avn. corp.\": \"grumman\",\n",
    "            \"grumman-schweizer\": \"grumman\",\n",
    "            \"gulfstream american\": \"gulfstream\",\n",
    "            \"gulfstream-schweizer\": \"gulfstream\",\n",
    "            \"mcdonnell douglas\": \"mcdonnell douglas helicopter\",\n",
    "            \"md helicopter\": \"mcdonnell douglas helicopter\",\n",
    "            \"mooney aircraft corp.\": \"mooney\",\n",
    "            \"piper aircraft inc\": \"piper\",\n",
    "            \"robinson company\": \"robinson\",\n",
    "            \"robinson co\": \"robinson\",\n",
    "            \"rockwell international\": \"rockwell\",\n",
    "            \"smith\": \"smith, ted aerostar\",\n",
    "            \"vans aircraft\": \"vans\",\n",
    "            \"ayres corporation\": \"ayres\",\n",
    "            \"cirrus design corp\": \"cirrus\",\n",
    "            \"grumman american\": \"grumman\",\n",
    "            \"texas helicopter\": \"texas helicopter corp\",\n",
    "            \"taylorcraft\": \"taylorcraft aviation\"\n",
    "        }\n",
    "\n",
    "        if make in replacements:\n",
    "            make = replacements[make]\n",
    "\n",
    "        # Remove extra information\n",
    "        make = make.split(\"(\")[0].strip()\n",
    "        make = make.split(\" \")[0].strip() if \"ab (saab)\" in make else make\n",
    "\n",
    "    return make\n"
   ],
   "metadata": {
    "collapsed": false,
    "ExecuteTime": {
     "start_time": "2023-04-20T12:08:14.603918Z",
     "end_time": "2023-04-20T12:08:14.606044Z"
    }
   }
  },
  {
   "cell_type": "code",
   "execution_count": 73,
   "outputs": [],
   "source": [
    "# Apply the normalize_make function to the 'Make' column\n",
    "df['Make'] = df['Make'].apply(normalize_make)\n",
    "\n",
    "# Apply the clean_make function to the 'Make' column\n",
    "df['Make'] = df['Make'].apply(clean_make)\n",
    "\n",
    "# remove any value of 'unknown' in the 'Make' column\n",
    "df = df[df['Make'] != 'unknown']"
   ],
   "metadata": {
    "collapsed": false,
    "ExecuteTime": {
     "start_time": "2023-04-20T12:08:14.625526Z",
     "end_time": "2023-04-20T12:08:14.747585Z"
    }
   }
  },
  {
   "cell_type": "code",
   "execution_count": 74,
   "outputs": [
    {
     "data": {
      "text/plain": "cessna        27173\npiper         14897\nbeech          5397\nboeing         2796\nbell           2766\n              ...  \npzl-mielec       22\nbarnes           22\ngarlick          22\nbae              21\ntemco            21\nName: Make, Length: 120, dtype: int64"
     },
     "execution_count": 74,
     "metadata": {},
     "output_type": "execute_result"
    }
   ],
   "source": [
    "# print the number of times each 'Make' value occurs\n",
    "df['Make'].value_counts()"
   ],
   "metadata": {
    "collapsed": false,
    "ExecuteTime": {
     "start_time": "2023-04-20T12:08:14.760078Z",
     "end_time": "2023-04-20T12:08:14.762910Z"
    }
   }
  },
  {
   "cell_type": "code",
   "execution_count": 75,
   "outputs": [
    {
     "data": {
      "text/plain": "         Event.Id Investigation.Type Accident.Number  Event.Date  \\\n0  20001218X45444           Accident      SEA87LA080  1948-10-24   \n1  20001218X45447           Accident      LAX94LA336  1962-07-19   \n2  20061025X01555           Accident      NYC07LA005  1974-08-30   \n3  20001218X45448           Accident      LAX96LA321  1977-06-19   \n4  20041105X01764           Accident      CHI79FA064  1979-08-02   \n\n          Location        Country   Latitude   Longitude Airport.Code  \\\n0  MOOSE CREEK, ID  United States        NaN         NaN          NaN   \n1   BRIDGEPORT, CA  United States        NaN         NaN          NaN   \n2    Saltville, VA  United States  36.922223  -81.878056          NaN   \n3       EUREKA, CA  United States        NaN         NaN          NaN   \n4       Canton, OH  United States        NaN         NaN          NaN   \n\n  Airport.Name  ... Purpose.of.flight Air.carrier Total.Fatal.Injuries  \\\n0          NaN  ...          Personal         NaN                  2.0   \n1          NaN  ...          Personal         NaN                  4.0   \n2          NaN  ...          Personal         NaN                  3.0   \n3          NaN  ...          Personal         NaN                  2.0   \n4          NaN  ...          Personal         NaN                  1.0   \n\n  Total.Serious.Injuries Total.Minor.Injuries Total.Uninjured  \\\n0                    0.0                  0.0             0.0   \n1                    0.0                  0.0             0.0   \n2                    NaN                  NaN             NaN   \n3                    0.0                  0.0             0.0   \n4                    2.0                  NaN             0.0   \n\n  Weather.Condition  Broad.phase.of.flight   Report.Status Publication.Date  \n0               UNK                 Cruise  Probable Cause              NaN  \n1               UNK                Unknown  Probable Cause       19-09-1996  \n2               IMC                 Cruise  Probable Cause       26-02-2007  \n3               IMC                 Cruise  Probable Cause       12-09-2000  \n4               VMC               Approach  Probable Cause       16-04-1980  \n\n[5 rows x 31 columns]",
      "text/html": "<div>\n<style scoped>\n    .dataframe tbody tr th:only-of-type {\n        vertical-align: middle;\n    }\n\n    .dataframe tbody tr th {\n        vertical-align: top;\n    }\n\n    .dataframe thead th {\n        text-align: right;\n    }\n</style>\n<table border=\"1\" class=\"dataframe\">\n  <thead>\n    <tr style=\"text-align: right;\">\n      <th></th>\n      <th>Event.Id</th>\n      <th>Investigation.Type</th>\n      <th>Accident.Number</th>\n      <th>Event.Date</th>\n      <th>Location</th>\n      <th>Country</th>\n      <th>Latitude</th>\n      <th>Longitude</th>\n      <th>Airport.Code</th>\n      <th>Airport.Name</th>\n      <th>...</th>\n      <th>Purpose.of.flight</th>\n      <th>Air.carrier</th>\n      <th>Total.Fatal.Injuries</th>\n      <th>Total.Serious.Injuries</th>\n      <th>Total.Minor.Injuries</th>\n      <th>Total.Uninjured</th>\n      <th>Weather.Condition</th>\n      <th>Broad.phase.of.flight</th>\n      <th>Report.Status</th>\n      <th>Publication.Date</th>\n    </tr>\n  </thead>\n  <tbody>\n    <tr>\n      <th>0</th>\n      <td>20001218X45444</td>\n      <td>Accident</td>\n      <td>SEA87LA080</td>\n      <td>1948-10-24</td>\n      <td>MOOSE CREEK, ID</td>\n      <td>United States</td>\n      <td>NaN</td>\n      <td>NaN</td>\n      <td>NaN</td>\n      <td>NaN</td>\n      <td>...</td>\n      <td>Personal</td>\n      <td>NaN</td>\n      <td>2.0</td>\n      <td>0.0</td>\n      <td>0.0</td>\n      <td>0.0</td>\n      <td>UNK</td>\n      <td>Cruise</td>\n      <td>Probable Cause</td>\n      <td>NaN</td>\n    </tr>\n    <tr>\n      <th>1</th>\n      <td>20001218X45447</td>\n      <td>Accident</td>\n      <td>LAX94LA336</td>\n      <td>1962-07-19</td>\n      <td>BRIDGEPORT, CA</td>\n      <td>United States</td>\n      <td>NaN</td>\n      <td>NaN</td>\n      <td>NaN</td>\n      <td>NaN</td>\n      <td>...</td>\n      <td>Personal</td>\n      <td>NaN</td>\n      <td>4.0</td>\n      <td>0.0</td>\n      <td>0.0</td>\n      <td>0.0</td>\n      <td>UNK</td>\n      <td>Unknown</td>\n      <td>Probable Cause</td>\n      <td>19-09-1996</td>\n    </tr>\n    <tr>\n      <th>2</th>\n      <td>20061025X01555</td>\n      <td>Accident</td>\n      <td>NYC07LA005</td>\n      <td>1974-08-30</td>\n      <td>Saltville, VA</td>\n      <td>United States</td>\n      <td>36.922223</td>\n      <td>-81.878056</td>\n      <td>NaN</td>\n      <td>NaN</td>\n      <td>...</td>\n      <td>Personal</td>\n      <td>NaN</td>\n      <td>3.0</td>\n      <td>NaN</td>\n      <td>NaN</td>\n      <td>NaN</td>\n      <td>IMC</td>\n      <td>Cruise</td>\n      <td>Probable Cause</td>\n      <td>26-02-2007</td>\n    </tr>\n    <tr>\n      <th>3</th>\n      <td>20001218X45448</td>\n      <td>Accident</td>\n      <td>LAX96LA321</td>\n      <td>1977-06-19</td>\n      <td>EUREKA, CA</td>\n      <td>United States</td>\n      <td>NaN</td>\n      <td>NaN</td>\n      <td>NaN</td>\n      <td>NaN</td>\n      <td>...</td>\n      <td>Personal</td>\n      <td>NaN</td>\n      <td>2.0</td>\n      <td>0.0</td>\n      <td>0.0</td>\n      <td>0.0</td>\n      <td>IMC</td>\n      <td>Cruise</td>\n      <td>Probable Cause</td>\n      <td>12-09-2000</td>\n    </tr>\n    <tr>\n      <th>4</th>\n      <td>20041105X01764</td>\n      <td>Accident</td>\n      <td>CHI79FA064</td>\n      <td>1979-08-02</td>\n      <td>Canton, OH</td>\n      <td>United States</td>\n      <td>NaN</td>\n      <td>NaN</td>\n      <td>NaN</td>\n      <td>NaN</td>\n      <td>...</td>\n      <td>Personal</td>\n      <td>NaN</td>\n      <td>1.0</td>\n      <td>2.0</td>\n      <td>NaN</td>\n      <td>0.0</td>\n      <td>VMC</td>\n      <td>Approach</td>\n      <td>Probable Cause</td>\n      <td>16-04-1980</td>\n    </tr>\n  </tbody>\n</table>\n<p>5 rows × 31 columns</p>\n</div>"
     },
     "execution_count": 75,
     "metadata": {},
     "output_type": "execute_result"
    }
   ],
   "source": [
    "# testing to see that dataset still is intact after cleaning\n",
    "df.head()"
   ],
   "metadata": {
    "collapsed": false,
    "ExecuteTime": {
     "start_time": "2023-04-20T12:08:14.774441Z",
     "end_time": "2023-04-20T12:08:14.779027Z"
    }
   }
  }
 ],
 "metadata": {
  "kernelspec": {
   "display_name": "Python 3",
   "language": "python",
   "name": "python3"
  },
  "language_info": {
   "codemirror_mode": {
    "name": "ipython",
    "version": 2
   },
   "file_extension": ".py",
   "mimetype": "text/x-python",
   "name": "python",
   "nbconvert_exporter": "python",
   "pygments_lexer": "ipython2",
   "version": "2.7.6"
  }
 },
 "nbformat": 4,
 "nbformat_minor": 0
}
